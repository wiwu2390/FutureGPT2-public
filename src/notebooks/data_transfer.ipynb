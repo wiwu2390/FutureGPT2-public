{
 "cells": [
  {
   "cell_type": "code",
   "execution_count": 1,
   "id": "f41e557e-f922-43a8-9a9f-d871cf541028",
   "metadata": {},
   "outputs": [],
   "source": [
    "# need to do this before transformer imports\n",
    "import os\n",
    "os.environ['HF_HOME'] = '/workspace/cache/huggingface/'"
   ]
  },
  {
   "cell_type": "code",
   "execution_count": 2,
   "id": "d850e51f-fb53-45ff-b3b0-b163ef66f148",
   "metadata": {},
   "outputs": [],
   "source": [
    "import os\n",
    "os.chdir('/workspace/FutureGPT2/src/')\n",
    "from evals.utils import *\n",
    "from models.bigram_model import *\n",
    "from models.mlp_model import *\n",
    "from models.future_model import *\n",
    "from data.utils import get_tokenizer, get_loader\n",
    "import datasets\n",
    "from torch.utils.data import DataLoader\n",
    "from torch import nn\n",
    "from itertools import islice\n",
    "from transformers import AutoConfig, AutoModelForCausalLM, AutoTokenizer\n",
    "from datasets import Dataset\n",
    "from matplotlib import pyplot as plt\n",
    "\n",
    "from tqdm import tqdm\n",
    "import pandas as pd\n",
    "import gc\n",
    "from glob import glob\n",
    "from collections import defaultdict\n",
    "\n",
    "%load_ext autoreload\n",
    "%autoreload 2"
   ]
  },
  {
   "cell_type": "code",
   "execution_count": 3,
   "id": "f620a08b-258e-4e8d-bde6-4d8a0191e21d",
   "metadata": {},
   "outputs": [],
   "source": [
    "import warnings\n",
    "warnings.filterwarnings(\"ignore\")"
   ]
  },
  {
   "cell_type": "code",
   "execution_count": 17,
   "id": "1f8300b8-2389-4b72-a10e-64c7ac3a5e63",
   "metadata": {},
   "outputs": [],
   "source": [
    "ds_names = [\n",
    "    'rand',\n",
    "    'ArXiv',\n",
    "    'Enron Emails',\n",
    "    'FreeLaw',\n",
    "    'HackerNews',\n",
    "    'OpenSubtitles',\n",
    "    'PubMed Abstracts',\n",
    "    'UPSTO Backgrounds',\n",
    "    #'DM Mathematics',\n",
    "    'EuroParl',\n",
    "    'Github',\n",
    "    #'NIH ExPorter',\n",
    "    'OpenWebText2',\n",
    "    'StackExchange',\n",
    "    'Wikipedia (en)',\n",
    "    'YoutubeSubtitles',\n",
    "]\n",
    "\n",
    "ds_short_names = [\n",
    "    'rand',\n",
    "    'ArXiv',\n",
    "    'Enron',\n",
    "    'FreeLaw',\n",
    "    'HackerNews',\n",
    "    'OpenSubs',\n",
    "    'PubMed',\n",
    "    'UPSTO',\n",
    "    #'DM Math',\n",
    "    'EuroParl',\n",
    "    'Github',\n",
    "    #'NIH',\n",
    "    'OWebText',\n",
    "    'StackEx.',\n",
    "    'Wikipedia',\n",
    "    'Youtube',\n",
    "]"
   ]
  },
  {
   "cell_type": "code",
   "execution_count": 5,
   "id": "ae418a29-9738-4696-915a-99f2f45c6fcb",
   "metadata": {},
   "outputs": [],
   "source": [
    "tokenizer = get_tokenizer('mistralai/Mistral-7B-v0.1')"
   ]
  },
  {
   "cell_type": "code",
   "execution_count": 6,
   "id": "71f2fb62-0da7-4441-adbd-93cf03083cf9",
   "metadata": {},
   "outputs": [],
   "source": [
    "def get_model(ds_name):\n",
    "    ckpt = glob(f'/workspace/checkpoints/MISTRAL-PILE-SWEEP_*_dataset_name-{ds_name}_hidden_idxs-31_hidden_lb-0_neck_cls-mlp_token_lb-0_*.ckpt')[0]\n",
    "    return LitFutureModelWithNeck.load_from_checkpoint(ckpt, strict=False)"
   ]
  },
  {
   "cell_type": "code",
   "execution_count": 7,
   "id": "6bc46d65-719f-4b75-806d-0dba653383c0",
   "metadata": {},
   "outputs": [],
   "source": [
    "def to_cuda(batch):\n",
    "    for k in ['input_ids', 'attention_mask']:\n",
    "        batch[k] = batch[k].to('cuda')\n",
    "    return batch"
   ]
  },
  {
   "cell_type": "code",
   "execution_count": null,
   "id": "4ffe3941-81a8-40a9-a85a-e1e327d7b829",
   "metadata": {},
   "outputs": [],
   "source": [
    "for ds_name in ds_names:\n",
    "    print(ds_name)\n",
    "    loader = get_loader(ds_name, 'MISTRAL', shuffle=True)['val']\n",
    "    sample = next(iter(loader))\n",
    "    if 'text' in sample:\n",
    "        for i in range(5):\n",
    "            print(sample['text'][i])\n",
    "    else:\n",
    "        for i in range(5):\n",
    "            print(tokenizer.decode(sample['input_ids'][i]))\n",
    "    print('\\n\\n')"
   ]
  },
  {
   "cell_type": "code",
   "execution_count": 18,
   "id": "1187257f-b60d-4522-af92-7a09776b6810",
   "metadata": {},
   "outputs": [
    {
     "name": "stdout",
     "output_type": "stream",
     "text": [
      "MODEL rand\n",
      "done already; skipping...\n",
      "MODEL ArXiv\n",
      "done already; skipping...\n",
      "MODEL Enron Emails\n",
      "done already; skipping...\n",
      "MODEL FreeLaw\n",
      "done already; skipping...\n",
      "MODEL HackerNews\n",
      "done already; skipping...\n",
      "MODEL OpenSubtitles\n",
      "done already; skipping...\n",
      "MODEL PubMed Abstracts\n",
      "done already; skipping...\n",
      "MODEL UPSTO Backgrounds\n",
      "done already; skipping...\n",
      "MODEL EuroParl\n"
     ]
    },
    {
     "data": {
      "application/vnd.jupyter.widget-view+json": {
       "model_id": "78b868b7408e4ae49abd51cc615b3627",
       "version_major": 2,
       "version_minor": 0
      },
      "text/plain": [
       "Loading checkpoint shards:   0%|          | 0/2 [00:00<?, ?it/s]"
      ]
     },
     "metadata": {},
     "output_type": "display_data"
    },
    {
     "name": "stdout",
     "output_type": "stream",
     "text": [
      "DATA rand\n"
     ]
    },
    {
     "name": "stderr",
     "output_type": "stream",
     "text": [
      "100%|██████████| 10/10 [01:03<00:00,  6.37s/it]\n"
     ]
    },
    {
     "name": "stdout",
     "output_type": "stream",
     "text": [
      "base_loss 12.609772205352783\n",
      "self_loss 9.450024604797363\n",
      "future_loss 12.11408748626709\n",
      "\n",
      "DATA ArXiv\n"
     ]
    },
    {
     "name": "stderr",
     "output_type": "stream",
     "text": [
      "100%|██████████| 10/10 [01:04<00:00,  6.47s/it]\n"
     ]
    },
    {
     "name": "stdout",
     "output_type": "stream",
     "text": [
      "base_loss 2.5708272218704225\n",
      "self_loss 6.697222900390625\n",
      "future_loss 6.76674599647522\n",
      "\n",
      "DATA Enron Emails\n"
     ]
    },
    {
     "name": "stderr",
     "output_type": "stream",
     "text": [
      "100%|██████████| 10/10 [01:04<00:00,  6.49s/it]\n"
     ]
    },
    {
     "name": "stdout",
     "output_type": "stream",
     "text": [
      "base_loss 2.9236831426620484\n",
      "self_loss 5.9757468700408936\n",
      "future_loss 5.987446117401123\n",
      "\n",
      "DATA FreeLaw\n"
     ]
    },
    {
     "name": "stderr",
     "output_type": "stream",
     "text": [
      "100%|██████████| 10/10 [01:05<00:00,  6.53s/it]\n"
     ]
    },
    {
     "name": "stdout",
     "output_type": "stream",
     "text": [
      "base_loss 2.011677098274231\n",
      "self_loss 5.794210481643677\n",
      "future_loss 5.816886043548584\n",
      "\n",
      "DATA HackerNews\n"
     ]
    },
    {
     "name": "stderr",
     "output_type": "stream",
     "text": [
      "100%|██████████| 10/10 [01:05<00:00,  6.50s/it]\n"
     ]
    },
    {
     "name": "stdout",
     "output_type": "stream",
     "text": [
      "base_loss 2.950989270210266\n",
      "self_loss 6.355399799346924\n",
      "future_loss 6.442558336257934\n",
      "\n",
      "DATA OpenSubtitles\n"
     ]
    },
    {
     "name": "stderr",
     "output_type": "stream",
     "text": [
      "100%|██████████| 10/10 [01:04<00:00,  6.49s/it]\n"
     ]
    },
    {
     "name": "stdout",
     "output_type": "stream",
     "text": [
      "base_loss 2.9496663331985475\n",
      "self_loss 6.428401708602905\n",
      "future_loss 6.4963373184204105\n",
      "\n",
      "DATA PubMed Abstracts\n"
     ]
    },
    {
     "name": "stderr",
     "output_type": "stream",
     "text": [
      "100%|██████████| 10/10 [01:04<00:00,  6.50s/it]\n"
     ]
    },
    {
     "name": "stdout",
     "output_type": "stream",
     "text": [
      "base_loss 2.25937819480896\n",
      "self_loss 6.459711360931396\n",
      "future_loss 6.468631601333618\n",
      "\n",
      "DATA UPSTO Backgrounds\n"
     ]
    },
    {
     "name": "stderr",
     "output_type": "stream",
     "text": [
      "100%|██████████| 10/10 [01:05<00:00,  6.50s/it]\n"
     ]
    },
    {
     "name": "stdout",
     "output_type": "stream",
     "text": [
      "base_loss 2.412792372703552\n",
      "self_loss 6.250338935852051\n",
      "future_loss 6.313852071762085\n",
      "\n",
      "DATA EuroParl\n"
     ]
    },
    {
     "name": "stderr",
     "output_type": "stream",
     "text": [
      "100%|██████████| 10/10 [01:04<00:00,  6.49s/it]\n"
     ]
    },
    {
     "name": "stdout",
     "output_type": "stream",
     "text": [
      "base_loss 2.658074951171875\n",
      "self_loss 4.3645094871521\n",
      "future_loss 4.193184232711792\n",
      "\n",
      "DATA Github\n"
     ]
    },
    {
     "name": "stderr",
     "output_type": "stream",
     "text": [
      "100%|██████████| 10/10 [01:05<00:00,  6.50s/it]\n"
     ]
    },
    {
     "name": "stdout",
     "output_type": "stream",
     "text": [
      "base_loss 1.5997249245643617\n",
      "self_loss 7.077572441101074\n",
      "future_loss 7.099651861190796\n",
      "\n",
      "DATA OpenWebText2\n"
     ]
    },
    {
     "name": "stderr",
     "output_type": "stream",
     "text": [
      "100%|██████████| 10/10 [01:04<00:00,  6.49s/it]\n"
     ]
    },
    {
     "name": "stdout",
     "output_type": "stream",
     "text": [
      "base_loss 2.4773062467575073\n",
      "self_loss 6.155214548110962\n",
      "future_loss 6.143601369857788\n",
      "\n",
      "DATA StackExchange\n"
     ]
    },
    {
     "name": "stderr",
     "output_type": "stream",
     "text": [
      "100%|██████████| 10/10 [01:04<00:00,  6.49s/it]\n"
     ]
    },
    {
     "name": "stdout",
     "output_type": "stream",
     "text": [
      "base_loss 2.3796822786331178\n",
      "self_loss 6.600138187408447\n",
      "future_loss 6.6208781719207765\n",
      "\n",
      "DATA Wikipedia (en)\n"
     ]
    },
    {
     "name": "stderr",
     "output_type": "stream",
     "text": [
      "100%|██████████| 10/10 [01:05<00:00,  6.51s/it]\n"
     ]
    },
    {
     "name": "stdout",
     "output_type": "stream",
     "text": [
      "base_loss 2.102554774284363\n",
      "self_loss 5.843559122085571\n",
      "future_loss 5.826313781738281\n",
      "\n",
      "DATA YoutubeSubtitles\n"
     ]
    },
    {
     "name": "stderr",
     "output_type": "stream",
     "text": [
      "100%|██████████| 10/10 [01:05<00:00,  6.50s/it]\n"
     ]
    },
    {
     "name": "stdout",
     "output_type": "stream",
     "text": [
      "base_loss 2.6938875675201417\n",
      "self_loss 6.518565225601196\n",
      "future_loss 6.530020093917846\n",
      "\n",
      "\n",
      "-------------------------\n",
      "MODEL Github\n"
     ]
    },
    {
     "data": {
      "application/vnd.jupyter.widget-view+json": {
       "model_id": "f488716bbca1426ca4f9a8a9cc76ed65",
       "version_major": 2,
       "version_minor": 0
      },
      "text/plain": [
       "Loading checkpoint shards:   0%|          | 0/2 [00:00<?, ?it/s]"
      ]
     },
     "metadata": {},
     "output_type": "display_data"
    },
    {
     "name": "stdout",
     "output_type": "stream",
     "text": [
      "DATA rand\n"
     ]
    },
    {
     "name": "stderr",
     "output_type": "stream",
     "text": [
      "100%|██████████| 10/10 [01:04<00:00,  6.43s/it]\n"
     ]
    },
    {
     "name": "stdout",
     "output_type": "stream",
     "text": [
      "base_loss 12.607874870300293\n",
      "self_loss 9.418622589111328\n",
      "future_loss 12.234964179992676\n",
      "\n",
      "DATA ArXiv\n"
     ]
    },
    {
     "name": "stderr",
     "output_type": "stream",
     "text": [
      "100%|██████████| 10/10 [01:05<00:00,  6.50s/it]\n"
     ]
    },
    {
     "name": "stdout",
     "output_type": "stream",
     "text": [
      "base_loss 2.5649524927139282\n",
      "self_loss 6.080328130722046\n",
      "future_loss 6.121433973312378\n",
      "\n",
      "DATA Enron Emails\n"
     ]
    },
    {
     "name": "stderr",
     "output_type": "stream",
     "text": [
      "100%|██████████| 10/10 [01:05<00:00,  6.50s/it]\n"
     ]
    },
    {
     "name": "stdout",
     "output_type": "stream",
     "text": [
      "base_loss 2.9067813873291017\n",
      "self_loss 5.462105655670166\n",
      "future_loss 5.449272537231446\n",
      "\n",
      "DATA FreeLaw\n"
     ]
    },
    {
     "name": "stderr",
     "output_type": "stream",
     "text": [
      "100%|██████████| 10/10 [01:04<00:00,  6.49s/it]\n"
     ]
    },
    {
     "name": "stdout",
     "output_type": "stream",
     "text": [
      "base_loss 2.021521818637848\n",
      "self_loss 5.3770801544189455\n",
      "future_loss 5.40641222000122\n",
      "\n",
      "DATA HackerNews\n"
     ]
    },
    {
     "name": "stderr",
     "output_type": "stream",
     "text": [
      "100%|██████████| 10/10 [01:04<00:00,  6.50s/it]\n"
     ]
    },
    {
     "name": "stdout",
     "output_type": "stream",
     "text": [
      "base_loss 2.9718191385269166\n",
      "self_loss 5.57703161239624\n",
      "future_loss 5.655372095108032\n",
      "\n",
      "DATA OpenSubtitles\n"
     ]
    },
    {
     "name": "stderr",
     "output_type": "stream",
     "text": [
      "100%|██████████| 10/10 [01:05<00:00,  6.50s/it]\n"
     ]
    },
    {
     "name": "stdout",
     "output_type": "stream",
     "text": [
      "base_loss 2.9453783512115477\n",
      "self_loss 6.230819416046143\n",
      "future_loss 6.29132194519043\n",
      "\n",
      "DATA PubMed Abstracts\n"
     ]
    },
    {
     "name": "stderr",
     "output_type": "stream",
     "text": [
      "100%|██████████| 10/10 [01:04<00:00,  6.50s/it]\n"
     ]
    },
    {
     "name": "stdout",
     "output_type": "stream",
     "text": [
      "base_loss 2.2377792596817017\n",
      "self_loss 6.436924982070923\n",
      "future_loss 6.469297170639038\n",
      "\n",
      "DATA UPSTO Backgrounds\n"
     ]
    },
    {
     "name": "stderr",
     "output_type": "stream",
     "text": [
      "100%|██████████| 10/10 [01:05<00:00,  6.50s/it]\n"
     ]
    },
    {
     "name": "stdout",
     "output_type": "stream",
     "text": [
      "base_loss 2.4354706048965453\n",
      "self_loss 5.95367021560669\n",
      "future_loss 6.011403226852417\n",
      "\n",
      "DATA EuroParl\n"
     ]
    },
    {
     "name": "stderr",
     "output_type": "stream",
     "text": [
      "100%|██████████| 10/10 [01:04<00:00,  6.50s/it]\n"
     ]
    },
    {
     "name": "stdout",
     "output_type": "stream",
     "text": [
      "base_loss 2.670064091682434\n",
      "self_loss 7.2515456199646\n",
      "future_loss 7.3296130180358885\n",
      "\n",
      "DATA Github\n"
     ]
    },
    {
     "name": "stderr",
     "output_type": "stream",
     "text": [
      "100%|██████████| 10/10 [01:05<00:00,  6.51s/it]\n"
     ]
    },
    {
     "name": "stdout",
     "output_type": "stream",
     "text": [
      "base_loss 1.6291857361793518\n",
      "self_loss 3.2758490800857545\n",
      "future_loss 3.200408148765564\n",
      "\n",
      "DATA OpenWebText2\n"
     ]
    },
    {
     "name": "stderr",
     "output_type": "stream",
     "text": [
      "100%|██████████| 10/10 [01:04<00:00,  6.49s/it]\n"
     ]
    },
    {
     "name": "stdout",
     "output_type": "stream",
     "text": [
      "base_loss 2.5029803991317747\n",
      "self_loss 6.331046724319458\n",
      "future_loss 6.347858333587647\n",
      "\n",
      "DATA StackExchange\n"
     ]
    },
    {
     "name": "stderr",
     "output_type": "stream",
     "text": [
      "100%|██████████| 10/10 [01:04<00:00,  6.50s/it]\n"
     ]
    },
    {
     "name": "stdout",
     "output_type": "stream",
     "text": [
      "base_loss 2.3986806154251097\n",
      "self_loss 4.81259446144104\n",
      "future_loss 4.832698249816895\n",
      "\n",
      "DATA Wikipedia (en)\n"
     ]
    },
    {
     "name": "stderr",
     "output_type": "stream",
     "text": [
      "100%|██████████| 10/10 [01:04<00:00,  6.49s/it]\n"
     ]
    },
    {
     "name": "stdout",
     "output_type": "stream",
     "text": [
      "base_loss 2.1320387363433837\n",
      "self_loss 6.069120836257935\n",
      "future_loss 6.0720631122589115\n",
      "\n",
      "DATA YoutubeSubtitles\n"
     ]
    },
    {
     "name": "stderr",
     "output_type": "stream",
     "text": [
      "100%|██████████| 10/10 [01:04<00:00,  6.49s/it]\n"
     ]
    },
    {
     "name": "stdout",
     "output_type": "stream",
     "text": [
      "base_loss 2.698017978668213\n",
      "self_loss 6.174111795425415\n",
      "future_loss 6.1561380386352536\n",
      "\n",
      "\n",
      "-------------------------\n",
      "MODEL OpenWebText2\n"
     ]
    },
    {
     "data": {
      "application/vnd.jupyter.widget-view+json": {
       "model_id": "96fd329d436b49cea80c8db3638b8748",
       "version_major": 2,
       "version_minor": 0
      },
      "text/plain": [
       "Loading checkpoint shards:   0%|          | 0/2 [00:00<?, ?it/s]"
      ]
     },
     "metadata": {},
     "output_type": "display_data"
    },
    {
     "name": "stdout",
     "output_type": "stream",
     "text": [
      "DATA rand\n"
     ]
    },
    {
     "name": "stderr",
     "output_type": "stream",
     "text": [
      "100%|██████████| 10/10 [01:04<00:00,  6.43s/it]\n"
     ]
    },
    {
     "name": "stdout",
     "output_type": "stream",
     "text": [
      "base_loss 12.611029243469238\n",
      "self_loss 9.278848457336426\n",
      "future_loss 12.014416408538818\n",
      "\n",
      "DATA ArXiv\n"
     ]
    },
    {
     "name": "stderr",
     "output_type": "stream",
     "text": [
      "100%|██████████| 10/10 [01:04<00:00,  6.49s/it]\n"
     ]
    },
    {
     "name": "stdout",
     "output_type": "stream",
     "text": [
      "base_loss 2.570257329940796\n",
      "self_loss 5.814775466918945\n",
      "future_loss 5.887636184692383\n",
      "\n",
      "DATA Enron Emails\n"
     ]
    },
    {
     "name": "stderr",
     "output_type": "stream",
     "text": [
      "100%|██████████| 10/10 [01:04<00:00,  6.49s/it]\n"
     ]
    },
    {
     "name": "stdout",
     "output_type": "stream",
     "text": [
      "base_loss 2.898630380630493\n",
      "self_loss 5.217693138122558\n",
      "future_loss 5.262023019790649\n",
      "\n",
      "DATA FreeLaw\n"
     ]
    },
    {
     "name": "stderr",
     "output_type": "stream",
     "text": [
      "100%|██████████| 10/10 [01:04<00:00,  6.49s/it]\n"
     ]
    },
    {
     "name": "stdout",
     "output_type": "stream",
     "text": [
      "base_loss 2.0204559564590454\n",
      "self_loss 4.7691662311553955\n",
      "future_loss 4.832333326339722\n",
      "\n",
      "DATA HackerNews\n"
     ]
    },
    {
     "name": "stderr",
     "output_type": "stream",
     "text": [
      "100%|██████████| 10/10 [01:05<00:00,  6.52s/it]\n"
     ]
    },
    {
     "name": "stdout",
     "output_type": "stream",
     "text": [
      "base_loss 2.947096514701843\n",
      "self_loss 5.148109245300293\n",
      "future_loss 5.290211534500122\n",
      "\n",
      "DATA OpenSubtitles\n"
     ]
    },
    {
     "name": "stderr",
     "output_type": "stream",
     "text": [
      "100%|██████████| 10/10 [01:04<00:00,  6.49s/it]\n"
     ]
    },
    {
     "name": "stdout",
     "output_type": "stream",
     "text": [
      "base_loss 2.958215022087097\n",
      "self_loss 5.140316534042358\n",
      "future_loss 5.212938022613526\n",
      "\n",
      "DATA PubMed Abstracts\n"
     ]
    },
    {
     "name": "stderr",
     "output_type": "stream",
     "text": [
      "100%|██████████| 10/10 [01:04<00:00,  6.50s/it]\n"
     ]
    },
    {
     "name": "stdout",
     "output_type": "stream",
     "text": [
      "base_loss 2.2397485256195067\n",
      "self_loss 5.312975454330444\n",
      "future_loss 5.322819566726684\n",
      "\n",
      "DATA UPSTO Backgrounds\n"
     ]
    },
    {
     "name": "stderr",
     "output_type": "stream",
     "text": [
      "100%|██████████| 10/10 [01:04<00:00,  6.49s/it]\n"
     ]
    },
    {
     "name": "stdout",
     "output_type": "stream",
     "text": [
      "base_loss 2.453390049934387\n",
      "self_loss 5.058354377746582\n",
      "future_loss 5.112974500656128\n",
      "\n",
      "DATA EuroParl\n"
     ]
    },
    {
     "name": "stderr",
     "output_type": "stream",
     "text": [
      "100%|██████████| 10/10 [01:04<00:00,  6.49s/it]\n"
     ]
    },
    {
     "name": "stdout",
     "output_type": "stream",
     "text": [
      "base_loss 2.6510491132736207\n",
      "self_loss 5.970545673370362\n",
      "future_loss 6.026632499694824\n",
      "\n",
      "DATA Github\n"
     ]
    },
    {
     "name": "stderr",
     "output_type": "stream",
     "text": [
      "100%|██████████| 10/10 [01:04<00:00,  6.49s/it]\n"
     ]
    },
    {
     "name": "stdout",
     "output_type": "stream",
     "text": [
      "base_loss 1.6316112875938416\n",
      "self_loss 6.015273809432983\n",
      "future_loss 6.038295650482178\n",
      "\n",
      "DATA OpenWebText2\n"
     ]
    },
    {
     "name": "stderr",
     "output_type": "stream",
     "text": [
      "100%|██████████| 10/10 [01:05<00:00,  6.50s/it]\n"
     ]
    },
    {
     "name": "stdout",
     "output_type": "stream",
     "text": [
      "base_loss 2.482914423942566\n",
      "self_loss 4.78304762840271\n",
      "future_loss 4.766031265258789\n",
      "\n",
      "DATA StackExchange\n"
     ]
    },
    {
     "name": "stderr",
     "output_type": "stream",
     "text": [
      "100%|██████████| 10/10 [01:04<00:00,  6.49s/it]\n"
     ]
    },
    {
     "name": "stdout",
     "output_type": "stream",
     "text": [
      "base_loss 2.3661785364151\n",
      "self_loss 5.405162715911866\n",
      "future_loss 5.419070720672607\n",
      "\n",
      "DATA Wikipedia (en)\n"
     ]
    },
    {
     "name": "stderr",
     "output_type": "stream",
     "text": [
      "100%|██████████| 10/10 [01:05<00:00,  6.51s/it]\n"
     ]
    },
    {
     "name": "stdout",
     "output_type": "stream",
     "text": [
      "base_loss 2.1008248329162598\n",
      "self_loss 4.752967023849488\n",
      "future_loss 4.726314735412598\n",
      "\n",
      "DATA YoutubeSubtitles\n"
     ]
    },
    {
     "name": "stderr",
     "output_type": "stream",
     "text": [
      "100%|██████████| 10/10 [01:04<00:00,  6.49s/it]\n"
     ]
    },
    {
     "name": "stdout",
     "output_type": "stream",
     "text": [
      "base_loss 2.727144694328308\n",
      "self_loss 5.468693351745605\n",
      "future_loss 5.53377776145935\n",
      "\n",
      "\n",
      "-------------------------\n",
      "MODEL StackExchange\n"
     ]
    },
    {
     "data": {
      "application/vnd.jupyter.widget-view+json": {
       "model_id": "70c820f03f2d4efcacae3997d7a85dc8",
       "version_major": 2,
       "version_minor": 0
      },
      "text/plain": [
       "Loading checkpoint shards:   0%|          | 0/2 [00:00<?, ?it/s]"
      ]
     },
     "metadata": {},
     "output_type": "display_data"
    },
    {
     "name": "stdout",
     "output_type": "stream",
     "text": [
      "DATA rand\n"
     ]
    },
    {
     "name": "stderr",
     "output_type": "stream",
     "text": [
      "100%|██████████| 10/10 [01:04<00:00,  6.43s/it]\n"
     ]
    },
    {
     "name": "stdout",
     "output_type": "stream",
     "text": [
      "base_loss 12.614516258239746\n",
      "self_loss 9.260636329650879\n",
      "future_loss 11.998633289337159\n",
      "\n",
      "DATA ArXiv\n"
     ]
    },
    {
     "name": "stderr",
     "output_type": "stream",
     "text": [
      "100%|██████████| 10/10 [01:04<00:00,  6.49s/it]\n"
     ]
    },
    {
     "name": "stdout",
     "output_type": "stream",
     "text": [
      "base_loss 2.5807750463485717\n",
      "self_loss 5.5164612293243405\n",
      "future_loss 5.572854709625244\n",
      "\n",
      "DATA Enron Emails\n"
     ]
    },
    {
     "name": "stderr",
     "output_type": "stream",
     "text": [
      "100%|██████████| 10/10 [01:04<00:00,  6.50s/it]\n"
     ]
    },
    {
     "name": "stdout",
     "output_type": "stream",
     "text": [
      "base_loss 2.9042343139648437\n",
      "self_loss 5.271824741363526\n",
      "future_loss 5.255725955963134\n",
      "\n",
      "DATA FreeLaw\n"
     ]
    },
    {
     "name": "stderr",
     "output_type": "stream",
     "text": [
      "100%|██████████| 10/10 [01:04<00:00,  6.49s/it]\n"
     ]
    },
    {
     "name": "stdout",
     "output_type": "stream",
     "text": [
      "base_loss 1.9748148798942566\n",
      "self_loss 5.237486934661865\n",
      "future_loss 5.2592250347137455\n",
      "\n",
      "DATA HackerNews\n"
     ]
    },
    {
     "name": "stderr",
     "output_type": "stream",
     "text": [
      "100%|██████████| 10/10 [01:04<00:00,  6.50s/it]\n"
     ]
    },
    {
     "name": "stdout",
     "output_type": "stream",
     "text": [
      "base_loss 2.948735785484314\n",
      "self_loss 5.119993686676025\n",
      "future_loss 5.211109781265259\n",
      "\n",
      "DATA OpenSubtitles\n"
     ]
    },
    {
     "name": "stderr",
     "output_type": "stream",
     "text": [
      "100%|██████████| 10/10 [01:04<00:00,  6.49s/it]\n"
     ]
    },
    {
     "name": "stdout",
     "output_type": "stream",
     "text": [
      "base_loss 2.9370522260665894\n",
      "self_loss 5.551930665969849\n",
      "future_loss 5.61945333480835\n",
      "\n",
      "DATA PubMed Abstracts\n"
     ]
    },
    {
     "name": "stderr",
     "output_type": "stream",
     "text": [
      "100%|██████████| 10/10 [01:05<00:00,  6.52s/it]\n"
     ]
    },
    {
     "name": "stdout",
     "output_type": "stream",
     "text": [
      "base_loss 2.2564154386520388\n",
      "self_loss 5.8867450714111325\n",
      "future_loss 5.904131746292114\n",
      "\n",
      "DATA UPSTO Backgrounds\n"
     ]
    },
    {
     "name": "stderr",
     "output_type": "stream",
     "text": [
      "100%|██████████| 10/10 [01:04<00:00,  6.49s/it]\n"
     ]
    },
    {
     "name": "stdout",
     "output_type": "stream",
     "text": [
      "base_loss 1.6256154537200929\n",
      "self_loss 4.379652595520019\n",
      "future_loss 4.389791774749756\n",
      "\n",
      "DATA OpenWebText2\n"
     ]
    },
    {
     "name": "stderr",
     "output_type": "stream",
     "text": [
      "100%|██████████| 10/10 [01:04<00:00,  6.49s/it]\n"
     ]
    },
    {
     "name": "stdout",
     "output_type": "stream",
     "text": [
      "base_loss 2.4806681871414185\n",
      "self_loss 5.779811668395996\n",
      "future_loss 5.787967157363892\n",
      "\n",
      "DATA StackExchange\n"
     ]
    },
    {
     "name": "stderr",
     "output_type": "stream",
     "text": [
      "100%|██████████| 10/10 [01:04<00:00,  6.49s/it]\n"
     ]
    },
    {
     "name": "stdout",
     "output_type": "stream",
     "text": [
      "base_loss 2.3711385250091555\n",
      "self_loss 4.077327752113343\n",
      "future_loss 4.093248128890991\n",
      "\n",
      "DATA Wikipedia (en)\n"
     ]
    },
    {
     "name": "stderr",
     "output_type": "stream",
     "text": [
      "100%|██████████| 10/10 [01:04<00:00,  6.50s/it]\n"
     ]
    },
    {
     "name": "stdout",
     "output_type": "stream",
     "text": [
      "base_loss 2.090390610694885\n",
      "self_loss 5.64976315498352\n",
      "future_loss 5.650333881378174\n",
      "\n",
      "DATA YoutubeSubtitles\n"
     ]
    },
    {
     "name": "stderr",
     "output_type": "stream",
     "text": [
      "100%|██████████| 10/10 [01:04<00:00,  6.50s/it]\n"
     ]
    },
    {
     "name": "stdout",
     "output_type": "stream",
     "text": [
      "base_loss 2.7045023918151854\n",
      "self_loss 5.78324408531189\n",
      "future_loss 5.782490205764771\n",
      "\n",
      "\n",
      "-------------------------\n",
      "MODEL Wikipedia (en)\n"
     ]
    },
    {
     "data": {
      "application/vnd.jupyter.widget-view+json": {
       "model_id": "06945cc98f8640348d0ce23f75450c2d",
       "version_major": 2,
       "version_minor": 0
      },
      "text/plain": [
       "Loading checkpoint shards:   0%|          | 0/2 [00:00<?, ?it/s]"
      ]
     },
     "metadata": {},
     "output_type": "display_data"
    },
    {
     "name": "stdout",
     "output_type": "stream",
     "text": [
      "DATA rand\n"
     ]
    },
    {
     "name": "stderr",
     "output_type": "stream",
     "text": [
      "100%|██████████| 10/10 [01:04<00:00,  6.43s/it]\n"
     ]
    },
    {
     "name": "stdout",
     "output_type": "stream",
     "text": [
      "base_loss 12.609022331237792\n",
      "self_loss 9.488430881500244\n",
      "future_loss 12.436226654052735\n",
      "\n",
      "DATA ArXiv\n"
     ]
    },
    {
     "name": "stderr",
     "output_type": "stream",
     "text": [
      "100%|██████████| 10/10 [01:04<00:00,  6.50s/it]\n"
     ]
    },
    {
     "name": "stdout",
     "output_type": "stream",
     "text": [
      "base_loss 2.5695367813110352\n",
      "self_loss 5.756282472610474\n",
      "future_loss 5.808628225326538\n",
      "\n",
      "DATA Enron Emails\n"
     ]
    },
    {
     "name": "stderr",
     "output_type": "stream",
     "text": [
      "100%|██████████| 10/10 [01:04<00:00,  6.49s/it]\n"
     ]
    },
    {
     "name": "stdout",
     "output_type": "stream",
     "text": [
      "base_loss 2.9194095849990847\n",
      "self_loss 5.414036846160888\n",
      "future_loss 5.4574892044067385\n",
      "\n",
      "DATA FreeLaw\n"
     ]
    },
    {
     "name": "stderr",
     "output_type": "stream",
     "text": [
      "100%|██████████| 10/10 [01:05<00:00,  6.52s/it]\n"
     ]
    },
    {
     "name": "stdout",
     "output_type": "stream",
     "text": [
      "base_loss 1.9856808662414551\n",
      "self_loss 4.851907873153687\n",
      "future_loss 4.891486549377442\n",
      "\n",
      "DATA HackerNews\n"
     ]
    },
    {
     "name": "stderr",
     "output_type": "stream",
     "text": [
      "100%|██████████| 10/10 [01:04<00:00,  6.49s/it]\n"
     ]
    },
    {
     "name": "stdout",
     "output_type": "stream",
     "text": [
      "base_loss 2.9534039735794066\n",
      "self_loss 5.540811920166016\n",
      "future_loss 5.667178726196289\n",
      "\n",
      "DATA OpenSubtitles\n"
     ]
    },
    {
     "name": "stderr",
     "output_type": "stream",
     "text": [
      "100%|██████████| 10/10 [01:05<00:00,  6.52s/it]\n"
     ]
    },
    {
     "name": "stdout",
     "output_type": "stream",
     "text": [
      "base_loss 2.9663853883743285\n",
      "self_loss 5.649982213973999\n",
      "future_loss 5.686765241622925\n",
      "\n",
      "DATA PubMed Abstracts\n"
     ]
    },
    {
     "name": "stderr",
     "output_type": "stream",
     "text": [
      "100%|██████████| 10/10 [01:04<00:00,  6.50s/it]\n"
     ]
    },
    {
     "name": "stdout",
     "output_type": "stream",
     "text": [
      "base_loss 2.2207385301589966\n",
      "self_loss 5.207229900360107\n",
      "future_loss 5.22141170501709\n",
      "\n",
      "DATA UPSTO Backgrounds\n"
     ]
    },
    {
     "name": "stderr",
     "output_type": "stream",
     "text": [
      "100%|██████████| 10/10 [01:05<00:00,  6.50s/it]\n"
     ]
    },
    {
     "name": "stdout",
     "output_type": "stream",
     "text": [
      "base_loss 2.423734426498413\n",
      "self_loss 5.033701419830322\n",
      "future_loss 5.070119571685791\n",
      "\n",
      "DATA EuroParl\n"
     ]
    },
    {
     "name": "stderr",
     "output_type": "stream",
     "text": [
      "100%|██████████| 10/10 [01:04<00:00,  6.50s/it]\n"
     ]
    },
    {
     "name": "stdout",
     "output_type": "stream",
     "text": [
      "base_loss 2.6055249691009523\n",
      "self_loss 6.799044561386109\n",
      "future_loss 6.88480863571167\n",
      "\n",
      "DATA Github\n"
     ]
    },
    {
     "name": "stderr",
     "output_type": "stream",
     "text": [
      "100%|██████████| 10/10 [01:04<00:00,  6.49s/it]\n"
     ]
    },
    {
     "name": "stdout",
     "output_type": "stream",
     "text": [
      "base_loss 1.622618556022644\n",
      "self_loss 6.3909587383270265\n",
      "future_loss 6.414370536804199\n",
      "\n",
      "DATA OpenWebText2\n"
     ]
    },
    {
     "name": "stderr",
     "output_type": "stream",
     "text": [
      "100%|██████████| 10/10 [01:05<00:00,  6.51s/it]\n"
     ]
    },
    {
     "name": "stdout",
     "output_type": "stream",
     "text": [
      "base_loss 2.4772159337997435\n",
      "self_loss 5.344767427444458\n",
      "future_loss 5.342165517807007\n",
      "\n",
      "DATA StackExchange\n"
     ]
    },
    {
     "name": "stderr",
     "output_type": "stream",
     "text": [
      "100%|██████████| 10/10 [01:04<00:00,  6.49s/it]\n"
     ]
    },
    {
     "name": "stdout",
     "output_type": "stream",
     "text": [
      "base_loss 2.3435803413391114\n",
      "self_loss 5.913616418838501\n",
      "future_loss 5.932120752334595\n",
      "\n",
      "DATA Wikipedia (en)\n"
     ]
    },
    {
     "name": "stderr",
     "output_type": "stream",
     "text": [
      "100%|██████████| 10/10 [01:04<00:00,  6.49s/it]\n"
     ]
    },
    {
     "name": "stdout",
     "output_type": "stream",
     "text": [
      "base_loss 2.118670701980591\n",
      "self_loss 4.221578454971313\n",
      "future_loss 4.142618346214294\n",
      "\n",
      "DATA YoutubeSubtitles\n"
     ]
    },
    {
     "name": "stderr",
     "output_type": "stream",
     "text": [
      "100%|██████████| 10/10 [01:04<00:00,  6.50s/it]\n"
     ]
    },
    {
     "name": "stdout",
     "output_type": "stream",
     "text": [
      "base_loss 2.731733703613281\n",
      "self_loss 6.102199220657349\n",
      "future_loss 6.141647386550903\n",
      "\n",
      "\n",
      "-------------------------\n",
      "MODEL YoutubeSubtitles\n"
     ]
    },
    {
     "data": {
      "application/vnd.jupyter.widget-view+json": {
       "model_id": "ce2e2182fbc149c1ab41e08a71d52f75",
       "version_major": 2,
       "version_minor": 0
      },
      "text/plain": [
       "Loading checkpoint shards:   0%|          | 0/2 [00:00<?, ?it/s]"
      ]
     },
     "metadata": {},
     "output_type": "display_data"
    },
    {
     "name": "stdout",
     "output_type": "stream",
     "text": [
      "DATA rand\n"
     ]
    },
    {
     "name": "stderr",
     "output_type": "stream",
     "text": [
      "100%|██████████| 10/10 [01:04<00:00,  6.43s/it]\n"
     ]
    },
    {
     "name": "stdout",
     "output_type": "stream",
     "text": [
      "base_loss 12.610803699493408\n",
      "self_loss 9.617036247253418\n",
      "future_loss 12.439642333984375\n",
      "\n",
      "DATA ArXiv\n"
     ]
    },
    {
     "name": "stderr",
     "output_type": "stream",
     "text": [
      "100%|██████████| 10/10 [01:04<00:00,  6.48s/it]\n"
     ]
    },
    {
     "name": "stdout",
     "output_type": "stream",
     "text": [
      "base_loss 2.5639728784561155\n",
      "self_loss 5.821093034744263\n",
      "future_loss 5.894502735137939\n",
      "\n",
      "DATA Enron Emails\n"
     ]
    },
    {
     "name": "stderr",
     "output_type": "stream",
     "text": [
      "100%|██████████| 10/10 [01:04<00:00,  6.50s/it]\n"
     ]
    },
    {
     "name": "stdout",
     "output_type": "stream",
     "text": [
      "base_loss 2.9258381128311157\n",
      "self_loss 5.304451179504395\n",
      "future_loss 5.2826550006866455\n",
      "\n",
      "DATA FreeLaw\n"
     ]
    },
    {
     "name": "stderr",
     "output_type": "stream",
     "text": [
      "100%|██████████| 10/10 [01:04<00:00,  6.49s/it]\n"
     ]
    },
    {
     "name": "stdout",
     "output_type": "stream",
     "text": [
      "base_loss 2.0024445772171022\n",
      "self_loss 4.949343824386597\n",
      "future_loss 4.955061340332032\n",
      "\n",
      "DATA HackerNews\n"
     ]
    },
    {
     "name": "stderr",
     "output_type": "stream",
     "text": [
      "100%|██████████| 10/10 [01:04<00:00,  6.49s/it]\n"
     ]
    },
    {
     "name": "stdout",
     "output_type": "stream",
     "text": [
      "base_loss 2.943840837478638\n",
      "self_loss 5.292988109588623\n",
      "future_loss 5.373766803741455\n",
      "\n",
      "DATA OpenSubtitles\n"
     ]
    },
    {
     "name": "stderr",
     "output_type": "stream",
     "text": [
      "100%|██████████| 10/10 [01:05<00:00,  6.53s/it]\n"
     ]
    },
    {
     "name": "stdout",
     "output_type": "stream",
     "text": [
      "base_loss 2.9663429260253906\n",
      "self_loss 5.21792459487915\n",
      "future_loss 5.299051094055176\n",
      "\n",
      "DATA PubMed Abstracts\n"
     ]
    },
    {
     "name": "stderr",
     "output_type": "stream",
     "text": [
      "100%|██████████| 10/10 [01:04<00:00,  6.50s/it]\n"
     ]
    },
    {
     "name": "stdout",
     "output_type": "stream",
     "text": [
      "base_loss 2.2394967794418337\n",
      "self_loss 5.641010665893555\n",
      "future_loss 5.654184055328369\n",
      "\n",
      "DATA UPSTO Backgrounds\n"
     ]
    },
    {
     "name": "stderr",
     "output_type": "stream",
     "text": [
      "100%|██████████| 10/10 [01:04<00:00,  6.50s/it]\n"
     ]
    },
    {
     "name": "stdout",
     "output_type": "stream",
     "text": [
      "base_loss 2.4311834573745728\n",
      "self_loss 5.233812999725342\n",
      "future_loss 5.281653881072998\n",
      "\n",
      "DATA EuroParl\n"
     ]
    },
    {
     "name": "stderr",
     "output_type": "stream",
     "text": [
      "100%|██████████| 10/10 [01:04<00:00,  6.50s/it]\n"
     ]
    },
    {
     "name": "stdout",
     "output_type": "stream",
     "text": [
      "base_loss 2.615047287940979\n",
      "self_loss 5.864946365356445\n",
      "future_loss 5.875513887405395\n",
      "\n",
      "DATA Github\n"
     ]
    },
    {
     "name": "stderr",
     "output_type": "stream",
     "text": [
      "100%|██████████| 10/10 [01:05<00:00,  6.53s/it]\n"
     ]
    },
    {
     "name": "stdout",
     "output_type": "stream",
     "text": [
      "base_loss 1.6154364824295044\n",
      "self_loss 6.246255731582641\n",
      "future_loss 6.258156633377075\n",
      "\n",
      "DATA OpenWebText2\n"
     ]
    },
    {
     "name": "stderr",
     "output_type": "stream",
     "text": [
      "100%|██████████| 10/10 [01:04<00:00,  6.50s/it]\n"
     ]
    },
    {
     "name": "stdout",
     "output_type": "stream",
     "text": [
      "base_loss 2.456416702270508\n",
      "self_loss 5.26663613319397\n",
      "future_loss 5.251882410049438\n",
      "\n",
      "DATA StackExchange\n"
     ]
    },
    {
     "name": "stderr",
     "output_type": "stream",
     "text": [
      "100%|██████████| 10/10 [01:04<00:00,  6.49s/it]\n"
     ]
    },
    {
     "name": "stdout",
     "output_type": "stream",
     "text": [
      "base_loss 2.413292670249939\n",
      "self_loss 5.613999509811402\n",
      "future_loss 5.620232677459716\n",
      "\n",
      "DATA Wikipedia (en)\n"
     ]
    },
    {
     "name": "stderr",
     "output_type": "stream",
     "text": [
      "100%|██████████| 10/10 [01:04<00:00,  6.49s/it]\n"
     ]
    },
    {
     "name": "stdout",
     "output_type": "stream",
     "text": [
      "base_loss 2.0880893230438233\n",
      "self_loss 5.124447011947632\n",
      "future_loss 5.099967002868652\n",
      "\n",
      "DATA YoutubeSubtitles\n"
     ]
    },
    {
     "name": "stderr",
     "output_type": "stream",
     "text": [
      "100%|██████████| 10/10 [01:05<00:00,  6.52s/it]\n"
     ]
    },
    {
     "name": "stdout",
     "output_type": "stream",
     "text": [
      "base_loss 2.714850401878357\n",
      "self_loss 4.665845060348511\n",
      "future_loss 4.537787342071534\n",
      "\n",
      "\n",
      "-------------------------\n"
     ]
    }
   ],
   "source": [
    "#loss_d = defaultdict(dict)\n",
    "nbatch = 10\n",
    "for name in ds_names:\n",
    "    print('MODEL', name)\n",
    "    if name in loss_d:\n",
    "        print('done already; skipping...')\n",
    "        continue\n",
    "    model = get_model(name)\n",
    "    for ds_name in ds_names:\n",
    "        print('DATA', ds_name)\n",
    "        loader = get_loader(ds_name, 'MISTRAL')['test']\n",
    "        with torch.no_grad():\n",
    "            losses = [\n",
    "                model._compute_loss(to_cuda(batch)) \n",
    "                for batch in tqdm(islice(iter(loader), nbatch), total=nbatch)\n",
    "            ]\n",
    "        mean_losses = {}\n",
    "        for k in ['base_loss', 'self_loss', 'future_loss']:\n",
    "            mean_losses[k] = np.mean([x[k].item() for x in losses])\n",
    "            print(k, mean_losses[k])\n",
    "        print('')\n",
    "        loss_d[name][ds_name] = mean_losses\n",
    "        gc.collect()\n",
    "        torch.cuda.empty_cache()\n",
    "    print('\\n-------------------------')"
   ]
  },
  {
   "cell_type": "code",
   "execution_count": 25,
   "id": "75dc3370-b0b6-408b-b237-f060246eed2f",
   "metadata": {},
   "outputs": [
    {
     "data": {
      "image/png": "[encoded data removed]",
      "text/plain": [
       "<Figure size 640x480 with 1 Axes>"
      ]
     },
     "metadata": {},
     "output_type": "display_data"
    }
   ],
   "source": [
    "loss = [\n",
    "    [loss_d[model][ds][\"future_loss\"] for ds in ds_names]\n",
    "    for model in ds_names\n",
    "]\n",
    "loss_str = [\n",
    "    [f'{loss[i][j]:.2f}' for j in range(len(loss[i]))] \n",
    "    for i in range(len(loss))\n",
    "]\n",
    "\n",
    "fig, ax = plt.subplots()\n",
    "table = ax.table(\n",
    "    cellText=loss_str, \n",
    "    loc='center', \n",
    "    cellLoc='center', \n",
    "    colWidths=[0.15 for _ in range(len(loss))],\n",
    "    colLabels=ds_short_names,\n",
    "    rowLabels=ds_short_names,\n",
    ")\n",
    "\n",
    "for i in range(len(loss)):\n",
    "    for j in range(len(loss[0])):\n",
    "        color = plt.cm.viridis(1 - loss[i][j] / 10)\n",
    "        table[(i+1, j)].set_facecolor(color)\n",
    "        if loss[i][j] > 5:\n",
    "            table[(i+1, j)].set_text_props(color='white')\n",
    "ax.axis('off')\n",
    "plt.show()"
   ]
  },
  {
   "cell_type": "code",
   "execution_count": 10,
   "id": "c52ef07f-6f49-4a27-b29f-e88c42bbbfa0",
   "metadata": {},
   "outputs": [
    {
     "data": {
      "text/plain": [
       "['rand',\n",
       " 'ArXiv',\n",
       " 'Enron Emails',\n",
       " 'FreeLaw',\n",
       " 'HackerNews',\n",
       " 'OpenSubtitles',\n",
       " 'PubMed Abstracts',\n",
       " 'UPSTO Backgrounds']"
      ]
     },
     "execution_count": 10,
     "metadata": {},
     "output_type": "execute_result"
    }
   ],
   "source": [
    "list(loss_d.keys())"
   ]
  },
  {
   "cell_type": "code",
   "execution_count": 24,
   "id": "2833fe45-501e-4eb1-b66d-fec8841da354",
   "metadata": {},
   "outputs": [],
   "source": [
    "import pickle\n",
    "with open ('data_transfer_losses.pickle', 'wb') as f:\n",
    "    pickle.dump(loss_d, f)"
   ]
  },
  {
   "cell_type": "code",
   "execution_count": 15,
   "id": "52657dab-8d57-48bc-9e76-fc290b9caaa4",
   "metadata": {},
   "outputs": [],
   "source": [
    "with open ('data_transfer_losses.pickle', 'rb') as f:\n",
    "    b = pickle.load(f)"
   ]
  },
  {
   "cell_type": "code",
   "execution_count": 16,
   "id": "92c5ea8a-74e4-495a-a61d-92986bf64f27",
   "metadata": {},
   "outputs": [
    {
     "data": {
      "text/plain": [
       "defaultdict(dict,\n",
       "            {'rand': {'rand': {'base_loss': 12.6141752243042,\n",
       "               'self_loss': 8.290161323547363,\n",
       "               'future_loss': 11.614474678039551},\n",
       "              'ArXiv': {'base_loss': 2.5654716014862062,\n",
       "               'self_loss': 6.831877374649048,\n",
       "               'future_loss': 6.897280311584472},\n",
       "              'Enron Emails': {'base_loss': 2.9089842081069945,\n",
       "               'self_loss': 6.4353344440460205,\n",
       "               'future_loss': 6.360086250305176},\n",
       "              'FreeLaw': {'base_loss': 2.028987205028534,\n",
       "               'self_loss': 6.311294269561768,\n",
       "               'future_loss': 6.315077018737793},\n",
       "              'HackerNews': {'base_loss': 2.959638524055481,\n",
       "               'self_loss': 6.600970935821533,\n",
       "               'future_loss': 6.636679792404175},\n",
       "              'OpenSubtitles': {'base_loss': 2.9538165092468263,\n",
       "               'self_loss': 6.753598356246949,\n",
       "               'future_loss': 6.726288747787476},\n",
       "              'PubMed Abstracts': {'base_loss': 2.246140384674072,\n",
       "               'self_loss': 6.862179183959961,\n",
       "               'future_loss': 6.877580070495606},\n",
       "              'UPSTO Backgrounds': {'base_loss': 2.4553111791610718,\n",
       "               'self_loss': 6.676762533187866,\n",
       "               'future_loss': 6.729754447937012},\n",
       "              'DM Mathematics': {'base_loss': 2.0222118616104128,\n",
       "               'self_loss': 5.72120041847229,\n",
       "               'future_loss': 5.72061562538147},\n",
       "              'EuroParl': {'base_loss': 2.651897668838501,\n",
       "               'self_loss': 7.324092292785645,\n",
       "               'future_loss': 7.3701245307922365},\n",
       "              'Github': {'base_loss': 1.6290014028549193,\n",
       "               'self_loss': 6.520132064819336,\n",
       "               'future_loss': 6.533298206329346},\n",
       "              'NIH ExPorter': {'base_loss': 2.4426952600479126,\n",
       "               'self_loss': 6.969399404525757,\n",
       "               'future_loss': 6.992301034927368},\n",
       "              'OpenWebText2': {'base_loss': 2.4479999780654906,\n",
       "               'self_loss': 6.824991226196289,\n",
       "               'future_loss': 6.822650814056397},\n",
       "              'StackExchange': {'base_loss': 2.379388523101807,\n",
       "               'self_loss': 6.4152404308319095,\n",
       "               'future_loss': 6.397819185256958},\n",
       "              'Wikipedia (en)': {'base_loss': 2.1265944242477417,\n",
       "               'self_loss': 6.664760446548462,\n",
       "               'future_loss': 6.6415503978729244},\n",
       "              'YoutubeSubtitles': {'base_loss': 2.7043293714523315,\n",
       "               'self_loss': 6.734195280075073,\n",
       "               'future_loss': 6.682682847976684}},\n",
       "             'ArXiv': {'rand': {'base_loss': 12.601908588409424,\n",
       "               'self_loss': 9.40453634262085,\n",
       "               'future_loss': 12.214757633209228},\n",
       "              'ArXiv': {'base_loss': 2.5915539979934694,\n",
       "               'self_loss': 4.222097873687744,\n",
       "               'future_loss': 4.175191736221313},\n",
       "              'Enron Emails': {'base_loss': 2.9043479919433595,\n",
       "               'self_loss': 5.512347602844239,\n",
       "               'future_loss': 5.508352184295655},\n",
       "              'FreeLaw': {'base_loss': 2.0203091144561767,\n",
       "               'self_loss': 5.1966742992401125,\n",
       "               'future_loss': 5.2214799404144285},\n",
       "              'HackerNews': {'base_loss': 2.961816501617432,\n",
       "               'self_loss': 5.6930948257446286,\n",
       "               'future_loss': 5.749266624450684},\n",
       "              'OpenSubtitles': {'base_loss': 2.9563093423843383,\n",
       "               'self_loss': 6.4613501071929935,\n",
       "               'future_loss': 6.653894710540771},\n",
       "              'PubMed Abstracts': {'base_loss': 2.2454594373703003,\n",
       "               'self_loss': 5.285434913635254,\n",
       "               'future_loss': 5.290445709228516},\n",
       "              'UPSTO Backgrounds': {'base_loss': 2.4647005796432495,\n",
       "               'self_loss': 5.012577724456787,\n",
       "               'future_loss': 5.053129053115844},\n",
       "              'DM Mathematics': {'base_loss': 2.013975441455841,\n",
       "               'self_loss': 4.382903003692627,\n",
       "               'future_loss': 4.432574081420898},\n",
       "              'EuroParl': {'base_loss': 2.638583850860596,\n",
       "               'self_loss': 7.332539510726929,\n",
       "               'future_loss': 7.387144279479981},\n",
       "              'Github': {'base_loss': 1.6175939559936523,\n",
       "               'self_loss': 5.969910335540772,\n",
       "               'future_loss': 5.982804584503174},\n",
       "              'NIH ExPorter': {'base_loss': 2.4511106491088865,\n",
       "               'self_loss': 5.322965383529663,\n",
       "               'future_loss': 5.322447347640991},\n",
       "              'OpenWebText2': {'base_loss': 2.489990544319153,\n",
       "               'self_loss': 5.976854467391968,\n",
       "               'future_loss': 5.984785509109497},\n",
       "              'StackExchange': {'base_loss': 2.3770418882369997,\n",
       "               'self_loss': 5.59132719039917,\n",
       "               'future_loss': 5.623160552978516},\n",
       "              'Wikipedia (en)': {'base_loss': 2.1303718090057373,\n",
       "               'self_loss': 5.4708757400512695,\n",
       "               'future_loss': 5.455779027938843},\n",
       "              'YoutubeSubtitles': {'base_loss': 2.6982835292816163,\n",
       "               'self_loss': 6.395115900039673,\n",
       "               'future_loss': 6.379922389984131}},\n",
       "             'Enron Emails': {'rand': {'base_loss': 12.610192012786865,\n",
       "               'self_loss': 9.643882751464844,\n",
       "               'future_loss': 12.62406520843506},\n",
       "              'ArXiv': {'base_loss': 2.592227005958557,\n",
       "               'self_loss': 6.12103123664856,\n",
       "               'future_loss': 6.191398811340332},\n",
       "              'Enron Emails': {'base_loss': 2.9229519844055174,\n",
       "               'self_loss': 4.126887321472168,\n",
       "               'future_loss': 3.9341624975204468},\n",
       "              'FreeLaw': {'base_loss': 2.0084396958351136,\n",
       "               'self_loss': 4.577632045745849,\n",
       "               'future_loss': 4.598469543457031},\n",
       "              'HackerNews': {'base_loss': 2.9607380867004394,\n",
       "               'self_loss': 5.185784578323364,\n",
       "               'future_loss': 5.289242315292358},\n",
       "              'OpenSubtitles': {'base_loss': 2.966302585601807,\n",
       "               'self_loss': 5.458438396453857,\n",
       "               'future_loss': 5.493351554870605},\n",
       "              'PubMed Abstracts': {'base_loss': 2.2280144453048707,\n",
       "               'self_loss': 6.0781005859375,\n",
       "               'future_loss': 6.108767080307007},\n",
       "              'UPSTO Backgrounds': {'base_loss': 2.4321261644363403,\n",
       "               'self_loss': 5.513014411926269,\n",
       "               'future_loss': 5.565457820892334},\n",
       "              'DM Mathematics': {'base_loss': 2.024634540081024,\n",
       "               'self_loss': 4.616891670227051,\n",
       "               'future_loss': 4.657567691802979},\n",
       "              'EuroParl': {'base_loss': 2.6557165384292603,\n",
       "               'self_loss': 7.8962713241577145,\n",
       "               'future_loss': 7.985178852081299},\n",
       "              'Github': {'base_loss': 1.599116039276123,\n",
       "               'self_loss': 5.637868976593017,\n",
       "               'future_loss': 5.651565408706665},\n",
       "              'NIH ExPorter': {'base_loss': 2.458038640022278,\n",
       "               'self_loss': 6.087363624572754,\n",
       "               'future_loss': 6.112779664993286},\n",
       "              'OpenWebText2': {'base_loss': 2.460579514503479,\n",
       "               'self_loss': 5.681920146942138,\n",
       "               'future_loss': 5.688735103607177},\n",
       "              'StackExchange': {'base_loss': 2.358079195022583,\n",
       "               'self_loss': 5.418005132675171,\n",
       "               'future_loss': 5.437919282913208},\n",
       "              'Wikipedia (en)': {'base_loss': 2.1125935316085815,\n",
       "               'self_loss': 5.343508338928222,\n",
       "               'future_loss': 5.336773300170899},\n",
       "              'YoutubeSubtitles': {'base_loss': 2.690899157524109,\n",
       "               'self_loss': 6.0484692573547365,\n",
       "               'future_loss': 6.0134035587310795}},\n",
       "             'FreeLaw': {'rand': {'base_loss': 12.604202175140381,\n",
       "               'self_loss': 9.527024364471435,\n",
       "               'future_loss': 12.258057403564454},\n",
       "              'ArXiv': {'base_loss': 2.598403739929199,\n",
       "               'self_loss': 6.4985555648803714,\n",
       "               'future_loss': 6.562563896179199},\n",
       "              'Enron Emails': {'base_loss': 2.9304072856903076,\n",
       "               'self_loss': 5.465362119674682,\n",
       "               'future_loss': 5.4513836860656735},\n",
       "              'FreeLaw': {'base_loss': 2.012812340259552,\n",
       "               'self_loss': 3.035647416114807,\n",
       "               'future_loss': 2.9079676628112794},\n",
       "              'HackerNews': {'base_loss': 2.944856142997742,\n",
       "               'self_loss': 6.087279415130615,\n",
       "               'future_loss': 6.172875261306762},\n",
       "              'OpenSubtitles': {'base_loss': 2.970352864265442,\n",
       "               'self_loss': 6.28222541809082,\n",
       "               'future_loss': 6.269048357009888},\n",
       "              'PubMed Abstracts': {'base_loss': 2.2556503057479858,\n",
       "               'self_loss': 6.303942632675171,\n",
       "               'future_loss': 6.31035099029541},\n",
       "              'UPSTO Backgrounds': {'base_loss': 2.448454737663269,\n",
       "               'self_loss': 5.926417064666748,\n",
       "               'future_loss': 5.980102825164795},\n",
       "              'DM Mathematics': {'base_loss': 2.0207967162132263,\n",
       "               'self_loss': 5.0598952293396,\n",
       "               'future_loss': 5.1223564624786375},\n",
       "              'EuroParl': {'base_loss': 2.6344263553619385,\n",
       "               'self_loss': 8.238507747650146,\n",
       "               'future_loss': 8.327893257141113},\n",
       "              'Github': {'base_loss': 1.5958958983421325,\n",
       "               'self_loss': 6.274679374694824,\n",
       "               'future_loss': 6.283841705322265},\n",
       "              'NIH ExPorter': {'base_loss': 2.436430788040161,\n",
       "               'self_loss': 6.42052698135376,\n",
       "               'future_loss': 6.443724298477173},\n",
       "              'OpenWebText2': {'base_loss': 2.4554229974746704,\n",
       "               'self_loss': 6.133442211151123,\n",
       "               'future_loss': 6.1217645645141605},\n",
       "              'StackExchange': {'base_loss': 2.3722439289093016,\n",
       "               'self_loss': 6.196308326721192,\n",
       "               'future_loss': 6.219412755966187},\n",
       "              'Wikipedia (en)': {'base_loss': 2.1381468892097475,\n",
       "               'self_loss': 5.600599956512451,\n",
       "               'future_loss': 5.587706565856934},\n",
       "              'YoutubeSubtitles': {'base_loss': 2.6969257831573485,\n",
       "               'self_loss': 6.628041791915893,\n",
       "               'future_loss': 6.610249328613281}},\n",
       "             'HackerNews': {'rand': {'base_loss': 12.61658411026001,\n",
       "               'self_loss': 9.606728172302246,\n",
       "               'future_loss': 12.62192964553833},\n",
       "              'ArXiv': {'base_loss': 2.5760834217071533,\n",
       "               'self_loss': 5.77374849319458,\n",
       "               'future_loss': 5.84166374206543},\n",
       "              'Enron Emails': {'base_loss': 2.913206958770752,\n",
       "               'self_loss': 5.13835597038269,\n",
       "               'future_loss': 5.12111086845398},\n",
       "              'FreeLaw': {'base_loss': 2.011435532569885,\n",
       "               'self_loss': 5.127992868423462,\n",
       "               'future_loss': 5.174381256103516},\n",
       "              'HackerNews': {'base_loss': 2.979479932785034,\n",
       "               'self_loss': 4.470339345932007,\n",
       "               'future_loss': 4.512628173828125},\n",
       "              'OpenSubtitles': {'base_loss': 2.955427575111389,\n",
       "               'self_loss': 5.344721412658691,\n",
       "               'future_loss': 5.411208152770996},\n",
       "              'PubMed Abstracts': {'base_loss': 2.227696108818054,\n",
       "               'self_loss': 5.646203899383545,\n",
       "               'future_loss': 5.661390924453736},\n",
       "              'UPSTO Backgrounds': {'base_loss': 2.440706419944763,\n",
       "               'self_loss': 5.183427047729492,\n",
       "               'future_loss': 5.230816411972046},\n",
       "              'DM Mathematics': {'base_loss': 2.012589526176453,\n",
       "               'self_loss': 4.429622745513916,\n",
       "               'future_loss': 4.48375391960144},\n",
       "              'EuroParl': {'base_loss': 2.600450301170349,\n",
       "               'self_loss': 8.081792449951172,\n",
       "               'future_loss': 8.171666431427003},\n",
       "              'Github': {'base_loss': 1.6031523585319518,\n",
       "               'self_loss': 5.346243810653687,\n",
       "               'future_loss': 5.364455318450927},\n",
       "              'NIH ExPorter': {'base_loss': 2.4301643133163453,\n",
       "               'self_loss': 5.653652334213257,\n",
       "               'future_loss': 5.689865255355835},\n",
       "              'OpenWebText2': {'base_loss': 2.45903000831604,\n",
       "               'self_loss': 5.538922739028931,\n",
       "               'future_loss': 5.528135776519775},\n",
       "              'StackExchange': {'base_loss': 2.3626110315322877,\n",
       "               'self_loss': 5.000688314437866,\n",
       "               'future_loss': 5.0069475173950195},\n",
       "              'Wikipedia (en)': {'base_loss': 2.104694151878357,\n",
       "               'self_loss': 5.334018564224243,\n",
       "               'future_loss': 5.329104089736939},\n",
       "              'YoutubeSubtitles': {'base_loss': 2.691179060935974,\n",
       "               'self_loss': 5.888587570190429,\n",
       "               'future_loss': 5.8321788787841795}},\n",
       "             'OpenSubtitles': {'rand': {'base_loss': 12.612938690185548,\n",
       "               'self_loss': 9.436952114105225,\n",
       "               'future_loss': 12.270416831970214},\n",
       "              'ArXiv': {'base_loss': 2.5742286443710327,\n",
       "               'self_loss': 6.452970314025879,\n",
       "               'future_loss': 6.5106159210205075},\n",
       "              'Enron Emails': {'base_loss': 2.9194605350494385,\n",
       "               'self_loss': 5.676419258117676,\n",
       "               'future_loss': 5.660964393615723},\n",
       "              'FreeLaw': {'base_loss': 2.0010403633117675,\n",
       "               'self_loss': 5.390448665618896,\n",
       "               'future_loss': 5.383219242095947},\n",
       "              'HackerNews': {'base_loss': 2.9430618047714234,\n",
       "               'self_loss': 5.872165536880493,\n",
       "               'future_loss': 5.952522945404053},\n",
       "              'OpenSubtitles': {'base_loss': 2.971815896034241,\n",
       "               'self_loss': 4.436774492263794,\n",
       "               'future_loss': 4.254372644424438},\n",
       "              'PubMed Abstracts': {'base_loss': 2.240683078765869,\n",
       "               'self_loss': 6.080225801467895,\n",
       "               'future_loss': 6.080001258850098},\n",
       "              'UPSTO Backgrounds': {'base_loss': 2.4426291465759276,\n",
       "               'self_loss': 5.772926664352417,\n",
       "               'future_loss': 5.8102234363555905},\n",
       "              'DM Mathematics': {'base_loss': 2.0342875957489013,\n",
       "               'self_loss': 5.132303237915039,\n",
       "               'future_loss': 5.15642786026001},\n",
       "              'EuroParl': {'base_loss': 2.6270493984222414,\n",
       "               'self_loss': 7.709026575088501,\n",
       "               'future_loss': 7.755600929260254},\n",
       "              'Github': {'base_loss': 1.6307193875312804,\n",
       "               'self_loss': 6.9276951313018795,\n",
       "               'future_loss': 6.945399188995362},\n",
       "              'NIH ExPorter': {'base_loss': 2.4255501985549928,\n",
       "               'self_loss': 6.171197175979614,\n",
       "               'future_loss': 6.189424848556518},\n",
       "              'OpenWebText2': {'base_loss': 2.4694079875946047,\n",
       "               'self_loss': 5.73903489112854,\n",
       "               'future_loss': 5.731823968887329},\n",
       "              'StackExchange': {'base_loss': 2.3757882118225098,\n",
       "               'self_loss': 6.289489126205444,\n",
       "               'future_loss': 6.284893655776978},\n",
       "              'Wikipedia (en)': {'base_loss': 2.1147039890289308,\n",
       "               'self_loss': 5.501055383682251,\n",
       "               'future_loss': 5.4815590381622314},\n",
       "              'YoutubeSubtitles': {'base_loss': 2.717106008529663,\n",
       "               'self_loss': 6.06696572303772,\n",
       "               'future_loss': 6.04625129699707}},\n",
       "             'PubMed Abstracts': {'rand': {'base_loss': 12.605817413330078,\n",
       "               'self_loss': 9.672308254241944,\n",
       "               'future_loss': 12.503537273406982},\n",
       "              'ArXiv': {'base_loss': 2.5673482179641725,\n",
       "               'self_loss': 5.6870848655700685,\n",
       "               'future_loss': 5.719359540939331},\n",
       "              'Enron Emails': {'base_loss': 2.940990924835205,\n",
       "               'self_loss': 6.003382158279419,\n",
       "               'future_loss': 6.004603052139283},\n",
       "              'FreeLaw': {'base_loss': 1.9716532707214356,\n",
       "               'self_loss': 5.539561796188354,\n",
       "               'future_loss': 5.566369867324829},\n",
       "              'HackerNews': {'base_loss': 2.960301160812378,\n",
       "               'self_loss': 6.139655876159668,\n",
       "               'future_loss': 6.228806638717652},\n",
       "              'OpenSubtitles': {'base_loss': 2.9835585594177245,\n",
       "               'self_loss': 6.467441415786743,\n",
       "               'future_loss': 6.503542709350586},\n",
       "              'PubMed Abstracts': {'base_loss': 2.216872787475586,\n",
       "               'self_loss': 4.03402361869812,\n",
       "               'future_loss': 4.000287389755249},\n",
       "              'UPSTO Backgrounds': {'base_loss': 2.4513802528381348,\n",
       "               'self_loss': 4.884285020828247,\n",
       "               'future_loss': 4.916281080245971},\n",
       "              'DM Mathematics': {'base_loss': 2.01024512052536,\n",
       "               'self_loss': 4.626759481430054,\n",
       "               'future_loss': 4.65136194229126},\n",
       "              'EuroParl': {'base_loss': 2.6319022178649902,\n",
       "               'self_loss': 8.051564264297486,\n",
       "               'future_loss': 8.13206181526184},\n",
       "              'Github': {'base_loss': 1.5749980449676513,\n",
       "               'self_loss': 6.954019832611084,\n",
       "               'future_loss': 6.95652666091919},\n",
       "              'NIH ExPorter': {'base_loss': 2.4523607730865478,\n",
       "               'self_loss': 4.381924438476562,\n",
       "               'future_loss': 4.385289812088013},\n",
       "              'OpenWebText2': {'base_loss': 2.4577346563339235,\n",
       "               'self_loss': 6.1830487728118895,\n",
       "               'future_loss': 6.173844814300537},\n",
       "              'StackExchange': {'base_loss': 2.388827681541443,\n",
       "               'self_loss': 6.4080956935882565,\n",
       "               'future_loss': 6.404293489456177},\n",
       "              'Wikipedia (en)': {'base_loss': 2.14747576713562,\n",
       "               'self_loss': 5.570599317550659,\n",
       "               'future_loss': 5.55088586807251},\n",
       "              'YoutubeSubtitles': {'base_loss': 2.701004076004028,\n",
       "               'self_loss': 6.793764686584472,\n",
       "               'future_loss': 6.812324666976929}},\n",
       "             'UPSTO Backgrounds': {'rand': {'base_loss': 12.61070213317871,\n",
       "               'self_loss': 9.652193069458008,\n",
       "               'future_loss': 12.45572624206543},\n",
       "              'ArXiv': {'base_loss': 2.559542655944824,\n",
       "               'self_loss': 5.795277118682861,\n",
       "               'future_loss': 5.845025253295899},\n",
       "              'Enron Emails': {'base_loss': 2.9105788230895997,\n",
       "               'self_loss': 5.833709383010865,\n",
       "               'future_loss': 5.835532903671265},\n",
       "              'FreeLaw': {'base_loss': 1.9956584572792053,\n",
       "               'self_loss': 5.285824871063232,\n",
       "               'future_loss': 5.308065700531006},\n",
       "              'HackerNews': {'base_loss': 2.932074761390686,\n",
       "               'self_loss': 5.923134136199951,\n",
       "               'future_loss': 6.043747186660767},\n",
       "              'OpenSubtitles': {'base_loss': 2.9742023944854736,\n",
       "               'self_loss': 6.334881353378296,\n",
       "               'future_loss': 6.362218570709229},\n",
       "              'PubMed Abstracts': {'base_loss': 2.2493618011474608,\n",
       "               'self_loss': 4.787590885162354,\n",
       "               'future_loss': 4.7986366748809814},\n",
       "              'UPSTO Backgrounds': {'base_loss': 2.4266035079956056,\n",
       "               'self_loss': 3.9861602783203125,\n",
       "               'future_loss': 3.9447052240371705},\n",
       "              'DM Mathematics': {'base_loss': 2.008716893196106,\n",
       "               'self_loss': 4.970585489273072,\n",
       "               'future_loss': 5.024040555953979},\n",
       "              'EuroParl': {'base_loss': 2.645246434211731,\n",
       "               'self_loss': 8.200235652923585,\n",
       "               'future_loss': 8.305927562713624},\n",
       "              'Github': {'base_loss': 1.6152016997337342,\n",
       "               'self_loss': 6.658351230621338,\n",
       "               'future_loss': 6.677027177810669},\n",
       "              'NIH ExPorter': {'base_loss': 2.4200287103652953,\n",
       "               'self_loss': 4.864888286590576,\n",
       "               'future_loss': 4.868100643157959},\n",
       "              'OpenWebText2': {'base_loss': 2.469779944419861,\n",
       "               'self_loss': 6.077797269821167,\n",
       "               'future_loss': 6.077435827255249},\n",
       "              'StackExchange': {'base_loss': 2.3887146949768066,\n",
       "               'self_loss': 6.048770427703857,\n",
       "               'future_loss': 6.0600502490997314},\n",
       "              'Wikipedia (en)': {'base_loss': 2.1137685060501097,\n",
       "               'self_loss': 5.623454904556274,\n",
       "               'future_loss': 5.603830480575562},\n",
       "              'YoutubeSubtitles': {'base_loss': 2.680012917518616,\n",
       "               'self_loss': 6.629965019226074,\n",
       "               'future_loss': 6.68673186302185}}})"
      ]
     },
     "execution_count": 16,
     "metadata": {},
     "output_type": "execute_result"
    }
   ],
   "source": [
    "b"
   ]
  },
  {
   "cell_type": "code",
   "execution_count": null,
   "id": "15f0ba76-319c-4554-af8e-c825e0d76f10",
   "metadata": {},
   "outputs": [],
   "source": []
  }
 ],
 "metadata": {
  "kernelspec": {
   "display_name": "Python 3 (ipykernel)",
   "language": "python",
   "name": "python3"
  },
  "language_info": {
   "codemirror_mode": {
    "name": "ipython",
    "version": 3
   },
   "file_extension": ".py",
   "mimetype": "text/x-python",
   "name": "python",
   "nbconvert_exporter": "python",
   "pygments_lexer": "ipython3",
   "version": "3.10.12"
  }
 },
 "nbformat": 4,
 "nbformat_minor": 5
}
