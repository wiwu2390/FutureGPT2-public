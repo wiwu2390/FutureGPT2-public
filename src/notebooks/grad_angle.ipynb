{
 "cells": [
  {
   "cell_type": "code",
   "execution_count": 1,
   "id": "dfc18c0b-c773-4464-9757-cbe1121fd047",
   "metadata": {},
   "outputs": [],
   "source": [
    "import os\n",
    "os.environ['HF_HOME'] = '/workspace/cache/huggingface/'\n",
    "os.chdir('/workspace/FutureGPT2/src/')\n",
    "\n",
    "import datasets\n",
    "from torch.utils.data import DataLoader\n",
    "from torch import nn\n",
    "from itertools import islice\n",
    "from transformers import AutoConfig, AutoModelForCausalLM, AutoTokenizer\n",
    "from datasets import Dataset, load_dataset\n",
    "from torch import nn\n",
    "from models.myopic_model import *\n",
    "\n",
    "from tqdm import tqdm\n",
    "import pandas as pd\n",
    "import gc\n",
    "from glob import glob\n",
    "import numpy as np\n",
    "import copy\n",
    "from collections import defaultdict\n",
    "from matplotlib import pyplot as plt\n",
    "\n",
    "%load_ext autoreload\n",
    "%autoreload 2"
   ]
  },
  {
   "cell_type": "code",
   "execution_count": 2,
   "id": "c55400dc-b546-4c8b-9528-20b3382b9f6e",
   "metadata": {},
   "outputs": [],
   "source": [
    "config = AutoConfig.from_pretrained(\"EleutherAI/pythia-70m-deduped\")\n",
    "config.upcast_attn = True\n",
    "model = AutoModelForCausalLM.from_pretrained(\n",
    "    \"EleutherAI/pythia-70m-deduped\",\n",
    "    config=config,\n",
    "    revision=\"step3000\",\n",
    ")"
   ]
  },
  {
   "cell_type": "code",
   "execution_count": 38,
   "id": "9945efcd-3b67-484b-876e-62b1bdd46420",
   "metadata": {},
   "outputs": [],
   "source": [
    "train = load_dataset(\n",
    "    'EleutherAI/pile-deduped-pythia-random-sampled', \n",
    "    split='train[-1000:]'\n",
    ")\n",
    "train = train.rename_column('Tokens', 'input_ids')\n",
    "train = train.remove_columns([c for c in train.column_names if c != 'input_ids'])\n",
    "train = train.cast_column('input_ids', datasets.Sequence(datasets.Value('int64')))\n",
    "train = train.with_format('torch')\n",
    "train_loader = DataLoader(train, batch_size=64, drop_last=True)#, num_workers=96)"
   ]
  },
  {
   "cell_type": "code",
   "execution_count": 43,
   "id": "d71f4a58-9046-4792-a59b-f986ec42475e",
   "metadata": {},
   "outputs": [
    {
     "name": "stderr",
     "output_type": "stream",
     "text": [
      "  5%|▌         | 4/80 [01:25<27:12, 21.48s/it]"
     ]
    },
    {
     "data": {
      "application/vnd.jupyter.widget-view+json": {
       "model_id": "ccdd237a441a45e5a6cec11641b6d197",
       "version_major": 2,
       "version_minor": 0
      },
      "text/plain": [
       "pytorch_model.bin:   0%|          | 0.00/911M [00:00<?, ?B/s]"
      ]
     },
     "metadata": {},
     "output_type": "display_data"
    },
    {
     "name": "stderr",
     "output_type": "stream",
     "text": [
      "  6%|▋         | 5/80 [02:01<33:04, 26.46s/it]"
     ]
    },
    {
     "data": {
      "application/vnd.jupyter.widget-view+json": {
       "model_id": "e2134c62cb074ad78fe5b218d50c9148",
       "version_major": 2,
       "version_minor": 0
      },
      "text/plain": [
       "pytorch_model.bin:   0%|          | 0.00/911M [00:00<?, ?B/s]"
      ]
     },
     "metadata": {},
     "output_type": "display_data"
    },
    {
     "name": "stderr",
     "output_type": "stream",
     "text": [
      "  8%|▊         | 6/80 [02:36<36:28, 29.57s/it]"
     ]
    },
    {
     "data": {
      "application/vnd.jupyter.widget-view+json": {
       "model_id": "17b5aaa8d1b64673a0901edbb1b035d3",
       "version_major": 2,
       "version_minor": 0
      },
      "text/plain": [
       "pytorch_model.bin:   0%|          | 0.00/911M [00:00<?, ?B/s]"
      ]
     },
     "metadata": {},
     "output_type": "display_data"
    },
    {
     "name": "stderr",
     "output_type": "stream",
     "text": [
      "  9%|▉         | 7/80 [03:22<42:31, 34.96s/it]"
     ]
    },
    {
     "data": {
      "application/vnd.jupyter.widget-view+json": {
       "model_id": "df03f85104ef4a228478dd0c37851fd6",
       "version_major": 2,
       "version_minor": 0
      },
      "text/plain": [
       "pytorch_model.bin:   0%|          | 0.00/911M [00:00<?, ?B/s]"
      ]
     },
     "metadata": {},
     "output_type": "display_data"
    },
    {
     "name": "stderr",
     "output_type": "stream",
     "text": [
      " 10%|█         | 8/80 [04:09<46:32, 38.79s/it]"
     ]
    },
    {
     "data": {
      "application/vnd.jupyter.widget-view+json": {
       "model_id": "eb951e0d9da34c6fa7a3f9648abc3133",
       "version_major": 2,
       "version_minor": 0
      },
      "text/plain": [
       "pytorch_model.bin:   0%|          | 0.00/911M [00:00<?, ?B/s]"
      ]
     },
     "metadata": {},
     "output_type": "display_data"
    },
    {
     "name": "stderr",
     "output_type": "stream",
     "text": [
      " 11%|█▏        | 9/80 [04:59<50:02, 42.29s/it]"
     ]
    },
    {
     "data": {
      "application/vnd.jupyter.widget-view+json": {
       "model_id": "1816b9bf0b594151a7ef36cd132ebf14",
       "version_major": 2,
       "version_minor": 0
      },
      "text/plain": [
       "pytorch_model.bin:   0%|          | 0.00/911M [00:00<?, ?B/s]"
      ]
     },
     "metadata": {},
     "output_type": "display_data"
    },
    {
     "name": "stderr",
     "output_type": "stream",
     "text": [
      " 12%|█▎        | 10/80 [05:42<49:16, 42.24s/it]"
     ]
    },
    {
     "data": {
      "application/vnd.jupyter.widget-view+json": {
       "model_id": "f9728be8cfcb46d4a3605b114a48de55",
       "version_major": 2,
       "version_minor": 0
      },
      "text/plain": [
       "pytorch_model.bin:   0%|          | 0.00/911M [00:00<?, ?B/s]"
      ]
     },
     "metadata": {},
     "output_type": "display_data"
    },
    {
     "name": "stderr",
     "output_type": "stream",
     "text": [
      " 14%|█▍        | 11/80 [06:31<51:12, 44.53s/it]"
     ]
    },
    {
     "data": {
      "application/vnd.jupyter.widget-view+json": {
       "model_id": "6634a90903d947218f987162b143b595",
       "version_major": 2,
       "version_minor": 0
      },
      "text/plain": [
       "pytorch_model.bin:   0%|          | 0.00/911M [00:00<?, ?B/s]"
      ]
     },
     "metadata": {},
     "output_type": "display_data"
    },
    {
     "name": "stderr",
     "output_type": "stream",
     "text": [
      " 15%|█▌        | 12/80 [07:06<47:09, 41.61s/it]"
     ]
    },
    {
     "data": {
      "application/vnd.jupyter.widget-view+json": {
       "model_id": "a5106e3502714da582c5221193d7d02d",
       "version_major": 2,
       "version_minor": 0
      },
      "text/plain": [
       "pytorch_model.bin:   0%|          | 0.00/911M [00:00<?, ?B/s]"
      ]
     },
     "metadata": {},
     "output_type": "display_data"
    },
    {
     "name": "stderr",
     "output_type": "stream",
     "text": [
      " 16%|█▋        | 13/80 [07:58<49:48, 44.61s/it]"
     ]
    },
    {
     "data": {
      "application/vnd.jupyter.widget-view+json": {
       "model_id": "31ac9a570e604088989a83c44da86641",
       "version_major": 2,
       "version_minor": 0
      },
      "text/plain": [
       "pytorch_model.bin:   0%|          | 0.00/911M [00:00<?, ?B/s]"
      ]
     },
     "metadata": {},
     "output_type": "display_data"
    },
    {
     "name": "stderr",
     "output_type": "stream",
     "text": [
      " 18%|█▊        | 14/80 [08:26<43:41, 39.73s/it]"
     ]
    },
    {
     "data": {
      "application/vnd.jupyter.widget-view+json": {
       "model_id": "308c055e581f43788e6bd9ba8dd7ab61",
       "version_major": 2,
       "version_minor": 0
      },
      "text/plain": [
       "pytorch_model.bin:   0%|          | 0.00/911M [00:00<?, ?B/s]"
      ]
     },
     "metadata": {},
     "output_type": "display_data"
    },
    {
     "name": "stderr",
     "output_type": "stream",
     "text": [
      " 19%|█▉        | 15/80 [09:21<47:49, 44.15s/it]"
     ]
    },
    {
     "data": {
      "application/vnd.jupyter.widget-view+json": {
       "model_id": "9035bdab78d54baa8ab0c8eba0ce37d5",
       "version_major": 2,
       "version_minor": 0
      },
      "text/plain": [
       "pytorch_model.bin:   0%|          | 0.00/911M [00:00<?, ?B/s]"
      ]
     },
     "metadata": {},
     "output_type": "display_data"
    },
    {
     "name": "stderr",
     "output_type": "stream",
     "text": [
      " 20%|██        | 16/80 [10:07<47:42, 44.72s/it]"
     ]
    },
    {
     "data": {
      "application/vnd.jupyter.widget-view+json": {
       "model_id": "6c30b4849ec74d7d8ff446e9f619fd24",
       "version_major": 2,
       "version_minor": 0
      },
      "text/plain": [
       "pytorch_model.bin:   0%|          | 0.00/911M [00:00<?, ?B/s]"
      ]
     },
     "metadata": {},
     "output_type": "display_data"
    },
    {
     "name": "stderr",
     "output_type": "stream",
     "text": [
      " 21%|██▏       | 17/80 [10:44<44:31, 42.41s/it]"
     ]
    },
    {
     "data": {
      "application/vnd.jupyter.widget-view+json": {
       "model_id": "6703341acc7143a5aad91a282db0908c",
       "version_major": 2,
       "version_minor": 0
      },
      "text/plain": [
       "pytorch_model.bin:   0%|          | 0.00/911M [00:00<?, ?B/s]"
      ]
     },
     "metadata": {},
     "output_type": "display_data"
    },
    {
     "name": "stderr",
     "output_type": "stream",
     "text": [
      " 22%|██▎       | 18/80 [11:25<43:31, 42.12s/it]"
     ]
    },
    {
     "data": {
      "application/vnd.jupyter.widget-view+json": {
       "model_id": "34c8bf8ff92b4c8aa5a911633070eccc",
       "version_major": 2,
       "version_minor": 0
      },
      "text/plain": [
       "pytorch_model.bin:   0%|          | 0.00/911M [00:00<?, ?B/s]"
      ]
     },
     "metadata": {},
     "output_type": "display_data"
    },
    {
     "name": "stderr",
     "output_type": "stream",
     "text": [
      " 24%|██▍       | 19/80 [12:07<42:48, 42.10s/it]"
     ]
    },
    {
     "data": {
      "application/vnd.jupyter.widget-view+json": {
       "model_id": "e0e6a8e00aab47599315712ba9fb8fa4",
       "version_major": 2,
       "version_minor": 0
      },
      "text/plain": [
       "pytorch_model.bin:   0%|          | 0.00/911M [00:00<?, ?B/s]"
      ]
     },
     "metadata": {},
     "output_type": "display_data"
    },
    {
     "name": "stderr",
     "output_type": "stream",
     "text": [
      " 25%|██▌       | 20/80 [12:56<44:12, 44.20s/it]"
     ]
    },
    {
     "data": {
      "application/vnd.jupyter.widget-view+json": {
       "model_id": "d08b6c2f209f4f5b923cb1f6c4b5ba70",
       "version_major": 2,
       "version_minor": 0
      },
      "text/plain": [
       "pytorch_model.bin:   0%|          | 0.00/911M [00:00<?, ?B/s]"
      ]
     },
     "metadata": {},
     "output_type": "display_data"
    },
    {
     "name": "stderr",
     "output_type": "stream",
     "text": [
      " 26%|██▋       | 21/80 [13:45<44:50, 45.60s/it]"
     ]
    },
    {
     "data": {
      "application/vnd.jupyter.widget-view+json": {
       "model_id": "1998b2505d5e4ac198c02f07cd44025c",
       "version_major": 2,
       "version_minor": 0
      },
      "text/plain": [
       "pytorch_model.bin:   0%|          | 0.00/911M [00:00<?, ?B/s]"
      ]
     },
     "metadata": {},
     "output_type": "display_data"
    },
    {
     "name": "stderr",
     "output_type": "stream",
     "text": [
      " 28%|██▊       | 22/80 [14:27<42:52, 44.35s/it]"
     ]
    },
    {
     "data": {
      "application/vnd.jupyter.widget-view+json": {
       "model_id": "a231f712e8594abe95e5cb7381a6c944",
       "version_major": 2,
       "version_minor": 0
      },
      "text/plain": [
       "pytorch_model.bin:   0%|          | 0.00/911M [00:00<?, ?B/s]"
      ]
     },
     "metadata": {},
     "output_type": "display_data"
    },
    {
     "name": "stderr",
     "output_type": "stream",
     "text": [
      " 29%|██▉       | 23/80 [15:18<44:14, 46.58s/it]"
     ]
    },
    {
     "data": {
      "application/vnd.jupyter.widget-view+json": {
       "model_id": "9322f8f458f448caa22accaa6d8f65bf",
       "version_major": 2,
       "version_minor": 0
      },
      "text/plain": [
       "pytorch_model.bin:   0%|          | 0.00/911M [00:00<?, ?B/s]"
      ]
     },
     "metadata": {},
     "output_type": "display_data"
    },
    {
     "name": "stderr",
     "output_type": "stream",
     "text": [
      " 30%|███       | 24/80 [16:03<43:04, 46.15s/it]"
     ]
    },
    {
     "data": {
      "application/vnd.jupyter.widget-view+json": {
       "model_id": "4745fe70fc4e4893816c0cecd78bd6d9",
       "version_major": 2,
       "version_minor": 0
      },
      "text/plain": [
       "pytorch_model.bin:   0%|          | 0.00/911M [00:00<?, ?B/s]"
      ]
     },
     "metadata": {},
     "output_type": "display_data"
    },
    {
     "name": "stderr",
     "output_type": "stream",
     "text": [
      " 31%|███▏      | 25/80 [16:47<41:42, 45.49s/it]"
     ]
    },
    {
     "data": {
      "application/vnd.jupyter.widget-view+json": {
       "model_id": "9817cae049dd4f26aa46c5c3179bd006",
       "version_major": 2,
       "version_minor": 0
      },
      "text/plain": [
       "pytorch_model.bin:   0%|          | 0.00/911M [00:00<?, ?B/s]"
      ]
     },
     "metadata": {},
     "output_type": "display_data"
    },
    {
     "name": "stderr",
     "output_type": "stream",
     "text": [
      " 32%|███▎      | 26/80 [17:31<40:31, 45.02s/it]"
     ]
    },
    {
     "data": {
      "application/vnd.jupyter.widget-view+json": {
       "model_id": "c1ed4f95b885465d82308c905dd2146c",
       "version_major": 2,
       "version_minor": 0
      },
      "text/plain": [
       "pytorch_model.bin:   0%|          | 0.00/911M [00:00<?, ?B/s]"
      ]
     },
     "metadata": {},
     "output_type": "display_data"
    },
    {
     "name": "stderr",
     "output_type": "stream",
     "text": [
      " 34%|███▍      | 27/80 [18:09<37:55, 42.93s/it]"
     ]
    },
    {
     "data": {
      "application/vnd.jupyter.widget-view+json": {
       "model_id": "4dc90ff23cca464eaab929edc24711b7",
       "version_major": 2,
       "version_minor": 0
      },
      "text/plain": [
       "pytorch_model.bin:   0%|          | 0.00/911M [00:00<?, ?B/s]"
      ]
     },
     "metadata": {},
     "output_type": "display_data"
    },
    {
     "name": "stderr",
     "output_type": "stream",
     "text": [
      " 35%|███▌      | 28/80 [18:45<35:23, 40.84s/it]"
     ]
    },
    {
     "data": {
      "application/vnd.jupyter.widget-view+json": {
       "model_id": "5848fd7486384fc4ab06be7011058bb4",
       "version_major": 2,
       "version_minor": 0
      },
      "text/plain": [
       "pytorch_model.bin:   0%|          | 0.00/911M [00:00<?, ?B/s]"
      ]
     },
     "metadata": {},
     "output_type": "display_data"
    },
    {
     "name": "stderr",
     "output_type": "stream",
     "text": [
      " 36%|███▋      | 29/80 [19:27<35:02, 41.22s/it]"
     ]
    },
    {
     "data": {
      "application/vnd.jupyter.widget-view+json": {
       "model_id": "f959c864fd09479f84c8bad8d5c06dae",
       "version_major": 2,
       "version_minor": 0
      },
      "text/plain": [
       "pytorch_model.bin:   0%|          | 0.00/911M [00:00<?, ?B/s]"
      ]
     },
     "metadata": {},
     "output_type": "display_data"
    },
    {
     "name": "stderr",
     "output_type": "stream",
     "text": [
      " 38%|███▊      | 30/80 [20:17<36:32, 43.85s/it]"
     ]
    },
    {
     "data": {
      "application/vnd.jupyter.widget-view+json": {
       "model_id": "75023d9b77be460c861e5fdfb5ba358c",
       "version_major": 2,
       "version_minor": 0
      },
      "text/plain": [
       "pytorch_model.bin:   0%|          | 0.00/911M [00:00<?, ?B/s]"
      ]
     },
     "metadata": {},
     "output_type": "display_data"
    },
    {
     "name": "stderr",
     "output_type": "stream",
     "text": [
      " 39%|███▉      | 31/80 [20:54<34:01, 41.67s/it]"
     ]
    },
    {
     "data": {
      "application/vnd.jupyter.widget-view+json": {
       "model_id": "6e7628b9dd9e4504a4e8321c4461838d",
       "version_major": 2,
       "version_minor": 0
      },
      "text/plain": [
       "pytorch_model.bin:   0%|          | 0.00/911M [00:00<?, ?B/s]"
      ]
     },
     "metadata": {},
     "output_type": "display_data"
    },
    {
     "name": "stderr",
     "output_type": "stream",
     "text": [
      " 40%|████      | 32/80 [21:38<33:59, 42.48s/it]"
     ]
    },
    {
     "data": {
      "application/vnd.jupyter.widget-view+json": {
       "model_id": "f64432ae9dea44c2b0358914706854ab",
       "version_major": 2,
       "version_minor": 0
      },
      "text/plain": [
       "pytorch_model.bin:   0%|          | 0.00/911M [00:00<?, ?B/s]"
      ]
     },
     "metadata": {},
     "output_type": "display_data"
    },
    {
     "name": "stderr",
     "output_type": "stream",
     "text": [
      " 41%|████▏     | 33/80 [22:28<35:03, 44.76s/it]"
     ]
    },
    {
     "data": {
      "application/vnd.jupyter.widget-view+json": {
       "model_id": "64a9962ce8c54685910ab54df83dac6a",
       "version_major": 2,
       "version_minor": 0
      },
      "text/plain": [
       "pytorch_model.bin:   0%|          | 0.00/911M [00:00<?, ?B/s]"
      ]
     },
     "metadata": {},
     "output_type": "display_data"
    },
    {
     "name": "stderr",
     "output_type": "stream",
     "text": [
      " 42%|████▎     | 34/80 [23:14<34:24, 44.88s/it]"
     ]
    },
    {
     "data": {
      "application/vnd.jupyter.widget-view+json": {
       "model_id": "caaea9e97fe64b64a4b4c52f4a760f04",
       "version_major": 2,
       "version_minor": 0
      },
      "text/plain": [
       "pytorch_model.bin:   0%|          | 0.00/911M [00:00<?, ?B/s]"
      ]
     },
     "metadata": {},
     "output_type": "display_data"
    },
    {
     "name": "stderr",
     "output_type": "stream",
     "text": [
      " 44%|████▍     | 35/80 [23:50<31:46, 42.37s/it]"
     ]
    },
    {
     "data": {
      "application/vnd.jupyter.widget-view+json": {
       "model_id": "bc3fd0f95de240c79ebd64ef79b6c77d",
       "version_major": 2,
       "version_minor": 0
      },
      "text/plain": [
       "pytorch_model.bin:   0%|          | 0.00/911M [00:00<?, ?B/s]"
      ]
     },
     "metadata": {},
     "output_type": "display_data"
    },
    {
     "name": "stderr",
     "output_type": "stream",
     "text": [
      " 45%|████▌     | 36/80 [24:34<31:19, 42.72s/it]"
     ]
    },
    {
     "data": {
      "application/vnd.jupyter.widget-view+json": {
       "model_id": "77e960e34cf44363ae760bff06d7ac3f",
       "version_major": 2,
       "version_minor": 0
      },
      "text/plain": [
       "pytorch_model.bin:   0%|          | 0.00/911M [00:00<?, ?B/s]"
      ]
     },
     "metadata": {},
     "output_type": "display_data"
    },
    {
     "name": "stderr",
     "output_type": "stream",
     "text": [
      " 46%|████▋     | 37/80 [25:17<30:45, 42.91s/it]"
     ]
    },
    {
     "data": {
      "application/vnd.jupyter.widget-view+json": {
       "model_id": "53bc71a08b4f45fc9258b938efc8b63e",
       "version_major": 2,
       "version_minor": 0
      },
      "text/plain": [
       "pytorch_model.bin:   0%|          | 0.00/911M [00:00<?, ?B/s]"
      ]
     },
     "metadata": {},
     "output_type": "display_data"
    },
    {
     "name": "stderr",
     "output_type": "stream",
     "text": [
      " 48%|████▊     | 38/80 [26:08<31:37, 45.19s/it]"
     ]
    },
    {
     "data": {
      "application/vnd.jupyter.widget-view+json": {
       "model_id": "030af3af776d4cbfa06d183726170732",
       "version_major": 2,
       "version_minor": 0
      },
      "text/plain": [
       "pytorch_model.bin:   0%|          | 0.00/911M [00:00<?, ?B/s]"
      ]
     },
     "metadata": {},
     "output_type": "display_data"
    },
    {
     "name": "stderr",
     "output_type": "stream",
     "text": [
      " 49%|████▉     | 39/80 [26:57<31:47, 46.53s/it]"
     ]
    },
    {
     "data": {
      "application/vnd.jupyter.widget-view+json": {
       "model_id": "9b70c306b43a4fa98368b956dd581360",
       "version_major": 2,
       "version_minor": 0
      },
      "text/plain": [
       "pytorch_model.bin:   0%|          | 0.00/911M [00:00<?, ?B/s]"
      ]
     },
     "metadata": {},
     "output_type": "display_data"
    },
    {
     "name": "stderr",
     "output_type": "stream",
     "text": [
      " 50%|█████     | 40/80 [27:42<30:37, 45.93s/it]"
     ]
    },
    {
     "data": {
      "application/vnd.jupyter.widget-view+json": {
       "model_id": "63a1b6d2061843f1baf912893819c7b7",
       "version_major": 2,
       "version_minor": 0
      },
      "text/plain": [
       "pytorch_model.bin:   0%|          | 0.00/911M [00:00<?, ?B/s]"
      ]
     },
     "metadata": {},
     "output_type": "display_data"
    },
    {
     "name": "stderr",
     "output_type": "stream",
     "text": [
      " 51%|█████▏    | 41/80 [28:28<29:55, 46.04s/it]"
     ]
    },
    {
     "data": {
      "application/vnd.jupyter.widget-view+json": {
       "model_id": "1b8aa5107c2b444c98b197fb282e48e0",
       "version_major": 2,
       "version_minor": 0
      },
      "text/plain": [
       "pytorch_model.bin:   0%|          | 0.00/911M [00:00<?, ?B/s]"
      ]
     },
     "metadata": {},
     "output_type": "display_data"
    },
    {
     "name": "stderr",
     "output_type": "stream",
     "text": [
      " 52%|█████▎    | 42/80 [29:15<29:22, 46.39s/it]"
     ]
    },
    {
     "data": {
      "application/vnd.jupyter.widget-view+json": {
       "model_id": "cff905c5ab3d4b869166ea3bfdac4998",
       "version_major": 2,
       "version_minor": 0
      },
      "text/plain": [
       "pytorch_model.bin:   0%|          | 0.00/911M [00:00<?, ?B/s]"
      ]
     },
     "metadata": {},
     "output_type": "display_data"
    },
    {
     "name": "stderr",
     "output_type": "stream",
     "text": [
      " 54%|█████▍    | 43/80 [29:52<26:44, 43.37s/it]"
     ]
    },
    {
     "data": {
      "application/vnd.jupyter.widget-view+json": {
       "model_id": "fe85ea099dd743c8badfc8da19f700d2",
       "version_major": 2,
       "version_minor": 0
      },
      "text/plain": [
       "pytorch_model.bin:   0%|          | 0.00/911M [00:00<?, ?B/s]"
      ]
     },
     "metadata": {},
     "output_type": "display_data"
    },
    {
     "name": "stderr",
     "output_type": "stream",
     "text": [
      " 55%|█████▌    | 44/80 [30:27<24:30, 40.86s/it]"
     ]
    },
    {
     "data": {
      "application/vnd.jupyter.widget-view+json": {
       "model_id": "1ae457463b78407ab88fae0705dc179e",
       "version_major": 2,
       "version_minor": 0
      },
      "text/plain": [
       "pytorch_model.bin:   0%|          | 0.00/911M [00:00<?, ?B/s]"
      ]
     },
     "metadata": {},
     "output_type": "display_data"
    },
    {
     "name": "stderr",
     "output_type": "stream",
     "text": [
      " 56%|█████▋    | 45/80 [31:02<22:54, 39.28s/it]"
     ]
    },
    {
     "data": {
      "application/vnd.jupyter.widget-view+json": {
       "model_id": "79c2521406e147f9bc7ae27ab5861eb5",
       "version_major": 2,
       "version_minor": 0
      },
      "text/plain": [
       "pytorch_model.bin:   0%|          | 0.00/911M [00:00<?, ?B/s]"
      ]
     },
     "metadata": {},
     "output_type": "display_data"
    },
    {
     "name": "stderr",
     "output_type": "stream",
     "text": [
      " 57%|█████▊    | 46/80 [31:53<24:12, 42.72s/it]"
     ]
    },
    {
     "data": {
      "application/vnd.jupyter.widget-view+json": {
       "model_id": "9a42f3d880af429a9dd4b639366431e9",
       "version_major": 2,
       "version_minor": 0
      },
      "text/plain": [
       "pytorch_model.bin:   0%|          | 0.00/911M [00:00<?, ?B/s]"
      ]
     },
     "metadata": {},
     "output_type": "display_data"
    },
    {
     "name": "stderr",
     "output_type": "stream",
     "text": [
      " 59%|█████▉    | 47/80 [32:35<23:23, 42.54s/it]"
     ]
    },
    {
     "data": {
      "application/vnd.jupyter.widget-view+json": {
       "model_id": "63eeb1eaf6fa421c9711a2e0e1e5d934",
       "version_major": 2,
       "version_minor": 0
      },
      "text/plain": [
       "pytorch_model.bin:   0%|          | 0.00/911M [00:00<?, ?B/s]"
      ]
     },
     "metadata": {},
     "output_type": "display_data"
    },
    {
     "name": "stderr",
     "output_type": "stream",
     "text": [
      " 60%|██████    | 48/80 [33:12<21:48, 40.88s/it]"
     ]
    },
    {
     "data": {
      "application/vnd.jupyter.widget-view+json": {
       "model_id": "5c68947a6dd34cf7b72006164be903c8",
       "version_major": 2,
       "version_minor": 0
      },
      "text/plain": [
       "pytorch_model.bin:   0%|          | 0.00/911M [00:00<?, ?B/s]"
      ]
     },
     "metadata": {},
     "output_type": "display_data"
    },
    {
     "name": "stderr",
     "output_type": "stream",
     "text": [
      " 61%|██████▏   | 49/80 [33:55<21:29, 41.60s/it]"
     ]
    },
    {
     "data": {
      "application/vnd.jupyter.widget-view+json": {
       "model_id": "0171ca01f7ce47a99155428586db1f6c",
       "version_major": 2,
       "version_minor": 0
      },
      "text/plain": [
       "pytorch_model.bin:   0%|          | 0.00/911M [00:00<?, ?B/s]"
      ]
     },
     "metadata": {},
     "output_type": "display_data"
    },
    {
     "name": "stderr",
     "output_type": "stream",
     "text": [
      " 62%|██████▎   | 50/80 [34:31<19:54, 39.82s/it]"
     ]
    },
    {
     "data": {
      "application/vnd.jupyter.widget-view+json": {
       "model_id": "43ca7a2840e047e092a4ee7a5b01eaac",
       "version_major": 2,
       "version_minor": 0
      },
      "text/plain": [
       "pytorch_model.bin:   0%|          | 0.00/911M [00:00<?, ?B/s]"
      ]
     },
     "metadata": {},
     "output_type": "display_data"
    },
    {
     "name": "stderr",
     "output_type": "stream",
     "text": [
      " 64%|██████▍   | 51/80 [35:15<19:49, 41.03s/it]"
     ]
    },
    {
     "data": {
      "application/vnd.jupyter.widget-view+json": {
       "model_id": "bb4bdd6c083147249bf8b7575ef5ee70",
       "version_major": 2,
       "version_minor": 0
      },
      "text/plain": [
       "pytorch_model.bin:   0%|          | 0.00/911M [00:00<?, ?B/s]"
      ]
     },
     "metadata": {},
     "output_type": "display_data"
    },
    {
     "name": "stderr",
     "output_type": "stream",
     "text": [
      " 65%|██████▌   | 52/80 [36:06<20:30, 43.95s/it]"
     ]
    },
    {
     "data": {
      "application/vnd.jupyter.widget-view+json": {
       "model_id": "e16901adae3a47fa8ef20302131330aa",
       "version_major": 2,
       "version_minor": 0
      },
      "text/plain": [
       "pytorch_model.bin:   0%|          | 0.00/911M [00:00<?, ?B/s]"
      ]
     },
     "metadata": {},
     "output_type": "display_data"
    },
    {
     "name": "stderr",
     "output_type": "stream",
     "text": [
      " 66%|██████▋   | 53/80 [36:49<19:38, 43.64s/it]"
     ]
    },
    {
     "data": {
      "application/vnd.jupyter.widget-view+json": {
       "model_id": "af9de70e0b1846868231bc80ca19849e",
       "version_major": 2,
       "version_minor": 0
      },
      "text/plain": [
       "pytorch_model.bin:   0%|          | 0.00/911M [00:00<?, ?B/s]"
      ]
     },
     "metadata": {},
     "output_type": "display_data"
    },
    {
     "name": "stderr",
     "output_type": "stream",
     "text": [
      " 68%|██████▊   | 54/80 [37:22<17:32, 40.48s/it]"
     ]
    },
    {
     "data": {
      "application/vnd.jupyter.widget-view+json": {
       "model_id": "c12b3e04243348dba7c21c7f76336639",
       "version_major": 2,
       "version_minor": 0
      },
      "text/plain": [
       "pytorch_model.bin:   0%|          | 0.00/911M [00:00<?, ?B/s]"
      ]
     },
     "metadata": {},
     "output_type": "display_data"
    },
    {
     "name": "stderr",
     "output_type": "stream",
     "text": [
      " 69%|██████▉   | 55/80 [38:05<17:10, 41.22s/it]"
     ]
    },
    {
     "data": {
      "application/vnd.jupyter.widget-view+json": {
       "model_id": "047b97a0299042c9ad734519ebfd45e5",
       "version_major": 2,
       "version_minor": 0
      },
      "text/plain": [
       "pytorch_model.bin:   0%|          | 0.00/911M [00:00<?, ?B/s]"
      ]
     },
     "metadata": {},
     "output_type": "display_data"
    },
    {
     "name": "stderr",
     "output_type": "stream",
     "text": [
      " 70%|███████   | 56/80 [38:44<16:19, 40.80s/it]"
     ]
    },
    {
     "data": {
      "application/vnd.jupyter.widget-view+json": {
       "model_id": "6bae526842bc4d2199ad40a78627b5a0",
       "version_major": 2,
       "version_minor": 0
      },
      "text/plain": [
       "pytorch_model.bin:   0%|          | 0.00/911M [00:00<?, ?B/s]"
      ]
     },
     "metadata": {},
     "output_type": "display_data"
    },
    {
     "name": "stderr",
     "output_type": "stream",
     "text": [
      " 71%|███████▏  | 57/80 [39:27<15:53, 41.46s/it]"
     ]
    },
    {
     "data": {
      "application/vnd.jupyter.widget-view+json": {
       "model_id": "2cc142a105294f0fb089a73a91c4aa37",
       "version_major": 2,
       "version_minor": 0
      },
      "text/plain": [
       "pytorch_model.bin:   0%|          | 0.00/911M [00:00<?, ?B/s]"
      ]
     },
     "metadata": {},
     "output_type": "display_data"
    },
    {
     "name": "stderr",
     "output_type": "stream",
     "text": [
      " 72%|███████▎  | 58/80 [40:02<14:27, 39.45s/it]"
     ]
    },
    {
     "data": {
      "application/vnd.jupyter.widget-view+json": {
       "model_id": "7659511e3b7745f29a97c3e25a7c43fd",
       "version_major": 2,
       "version_minor": 0
      },
      "text/plain": [
       "pytorch_model.bin:   0%|          | 0.00/911M [00:00<?, ?B/s]"
      ]
     },
     "metadata": {},
     "output_type": "display_data"
    },
    {
     "name": "stderr",
     "output_type": "stream",
     "text": [
      " 74%|███████▍  | 59/80 [40:44<14:00, 40.04s/it]"
     ]
    },
    {
     "data": {
      "application/vnd.jupyter.widget-view+json": {
       "model_id": "c7f8c3b315af46d6a5fb30e9a807738d",
       "version_major": 2,
       "version_minor": 0
      },
      "text/plain": [
       "pytorch_model.bin:   0%|          | 0.00/911M [00:00<?, ?B/s]"
      ]
     },
     "metadata": {},
     "output_type": "display_data"
    },
    {
     "name": "stderr",
     "output_type": "stream",
     "text": [
      " 75%|███████▌  | 60/80 [41:18<12:45, 38.26s/it]"
     ]
    },
    {
     "data": {
      "application/vnd.jupyter.widget-view+json": {
       "model_id": "0a815d9a40864471b341c3b68e9e5d81",
       "version_major": 2,
       "version_minor": 0
      },
      "text/plain": [
       "pytorch_model.bin:   0%|          | 0.00/911M [00:00<?, ?B/s]"
      ]
     },
     "metadata": {},
     "output_type": "display_data"
    },
    {
     "name": "stderr",
     "output_type": "stream",
     "text": [
      " 76%|███████▋  | 61/80 [42:02<12:43, 40.20s/it]"
     ]
    },
    {
     "data": {
      "application/vnd.jupyter.widget-view+json": {
       "model_id": "8429e05d5de648b9aee945f0c3976fbf",
       "version_major": 2,
       "version_minor": 0
      },
      "text/plain": [
       "pytorch_model.bin:   0%|          | 0.00/911M [00:00<?, ?B/s]"
      ]
     },
     "metadata": {},
     "output_type": "display_data"
    },
    {
     "name": "stderr",
     "output_type": "stream",
     "text": [
      " 78%|███████▊  | 62/80 [42:46<12:20, 41.16s/it]"
     ]
    },
    {
     "data": {
      "application/vnd.jupyter.widget-view+json": {
       "model_id": "52ea691306624f5db7827f3283992262",
       "version_major": 2,
       "version_minor": 0
      },
      "text/plain": [
       "pytorch_model.bin:   0%|          | 0.00/911M [00:00<?, ?B/s]"
      ]
     },
     "metadata": {},
     "output_type": "display_data"
    },
    {
     "name": "stderr",
     "output_type": "stream",
     "text": [
      " 79%|███████▉  | 63/80 [43:29<11:47, 41.63s/it]"
     ]
    },
    {
     "data": {
      "application/vnd.jupyter.widget-view+json": {
       "model_id": "7973ceb41cdf410f8ffd6bf95f24ed7b",
       "version_major": 2,
       "version_minor": 0
      },
      "text/plain": [
       "pytorch_model.bin:   0%|          | 0.00/911M [00:00<?, ?B/s]"
      ]
     },
     "metadata": {},
     "output_type": "display_data"
    },
    {
     "name": "stderr",
     "output_type": "stream",
     "text": [
      " 80%|████████  | 64/80 [44:20<11:52, 44.51s/it]"
     ]
    },
    {
     "data": {
      "application/vnd.jupyter.widget-view+json": {
       "model_id": "26cc84b5258540cea9c560ce0d8e3d06",
       "version_major": 2,
       "version_minor": 0
      },
      "text/plain": [
       "pytorch_model.bin:   0%|          | 0.00/911M [00:00<?, ?B/s]"
      ]
     },
     "metadata": {},
     "output_type": "display_data"
    },
    {
     "name": "stderr",
     "output_type": "stream",
     "text": [
      " 81%|████████▏ | 65/80 [44:59<10:42, 42.81s/it]"
     ]
    },
    {
     "data": {
      "application/vnd.jupyter.widget-view+json": {
       "model_id": "98cfbc9a12044a56970eaf10b9a4c5d2",
       "version_major": 2,
       "version_minor": 0
      },
      "text/plain": [
       "pytorch_model.bin:   0%|          | 0.00/911M [00:00<?, ?B/s]"
      ]
     },
     "metadata": {},
     "output_type": "display_data"
    },
    {
     "name": "stderr",
     "output_type": "stream",
     "text": [
      " 82%|████████▎ | 66/80 [45:45<10:13, 43.81s/it]"
     ]
    },
    {
     "data": {
      "application/vnd.jupyter.widget-view+json": {
       "model_id": "b777f4ea92ff444483b9ccc05c3d19c1",
       "version_major": 2,
       "version_minor": 0
      },
      "text/plain": [
       "pytorch_model.bin:   0%|          | 0.00/911M [00:00<?, ?B/s]"
      ]
     },
     "metadata": {},
     "output_type": "display_data"
    },
    {
     "name": "stderr",
     "output_type": "stream",
     "text": [
      " 84%|████████▍ | 67/80 [46:33<09:45, 45.07s/it]"
     ]
    },
    {
     "data": {
      "application/vnd.jupyter.widget-view+json": {
       "model_id": "58fc5c2be93144a6bb4259d5606f4694",
       "version_major": 2,
       "version_minor": 0
      },
      "text/plain": [
       "pytorch_model.bin:   0%|          | 0.00/911M [00:00<?, ?B/s]"
      ]
     },
     "metadata": {},
     "output_type": "display_data"
    },
    {
     "name": "stderr",
     "output_type": "stream",
     "text": [
      " 85%|████████▌ | 68/80 [47:10<08:33, 42.76s/it]"
     ]
    },
    {
     "data": {
      "application/vnd.jupyter.widget-view+json": {
       "model_id": "db4d0bba38764f3cb144861062359de7",
       "version_major": 2,
       "version_minor": 0
      },
      "text/plain": [
       "pytorch_model.bin:   0%|          | 0.00/911M [00:00<?, ?B/s]"
      ]
     },
     "metadata": {},
     "output_type": "display_data"
    },
    {
     "name": "stderr",
     "output_type": "stream",
     "text": [
      " 86%|████████▋ | 69/80 [47:44<07:20, 40.02s/it]"
     ]
    },
    {
     "data": {
      "application/vnd.jupyter.widget-view+json": {
       "model_id": "f8393aadaeb8485f95f5e0312c6c8828",
       "version_major": 2,
       "version_minor": 0
      },
      "text/plain": [
       "pytorch_model.bin:   0%|          | 0.00/911M [00:00<?, ?B/s]"
      ]
     },
     "metadata": {},
     "output_type": "display_data"
    },
    {
     "name": "stderr",
     "output_type": "stream",
     "text": [
      " 88%|████████▊ | 70/80 [48:31<07:00, 42.05s/it]"
     ]
    },
    {
     "data": {
      "application/vnd.jupyter.widget-view+json": {
       "model_id": "174da1a946674a8bbe71136d6befad44",
       "version_major": 2,
       "version_minor": 0
      },
      "text/plain": [
       "pytorch_model.bin:   0%|          | 0.00/911M [00:00<?, ?B/s]"
      ]
     },
     "metadata": {},
     "output_type": "display_data"
    },
    {
     "name": "stderr",
     "output_type": "stream",
     "text": [
      " 89%|████████▉ | 71/80 [49:07<06:03, 40.35s/it]"
     ]
    },
    {
     "data": {
      "application/vnd.jupyter.widget-view+json": {
       "model_id": "9bcab6fe3c524878abf1bc199973ce56",
       "version_major": 2,
       "version_minor": 0
      },
      "text/plain": [
       "pytorch_model.bin:   0%|          | 0.00/911M [00:00<?, ?B/s]"
      ]
     },
     "metadata": {},
     "output_type": "display_data"
    },
    {
     "name": "stderr",
     "output_type": "stream",
     "text": [
      " 90%|█████████ | 72/80 [49:43<05:13, 39.18s/it]"
     ]
    },
    {
     "data": {
      "application/vnd.jupyter.widget-view+json": {
       "model_id": "f0757e825ffd4c77848b7aee51672124",
       "version_major": 2,
       "version_minor": 0
      },
      "text/plain": [
       "pytorch_model.bin:   0%|          | 0.00/911M [00:00<?, ?B/s]"
      ]
     },
     "metadata": {},
     "output_type": "display_data"
    },
    {
     "name": "stderr",
     "output_type": "stream",
     "text": [
      " 91%|█████████▏| 73/80 [50:21<04:31, 38.73s/it]"
     ]
    },
    {
     "data": {
      "application/vnd.jupyter.widget-view+json": {
       "model_id": "284a7f6dccd64c96856dc34b4dc1a22a",
       "version_major": 2,
       "version_minor": 0
      },
      "text/plain": [
       "pytorch_model.bin:   0%|          | 0.00/911M [00:00<?, ?B/s]"
      ]
     },
     "metadata": {},
     "output_type": "display_data"
    },
    {
     "name": "stderr",
     "output_type": "stream",
     "text": [
      " 92%|█████████▎| 74/80 [50:57<03:47, 37.91s/it]"
     ]
    },
    {
     "data": {
      "application/vnd.jupyter.widget-view+json": {
       "model_id": "16ede36a55914ee9869664a001502396",
       "version_major": 2,
       "version_minor": 0
      },
      "text/plain": [
       "pytorch_model.bin:   0%|          | 0.00/911M [00:00<?, ?B/s]"
      ]
     },
     "metadata": {},
     "output_type": "display_data"
    },
    {
     "name": "stderr",
     "output_type": "stream",
     "text": [
      " 94%|█████████▍| 75/80 [51:42<03:20, 40.08s/it]"
     ]
    },
    {
     "data": {
      "application/vnd.jupyter.widget-view+json": {
       "model_id": "107d7fe230be4ab1af77189035b947e6",
       "version_major": 2,
       "version_minor": 0
      },
      "text/plain": [
       "pytorch_model.bin:   0%|          | 0.00/911M [00:00<?, ?B/s]"
      ]
     },
     "metadata": {},
     "output_type": "display_data"
    },
    {
     "name": "stderr",
     "output_type": "stream",
     "text": [
      " 95%|█████████▌| 76/80 [52:32<02:51, 42.99s/it]"
     ]
    },
    {
     "data": {
      "application/vnd.jupyter.widget-view+json": {
       "model_id": "f44e7f472105410e821372a37b09c27a",
       "version_major": 2,
       "version_minor": 0
      },
      "text/plain": [
       "pytorch_model.bin:   0%|          | 0.00/911M [00:00<?, ?B/s]"
      ]
     },
     "metadata": {},
     "output_type": "display_data"
    },
    {
     "name": "stderr",
     "output_type": "stream",
     "text": [
      " 96%|█████████▋| 77/80 [53:22<02:14, 44.96s/it]"
     ]
    },
    {
     "data": {
      "application/vnd.jupyter.widget-view+json": {
       "model_id": "6ca11e14199e48d0890ba4fc15c855f3",
       "version_major": 2,
       "version_minor": 0
      },
      "text/plain": [
       "pytorch_model.bin:   0%|          | 0.00/911M [00:00<?, ?B/s]"
      ]
     },
     "metadata": {},
     "output_type": "display_data"
    },
    {
     "name": "stderr",
     "output_type": "stream",
     "text": [
      " 98%|█████████▊| 78/80 [54:13<01:33, 46.90s/it]"
     ]
    },
    {
     "data": {
      "application/vnd.jupyter.widget-view+json": {
       "model_id": "35d6138c2c964980a27b6e114f2f016e",
       "version_major": 2,
       "version_minor": 0
      },
      "text/plain": [
       "pytorch_model.bin:   0%|          | 0.00/911M [00:00<?, ?B/s]"
      ]
     },
     "metadata": {},
     "output_type": "display_data"
    },
    {
     "name": "stderr",
     "output_type": "stream",
     "text": [
      " 99%|█████████▉| 79/80 [54:56<00:45, 45.82s/it]"
     ]
    },
    {
     "data": {
      "application/vnd.jupyter.widget-view+json": {
       "model_id": "76e949d8d3a94e26bc3fed76f582463b",
       "version_major": 2,
       "version_minor": 0
      },
      "text/plain": [
       "pytorch_model.bin:   0%|          | 0.00/911M [00:00<?, ?B/s]"
      ]
     },
     "metadata": {},
     "output_type": "display_data"
    },
    {
     "name": "stderr",
     "output_type": "stream",
     "text": [
      "100%|██████████| 80/80 [55:34<00:00, 41.68s/it]\n"
     ]
    }
   ],
   "source": [
    "total_norms = []\n",
    "myopic_norms = []\n",
    "future_norms = []\n",
    "corrs = []\n",
    "losses = []\n",
    "steps = [0] + [2**x for x in range(10)] + list(range(1_000, 70_000, 1000))\n",
    "for step in tqdm(steps):\n",
    "    gc.collect(); torch.cuda.empty_cache()\n",
    "    myopic_grad = defaultdict(lambda: 0)\n",
    "    future_grad = defaultdict(lambda: 0)\n",
    "    total_grad = defaultdict(lambda: 0)\n",
    "    model = AutoModelForCausalLM.from_pretrained(\n",
    "        \"EleutherAI/pythia-410m-deduped\",\n",
    "        revision=f\"step{step}\",\n",
    "    ).to('cuda')\n",
    "    #with torch.autocast(enabled=True, device_type='cuda', dtype=torch.float16):\n",
    "    # with torch.autocast(enabled=False, device_type='cuda'):\n",
    "    #total\n",
    "    loss = 0\n",
    "    for i, batch in enumerate(train_loader):\n",
    "        batch['input_ids'] = batch['input_ids'].to('cuda')\n",
    "        batch['labels'] = batch['input_ids']\n",
    "        cur_loss = model(**batch).loss\n",
    "        cur_loss.backward()\n",
    "        for name, param in model.named_parameters():\n",
    "            if 'embed' not in name:\n",
    "                total_grad[name] += param.grad\n",
    "        model.zero_grad()\n",
    "        loss += cur_loss\n",
    "    loss /= len(train_loader)\n",
    "    # myopic\n",
    "    model = to_myopic_neox(model, [None for _ in range(len(model.gpt_neox.layers))], reverse=False)\n",
    "    for i, batch in enumerate(train_loader):\n",
    "        batch['input_ids'] = batch['input_ids'].to('cuda')\n",
    "        batch['labels'] = batch['input_ids']\n",
    "        cur_loss = model(**batch).loss\n",
    "        cur_loss.backward()\n",
    "        for name, param in model.named_parameters():\n",
    "            if 'embed' not in name:\n",
    "                myopic_grad[name] += param.grad\n",
    "        model.zero_grad()\n",
    "    # future\n",
    "    future_grad = {k: total_grad[k] - myopic_grad[k] for k in total_grad}\n",
    "        \n",
    "    myopic_norm = sum(v.norm()**2 for v in myopic_grad.values())**0.5\n",
    "    future_norm = sum(v.norm()**2 for v in future_grad.values())**0.5\n",
    "    total_norm = sum(v.norm()**2 for v in total_grad.values())**0.5\n",
    "    corr = sum((u*v).sum() for u, v in zip(myopic_grad.values(), future_grad.values())) / myopic_norm / future_norm\n",
    "    myopic_norms.append(myopic_norm.item())\n",
    "    future_norms.append(future_norm.item())\n",
    "    total_norms.append(total_norm.item())\n",
    "    corrs.append(corr)\n",
    "    losses.append(loss.item())"
   ]
  },
  {
   "cell_type": "code",
   "execution_count": 44,
   "id": "3c04d48d-06f2-4237-adcf-956a0d4031a1",
   "metadata": {},
   "outputs": [
    {
     "data": {
      "image/png": "[encoded data removed]",
      "text/plain": [
       "<Figure size 640x480 with 1 Axes>"
      ]
     },
     "metadata": {},
     "output_type": "display_data"
    }
   ],
   "source": [
    "plt.plot(steps, myopic_norms, label='myopic grad norm')\n",
    "plt.plot(steps, future_norms, label='future grad norm')\n",
    "plt.plot(steps, total_norms, label='total grad norm')\n",
    "plt.xscale('log')\n",
    "plt.legend()\n",
    "plt.show()"
   ]
  },
  {
   "cell_type": "code",
   "execution_count": 45,
   "id": "1f2bf8b5-73ad-4d73-a263-9ff1dc6aaa75",
   "metadata": {},
   "outputs": [
    {
     "data": {
      "image/png": "[encoded data removed]",
      "text/plain": [
       "<Figure size 640x480 with 1 Axes>"
      ]
     },
     "metadata": {},
     "output_type": "display_data"
    }
   ],
   "source": [
    "plt.plot(steps, [c.item() for c in corrs])\n",
    "plt.title('$\\\\rho$(myopic gradient, future gradient)')\n",
    "plt.xscale('log')\n",
    "plt.show()"
   ]
  },
  {
   "cell_type": "code",
   "execution_count": 47,
   "id": "7b886352-8207-492e-8e12-5c3474cdbbc9",
   "metadata": {},
   "outputs": [
    {
     "data": {
      "image/png": "[encoded data removed]",
      "text/plain": [
       "<Figure size 640x480 with 1 Axes>"
      ]
     },
     "metadata": {},
     "output_type": "display_data"
    }
   ],
   "source": [
    "plt.plot(steps, losses)\n",
    "plt.title('loss')\n",
    "plt.xscale('log')\n",
    "plt.show()"
   ]
  },
  {
   "cell_type": "code",
   "execution_count": 7,
   "id": "79930852-0076-445c-9640-a396ca9fab76",
   "metadata": {},
   "outputs": [],
   "source": [
    "model = AutoModelForCausalLM.from_pretrained(\n",
    "    \"EleutherAI/pythia-70m-deduped\",\n",
    "    revision=f\"step10000\",\n",
    ")"
   ]
  },
  {
   "cell_type": "code",
   "execution_count": 10,
   "id": "0c91a4af-c2d8-47fb-a9ed-0a29d3d44777",
   "metadata": {},
   "outputs": [],
   "source": [
    "batch = next(iter(train_loader))\n",
    "batch['labels'] = batch['input_ids']"
   ]
  },
  {
   "cell_type": "code",
   "execution_count": 12,
   "id": "351bfe4c-ba5e-44be-9fec-740dc5602a92",
   "metadata": {},
   "outputs": [],
   "source": [
    "out = model(**batch)\n",
    "out.loss.backward()\n",
    "grad = dict()\n",
    "for name, param in model.named_parameters():\n",
    "    grad[name] = param.grad\n",
    "model.zero_grad()"
   ]
  },
  {
   "cell_type": "code",
   "execution_count": 13,
   "id": "1d118842-566c-4dc0-be0b-246e6eea0322",
   "metadata": {},
   "outputs": [],
   "source": [
    "myopic_grad = dict()\n",
    "model = to_myopic_neox(model, [None for _ in range(len(model.gpt_neox.layers))], reverse=False)\n",
    "myopic_out = model(**batch)\n",
    "myopic_out.loss.backward()\n",
    "for name, param in model.named_parameters():\n",
    "    myopic_grad[name] = param.grad\n",
    "model.zero_grad()"
   ]
  },
  {
   "cell_type": "code",
   "execution_count": 14,
   "id": "85f74e43-e171-4844-8a15-84dc9ada0a90",
   "metadata": {},
   "outputs": [],
   "source": [
    "future_grad = dict()\n",
    "model = to_myopic_neox(model, [None for _ in range(len(model.gpt_neox.layers))], reverse=True)\n",
    "future_out = model(**batch)\n",
    "future_out.loss.backward()\n",
    "for name, param in model.named_parameters():\n",
    "    future_grad[name] = param.grad\n",
    "model.zero_grad()"
   ]
  },
  {
   "cell_type": "code",
   "execution_count": 18,
   "id": "eb2c2ea2-47b9-4d08-ab4a-89c5b725aa4d",
   "metadata": {},
   "outputs": [
    {
     "name": "stdout",
     "output_type": "stream",
     "text": [
      "gpt_neox.embed_in.weight 0.5712848901748657\n",
      "0.9477283358573914\n",
      "gpt_neox.layers.0.input_layernorm.weight 0.6179928183555603\n",
      "0.03921118006110191\n",
      "gpt_neox.layers.0.input_layernorm.bias 0.6231682300567627\n",
      "0.07896964997053146\n",
      "gpt_neox.layers.0.post_attention_layernorm.weight 0.4307343661785126\n",
      "0.05105995014309883\n",
      "gpt_neox.layers.0.post_attention_layernorm.bias 0.5273765325546265\n",
      "0.06771998107433319\n",
      "gpt_neox.layers.0.attention.query_key_value.weight 0.44463539123535156\n",
      "0.9856925010681152\n",
      "gpt_neox.layers.0.attention.query_key_value.bias 0.45407405495643616\n",
      "0.0833536684513092\n",
      "gpt_neox.layers.0.attention.dense.weight 0.4979739785194397\n",
      "0.7238209247589111\n",
      "gpt_neox.layers.0.attention.dense.bias 0.5198664665222168\n",
      "0.11288242042064667\n",
      "gpt_neox.layers.0.mlp.dense_h_to_4h.weight 0.4395763576030731\n",
      "0.5749503970146179\n",
      "gpt_neox.layers.0.mlp.dense_h_to_4h.bias 0.5069559812545776\n",
      "0.04991208389401436\n",
      "gpt_neox.layers.0.mlp.dense_4h_to_h.weight 0.4476035237312317\n",
      "0.8676067590713501\n",
      "gpt_neox.layers.0.mlp.dense_4h_to_h.bias 0.5198664665222168\n",
      "0.11288242042064667\n",
      "gpt_neox.layers.1.input_layernorm.weight 0.6154807209968567\n",
      "0.02971142716705799\n",
      "gpt_neox.layers.1.input_layernorm.bias 0.5971594452857971\n",
      "0.05398159474134445\n",
      "gpt_neox.layers.1.post_attention_layernorm.weight 0.3382438123226166\n",
      "0.029971634969115257\n",
      "gpt_neox.layers.1.post_attention_layernorm.bias 0.3890077769756317\n",
      "0.03761601448059082\n",
      "gpt_neox.layers.1.attention.query_key_value.weight 0.4087095260620117\n",
      "1.1255348920822144\n",
      "gpt_neox.layers.1.attention.query_key_value.bias 0.4006769359111786\n",
      "0.07040826231241226\n",
      "gpt_neox.layers.1.attention.dense.weight 0.40488436818122864\n",
      "0.5525910258293152\n",
      "gpt_neox.layers.1.attention.dense.bias 0.43649452924728394\n",
      "0.08356598019599915\n",
      "gpt_neox.layers.1.mlp.dense_h_to_4h.weight 0.399635374546051\n",
      "0.692782998085022\n",
      "gpt_neox.layers.1.mlp.dense_h_to_4h.bias 0.41033461689949036\n",
      "0.0355001837015152\n",
      "gpt_neox.layers.1.mlp.dense_4h_to_h.weight 0.38532042503356934\n",
      "0.6715518236160278\n",
      "gpt_neox.layers.1.mlp.dense_4h_to_h.bias 0.43649452924728394\n",
      "0.08356598019599915\n",
      "gpt_neox.layers.2.input_layernorm.weight 0.5141682624816895\n",
      "0.02395782247185707\n",
      "gpt_neox.layers.2.input_layernorm.bias 0.554359495639801\n",
      "0.03794587776064873\n",
      "gpt_neox.layers.2.post_attention_layernorm.weight 0.3182958960533142\n",
      "0.026533884927630424\n",
      "gpt_neox.layers.2.post_attention_layernorm.bias 0.36404258012771606\n",
      "0.03579903021454811\n",
      "gpt_neox.layers.2.attention.query_key_value.weight 0.37009939551353455\n",
      "0.9119165539741516\n",
      "gpt_neox.layers.2.attention.query_key_value.bias 0.3813530206680298\n",
      "0.052420664578676224\n",
      "gpt_neox.layers.2.attention.dense.weight 0.34996187686920166\n",
      "0.6613572835922241\n",
      "gpt_neox.layers.2.attention.dense.bias 0.4136524796485901\n",
      "0.07417721301317215\n",
      "gpt_neox.layers.2.mlp.dense_h_to_4h.weight 0.33672991394996643\n",
      "0.7553661465644836\n",
      "gpt_neox.layers.2.mlp.dense_h_to_4h.bias 0.3666350543498993\n",
      "0.03776506707072258\n",
      "gpt_neox.layers.2.mlp.dense_4h_to_h.weight 0.4444960653781891\n",
      "1.1297166347503662\n",
      "gpt_neox.layers.2.mlp.dense_4h_to_h.bias 0.4136524796485901\n",
      "0.07417721301317215\n",
      "gpt_neox.layers.3.input_layernorm.weight 0.6128665208816528\n",
      "0.026960069313645363\n",
      "gpt_neox.layers.3.input_layernorm.bias 0.5425105690956116\n",
      "0.0638585239648819\n",
      "gpt_neox.layers.3.post_attention_layernorm.weight 0.3275085985660553\n",
      "0.02928045578300953\n",
      "gpt_neox.layers.3.post_attention_layernorm.bias 0.30778446793556213\n",
      "0.03674108162522316\n",
      "gpt_neox.layers.3.attention.query_key_value.weight 0.23334956169128418\n",
      "1.2129086256027222\n",
      "gpt_neox.layers.3.attention.query_key_value.bias 0.2320101410150528\n",
      "0.05668730288743973\n",
      "gpt_neox.layers.3.attention.dense.weight 0.3086065351963043\n",
      "0.34716111421585083\n",
      "gpt_neox.layers.3.attention.dense.bias 0.3368579149246216\n",
      "0.06120038405060768\n",
      "gpt_neox.layers.3.mlp.dense_h_to_4h.weight 0.2698417901992798\n",
      "0.7837772369384766\n",
      "gpt_neox.layers.3.mlp.dense_h_to_4h.bias 0.2979283928871155\n",
      "0.03921489045023918\n",
      "gpt_neox.layers.3.mlp.dense_4h_to_h.weight 0.27364274859428406\n",
      "0.601091206073761\n",
      "gpt_neox.layers.3.mlp.dense_4h_to_h.bias 0.3368579149246216\n",
      "0.06120038405060768\n",
      "gpt_neox.layers.4.input_layernorm.weight 0.536599338054657\n",
      "0.03005352057516575\n",
      "gpt_neox.layers.4.input_layernorm.bias 0.5536689758300781\n",
      "0.0696152076125145\n",
      "gpt_neox.layers.4.post_attention_layernorm.weight 0.20947399735450745\n",
      "0.025999603793025017\n",
      "gpt_neox.layers.4.post_attention_layernorm.bias 0.2358652502298355\n",
      "0.03552214801311493\n",
      "gpt_neox.layers.4.attention.query_key_value.weight 0.20120693743228912\n",
      "1.1078547239303589\n",
      "gpt_neox.layers.4.attention.query_key_value.bias 0.2065727412700653\n",
      "0.05860644206404686\n",
      "gpt_neox.layers.4.attention.dense.weight 0.21037058532238007\n",
      "0.2918982207775116\n",
      "gpt_neox.layers.4.attention.dense.bias 0.24160635471343994\n",
      "0.04386281222105026\n",
      "gpt_neox.layers.4.mlp.dense_h_to_4h.weight 0.20495004951953888\n",
      "0.7234282493591309\n",
      "gpt_neox.layers.4.mlp.dense_h_to_4h.bias 0.2258731722831726\n",
      "0.03500364348292351\n",
      "gpt_neox.layers.4.mlp.dense_4h_to_h.weight 0.19193491339683533\n",
      "0.5377914309501648\n",
      "gpt_neox.layers.4.mlp.dense_4h_to_h.bias 0.24160635471343994\n",
      "0.04386281222105026\n",
      "gpt_neox.layers.5.input_layernorm.weight 0.40020397305488586\n",
      "0.02010027877986431\n",
      "gpt_neox.layers.5.input_layernorm.bias 0.47930285334587097\n",
      "0.03135125711560249\n",
      "gpt_neox.layers.5.post_attention_layernorm.weight 1.707891442492837e-06\n",
      "0.023887142539024353\n",
      "gpt_neox.layers.5.post_attention_layernorm.bias 1.3968368648420437e-06\n",
      "0.030877776443958282\n",
      "gpt_neox.layers.5.attention.query_key_value.weight 1.655107780607068e-06\n",
      "0.7105470895767212\n",
      "gpt_neox.layers.5.attention.query_key_value.bias 1.0929792324532173e-06\n",
      "0.034714728593826294\n",
      "gpt_neox.layers.5.attention.dense.weight 1.642096322029829e-06\n",
      "0.33884891867637634\n",
      "gpt_neox.layers.5.attention.dense.bias 8.30566534659738e-07\n",
      "0.034838058054447174\n",
      "gpt_neox.layers.5.mlp.dense_h_to_4h.weight 1.5451184935955098e-06\n",
      "0.7033912539482117\n",
      "gpt_neox.layers.5.mlp.dense_h_to_4h.bias 1.2339564818830695e-06\n",
      "0.03103180043399334\n",
      "gpt_neox.layers.5.mlp.dense_4h_to_h.weight 1.4060799458093243e-06\n",
      "0.5360316038131714\n",
      "gpt_neox.layers.5.mlp.dense_4h_to_h.bias 8.30566534659738e-07\n",
      "0.034838058054447174\n",
      "gpt_neox.final_layer_norm.weight 1.277083356399089e-06\n",
      "0.02903846651315689\n",
      "gpt_neox.final_layer_norm.bias 7.68211577906186e-07\n",
      "0.03667465224862099\n",
      "embed_out.weight 1.2137090834585251e-06\n",
      "0.9978753924369812\n"
     ]
    }
   ],
   "source": [
    "for name in future_grad:\n",
    "    print(name, ((grad[name] - future_grad[name] - myopic_grad[name]).norm() / grad[name].norm()).item())\n",
    "    print(grad[name].norm().item())"
   ]
  },
  {
   "cell_type": "code",
   "execution_count": null,
   "id": "363ab32c-4a52-4e45-9c0c-36388f023722",
   "metadata": {},
   "outputs": [],
   "source": []
  }
 ],
 "metadata": {
  "kernelspec": {
   "display_name": "Python 3 (ipykernel)",
   "language": "python",
   "name": "python3"
  },
  "language_info": {
   "codemirror_mode": {
    "name": "ipython",
    "version": 3
   },
   "file_extension": ".py",
   "mimetype": "text/x-python",
   "name": "python",
   "nbconvert_exporter": "python",
   "pygments_lexer": "ipython3",
   "version": "3.10.12"
  }
 },
 "nbformat": 4,
 "nbformat_minor": 5
}
