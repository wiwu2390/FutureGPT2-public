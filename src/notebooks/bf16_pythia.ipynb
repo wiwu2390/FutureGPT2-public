{
 "cells": [
  {
   "cell_type": "code",
   "execution_count": 1,
   "id": "9af19982-e8f2-461a-a6a7-8deffcb526f6",
   "metadata": {},
   "outputs": [],
   "source": [
    "import os\n",
    "os.environ['HF_HOME'] = '/workspace/cache/huggingface/'\n",
    "os.chdir('/workspace/FutureGPT2/src/')\n",
    "\n",
    "\n",
    "import numpy as np\n",
    "from torch import optim, nn, Tensor\n",
    "from torch.nn import functional as F\n",
    "import torch\n",
    "import wandb\n",
    "from transformers import AutoConfig, AutoModelForCausalLM, AutoTokenizer\n",
    "import transformers\n",
    "from inspect import signature, _ParameterKind\n",
    "import copy\n",
    "import gc\n",
    "import datasets\n",
    "from torch.utils.data import DataLoader\n",
    "from datasets import load_dataset\n",
    "from matplotlib import pyplot as plt\n",
    "from itertools import islice\n",
    "from copy import deepcopy\n",
    "\n",
    "from models.myopic_model import *\n",
    "from models.gpt_model import *\n",
    "\n",
    "import lightning as L\n",
    "from lightning.pytorch.callbacks import ModelCheckpoint, LearningRateMonitor\n",
    "from lightning.pytorch.callbacks.early_stopping import EarlyStopping\n",
    "from lightning.pytorch.loggers import WandbLogger\n",
    "\n",
    "%load_ext autoreload\n",
    "%autoreload 2"
   ]
  },
  {
   "cell_type": "code",
   "execution_count": 2,
   "id": "8be84c57-89e1-413c-96dc-785cb887b8cd",
   "metadata": {},
   "outputs": [],
   "source": [
    "# 5M examples sampled from the-pile. truncated to len 64\n",
    "train = load_dataset(\n",
    "    'EleutherAI/pile-deduped-pythia-random-sampled', \n",
    "    split='train'\n",
    ")\n",
    "train = train.rename_column('Tokens', 'input_ids')\n",
    "train = train.remove_columns([c for c in train.column_names if c != 'input_ids'])\n",
    "train = train.cast_column('input_ids', datasets.Sequence(datasets.Value('int64')))\n",
    "train = train.with_format('torch')\n",
    "train_loader = DataLoader(train, batch_size=32)#, num_workers=96)"
   ]
  },
  {
   "cell_type": "code",
   "execution_count": 8,
   "id": "8b7cfe9e-6b82-4b64-b89d-da92bb6be616",
   "metadata": {},
   "outputs": [
    {
     "name": "stdout",
     "output_type": "stream",
     "text": [
      "Upcasting attention!\n",
      "Upcasting attention!\n",
      "Upcasting attention!\n",
      "Upcasting attention!\n",
      "Upcasting attention!\n",
      "Upcasting attention!\n",
      "Upcasting attention!\n",
      "Upcasting attention!\n",
      "Upcasting attention!\n",
      "Upcasting attention!\n",
      "Upcasting attention!\n",
      "Upcasting attention!\n",
      "Upcasting attention!\n",
      "Upcasting attention!\n",
      "Upcasting attention!\n",
      "Upcasting attention!\n",
      "Upcasting attention!\n",
      "Upcasting attention!\n",
      "Upcasting attention!\n",
      "Upcasting attention!\n",
      "Upcasting attention!\n",
      "Upcasting attention!\n",
      "Upcasting attention!\n",
      "Upcasting attention!\n",
      "Upcasting attention!\n",
      "Upcasting attention!\n",
      "Upcasting attention!\n",
      "Upcasting attention!\n",
      "Upcasting attention!\n",
      "Upcasting attention!\n",
      "Upcasting attention!\n",
      "Upcasting attention!\n",
      "Upcasting attention!\n",
      "Upcasting attention!\n",
      "Upcasting attention!\n",
      "Upcasting attention!\n",
      "Upcasting attention!\n",
      "Upcasting attention!\n",
      "Upcasting attention!\n",
      "Upcasting attention!\n",
      "Upcasting attention!\n",
      "Upcasting attention!\n",
      "Upcasting attention!\n",
      "Upcasting attention!\n",
      "Upcasting attention!\n",
      "Upcasting attention!\n",
      "Upcasting attention!\n",
      "Upcasting attention!\n",
      "Upcasting attention!\n",
      "Upcasting attention!\n",
      "Upcasting attention!\n",
      "Upcasting attention!\n",
      "Upcasting attention!\n",
      "Upcasting attention!\n",
      "Upcasting attention!\n",
      "Upcasting attention!\n",
      "Upcasting attention!\n",
      "Upcasting attention!\n",
      "Upcasting attention!\n",
      "Upcasting attention!\n",
      "Upcasting attention!\n",
      "Upcasting attention!\n",
      "Upcasting attention!\n",
      "Upcasting attention!\n",
      "Upcasting attention!\n",
      "Upcasting attention!\n",
      "Upcasting attention!\n",
      "Upcasting attention!\n",
      "Upcasting attention!\n",
      "Upcasting attention!\n",
      "Upcasting attention!\n",
      "Upcasting attention!\n",
      "Upcasting attention!\n",
      "Upcasting attention!\n",
      "Upcasting attention!\n",
      "Upcasting attention!\n",
      "Upcasting attention!\n",
      "Upcasting attention!\n",
      "Upcasting attention!\n",
      "Upcasting attention!\n",
      "Upcasting attention!\n",
      "Upcasting attention!\n",
      "Upcasting attention!\n",
      "Upcasting attention!\n",
      "Upcasting attention!\n",
      "Upcasting attention!\n",
      "Upcasting attention!\n",
      "Upcasting attention!\n",
      "Upcasting attention!\n",
      "Upcasting attention!\n",
      "Upcasting attention!\n",
      "Upcasting attention!\n",
      "Upcasting attention!\n",
      "Upcasting attention!\n"
     ]
    }
   ],
   "source": [
    "#config = AutoConfig.from_pretrained('EleutherAI/pythia-1b')\n",
    "l32 = []\n",
    "l16 = []\n",
    "for m in ['14m', '31m', '70m', '160m', '410m', '1b', '1.4b']:\n",
    "    config = AutoConfig.from_pretrained(f'EleutherAI/pythia-{m}')\n",
    "    config.upcast_attn = True\n",
    "    model = AutoModelForCausalLM.from_pretrained(\n",
    "        f'EleutherAI/pythia-{m}', \n",
    "        torch_dtype=torch.float32,\n",
    "        config=config\n",
    "    )\n",
    "    model = model.to('cuda')\n",
    "    torch.set_grad_enabled(False)\n",
    "    x=next(iter(train_loader))['input_ids'].to('cuda')\n",
    "    with torch.autocast(enabled=False, device_type='cuda'):\n",
    "        out = model(input_ids=x, labels=x)\n",
    "        l32.append(out.loss.item())\n",
    "    with torch.autocast(enabled=True, device_type='cuda', dtype=torch.float16):\n",
    "        out = model(input_ids=x, labels=x)\n",
    "        l16.append(out.loss.item())\n",
    "    # model.to(torch.bfloat16)\n",
    "    # out = model(input_ids=x, labels=x)\n",
    "    # lb16.append(out.loss.item())\n",
    "    # model = AutoModelForCausalLM.from_pretrained(f'EleutherAI/pythia-{m}')\n",
    "    # model = model.to('cuda')\n",
    "    # model.to(torch.float16)\n",
    "    # out = model(input_ids=x, labels=x)\n",
    "    # l16.append(out.loss.item())"
   ]
  },
  {
   "cell_type": "code",
   "execution_count": 10,
   "id": "88e0559c-e478-47ea-ae68-f5c847663975",
   "metadata": {},
   "outputs": [
    {
     "data": {
      "image/png": "[encoded data removed]",
      "text/plain": [
       "<Figure size 640x480 with 1 Axes>"
      ]
     },
     "metadata": {},
     "output_type": "display_data"
    }
   ],
   "source": [
    "sizes = np.array([\n",
    "    1.4e7, 3.1e7, 7.0e7, 1.6e8, 4.1e8, 1.0e9, 1.4e9\n",
    "])\n",
    "plt.plot(sizes, l16, label='fp16')\n",
    "plt.plot(sizes, l32, label='fp32')\n",
    "plt.xscale('log')\n",
    "plt.legend()\n",
    "plt.show()"
   ]
  },
  {
   "cell_type": "code",
   "execution_count": 7,
   "id": "e6f8cff2-8a5d-481e-9d13-15a66840b198",
   "metadata": {},
   "outputs": [
    {
     "data": {
      "text/plain": [
       "\u001b[0;31mSignature:\u001b[0m      \u001b[0mmodel\u001b[0m\u001b[0;34m(\u001b[0m\u001b[0;34m*\u001b[0m\u001b[0margs\u001b[0m\u001b[0;34m,\u001b[0m \u001b[0;34m**\u001b[0m\u001b[0mkwargs\u001b[0m\u001b[0;34m)\u001b[0m\u001b[0;34m\u001b[0m\u001b[0;34m\u001b[0m\u001b[0m\n",
       "\u001b[0;31mType:\u001b[0m           GPTNeoXForCausalLM\n",
       "\u001b[0;31mString form:\u001b[0m   \n",
       "GPTNeoXForCausalLM(\n",
       "           (gpt_neox): GPTNeoXModel(\n",
       "           (embed_in): Embedding(50304, 2048)\n",
       "           (emb_d <...> ntwise_affine=True)\n",
       "           )\n",
       "           (embed_out): Linear(in_features=2048, out_features=50304, bias=False)\n",
       "           )\n",
       "\u001b[0;31mFile:\u001b[0m           /workspace/transformers/src/transformers/models/gpt_neox/modeling_gpt_neox.py\n",
       "\u001b[0;31mDocstring:\u001b[0m     \n",
       "GPTNeoX Model with a `language modeling` head on top for CLM fine-tuning.\n",
       "This model is a PyTorch [torch.nn.Module](https://pytorch.org/docs/stable/nn.html#torch.nn.Module) sub-class. Use\n",
       "it as a regular PyTorch Module and refer to the PyTorch documentation for all matter related to general usage and\n",
       "behavior.\n",
       "\n",
       "Parameters:\n",
       "    config ([`~GPTNeoXConfig`]): Model configuration class with all the parameters of the model.\n",
       "        Initializing with a config file does not load the weights associated with the model, only the\n",
       "        configuration. Check out the [`~PreTrainedModel.from_pretrained`] method to load the model weights.\n",
       "\u001b[0;31mInit docstring:\u001b[0m Initializes internal Module state, shared by both nn.Module and ScriptModule."
      ]
     },
     "metadata": {},
     "output_type": "display_data"
    }
   ],
   "source": [
    "model?"
   ]
  },
  {
   "cell_type": "code",
   "execution_count": 18,
   "id": "59ef4fe3-8b6e-4d3c-9d3e-4d0b6128247e",
   "metadata": {},
   "outputs": [
    {
     "data": {
      "text/plain": [
       "tensor([[ 0.0074,  0.0006,  0.0108,  0.0151, -0.0144],\n",
       "        [-0.0193,  0.0119, -0.0199,  0.0129,  0.0126],\n",
       "        [-0.0120,  0.0254,  0.0165,  0.0153,  0.0258],\n",
       "        [-0.0054, -0.0097, -0.0110,  0.0035, -0.0357],\n",
       "        [-0.0074,  0.0032,  0.0027, -0.0124,  0.0200]], device='cuda:0',\n",
       "       requires_grad=True)"
      ]
     },
     "execution_count": 18,
     "metadata": {},
     "output_type": "execute_result"
    }
   ],
   "source": [
    "model.gpt_neox.layers[0].attention.query_key_value.weight[:5,:5]"
   ]
  },
  {
   "cell_type": "code",
   "execution_count": 20,
   "id": "284f759b-0232-47d7-9f1b-8d1f206f04f6",
   "metadata": {},
   "outputs": [
    {
     "data": {
      "text/plain": [
       "tensor([[ 0.0074,  0.0006,  0.0107,  0.0151, -0.0144],\n",
       "        [-0.0193,  0.0119, -0.0199,  0.0129,  0.0126],\n",
       "        [-0.0120,  0.0254,  0.0165,  0.0153,  0.0259],\n",
       "        [-0.0054, -0.0097, -0.0110,  0.0035, -0.0356],\n",
       "        [-0.0074,  0.0032,  0.0027, -0.0124,  0.0200]], device='cuda:0',\n",
       "       dtype=torch.bfloat16, requires_grad=True)"
      ]
     },
     "execution_count": 20,
     "metadata": {},
     "output_type": "execute_result"
    }
   ],
   "source": [
    "model.bfloat16().gpt_neox.layers[0].attention.query_key_value.weight[:5,:5]"
   ]
  },
  {
   "cell_type": "code",
   "execution_count": 104,
   "id": "7fe9ae25-1b66-4ff9-bd1c-dbfecb2090df",
   "metadata": {},
   "outputs": [],
   "source": [
    "model = AutoModelForCausalLM.from_pretrained(f'EleutherAI/pythia-14m').to('cuda')"
   ]
  },
  {
   "cell_type": "code",
   "execution_count": 109,
   "id": "f672e79c-5a72-472d-94d4-ec16b75c5fde",
   "metadata": {},
   "outputs": [
    {
     "name": "stdout",
     "output_type": "stream",
     "text": [
      "upcasting!\n",
      "upcasting!\n",
      "upcasting!\n",
      "upcasting!\n",
      "upcasting!\n",
      "upcasting!\n",
      "upcasting!\n",
      "upcasting!\n",
      "upcasting!\n",
      "upcasting!\n",
      "upcasting!\n",
      "upcasting!\n"
     ]
    }
   ],
   "source": [
    "out32 = model(input_ids=x, labels=x, output_hidden_states=True)\n",
    "with torch.autocast(enabled=True, device_type='cuda', dtype=torch.float16):\n",
    "    out16 = model(input_ids=x, labels=x, output_hidden_states=True)"
   ]
  },
  {
   "cell_type": "code",
   "execution_count": 110,
   "id": "aef46b16-8414-4a18-88ef-d3f500ef8b85",
   "metadata": {},
   "outputs": [
    {
     "name": "stdout",
     "output_type": "stream",
     "text": [
      "DIFF 0.0\n",
      "NORM 0.028488444164395332\n",
      "DIFF 0.0010790742235258222\n",
      "NORM 0.1050114780664444\n",
      "DIFF 0.002915173303335905\n",
      "NORM 0.12294568866491318\n",
      "DIFF 0.005754833575338125\n",
      "NORM 0.30562421679496765\n",
      "DIFF 0.0443398579955101\n",
      "NORM 0.20599085092544556\n",
      "DIFF 0.052252836525440216\n",
      "NORM 0.22724969685077667\n",
      "DIFF 0.011668785475194454\n",
      "NORM 48.93266677856445\n"
     ]
    }
   ],
   "source": [
    "for h16, h32 in zip(out16.hidden_states, out32.hidden_states):\n",
    "    print('DIFF', (torch.norm(h16 - h32) / torch.norm(h32)).item())\n",
    "    print('NORM', torch.norm(h32).item() / h32.numel()**0.5)"
   ]
  },
  {
   "cell_type": "code",
   "execution_count": 103,
   "id": "555176f8-bcfe-45a4-a10b-d68564bc581f",
   "metadata": {},
   "outputs": [
    {
     "data": {
      "text/plain": [
       "\u001b[0;31mSignature:\u001b[0m      \u001b[0mmodel\u001b[0m\u001b[0;34m(\u001b[0m\u001b[0;34m*\u001b[0m\u001b[0margs\u001b[0m\u001b[0;34m,\u001b[0m \u001b[0;34m**\u001b[0m\u001b[0mkwargs\u001b[0m\u001b[0;34m)\u001b[0m\u001b[0;34m\u001b[0m\u001b[0;34m\u001b[0m\u001b[0m\n",
       "\u001b[0;31mType:\u001b[0m           GPTNeoXForCausalLM\n",
       "\u001b[0;31mString form:\u001b[0m   \n",
       "GPTNeoXForCausalLM(\n",
       "           (gpt_neox): GPTNeoXModel(\n",
       "           (embed_in): Embedding(50304, 128)\n",
       "           (emb_dr <...> entwise_affine=True)\n",
       "           )\n",
       "           (embed_out): Linear(in_features=128, out_features=50304, bias=False)\n",
       "           )\n",
       "\u001b[0;31mFile:\u001b[0m           ~/.local/lib/python3.10/site-packages/transformers/models/gpt_neox/modeling_gpt_neox.py\n",
       "\u001b[0;31mDocstring:\u001b[0m     \n",
       "GPTNeoX Model with a `language modeling` head on top for CLM fine-tuning.\n",
       "This model is a PyTorch [torch.nn.Module](https://pytorch.org/docs/stable/nn.html#torch.nn.Module) sub-class. Use\n",
       "it as a regular PyTorch Module and refer to the PyTorch documentation for all matter related to general usage and\n",
       "behavior.\n",
       "\n",
       "Parameters:\n",
       "    config ([`~GPTNeoXConfig`]): Model configuration class with all the parameters of the model.\n",
       "        Initializing with a config file does not load the weights associated with the model, only the\n",
       "        configuration. Check out the [`~PreTrainedModel.from_pretrained`] method to load the model weights.\n",
       "\u001b[0;31mInit docstring:\u001b[0m Initializes internal Module state, shared by both nn.Module and ScriptModule."
      ]
     },
     "metadata": {},
     "output_type": "display_data"
    }
   ],
   "source": [
    "model?"
   ]
  },
  {
   "cell_type": "code",
   "execution_count": 79,
   "id": "1d0dc066-0bc0-48d2-877b-13d70898f8c5",
   "metadata": {},
   "outputs": [
    {
     "data": {
      "text/plain": [
       "tensor(nan, device='cuda:0')"
      ]
     },
     "execution_count": 79,
     "metadata": {},
     "output_type": "execute_result"
    }
   ],
   "source": [
    "h16.norm() / h16.numel()**0.5"
   ]
  },
  {
   "cell_type": "code",
   "execution_count": 80,
   "id": "99e13909-7fb6-4df4-9afe-b56717f3f689",
   "metadata": {},
   "outputs": [
    {
     "data": {
      "text/plain": [
       "tensor(23.7050, device='cuda:0')"
      ]
     },
     "execution_count": 80,
     "metadata": {},
     "output_type": "execute_result"
    }
   ],
   "source": [
    "h32.norm() / h32.numel()**0.5"
   ]
  },
  {
   "cell_type": "code",
   "execution_count": null,
   "id": "1c20f9aa-a75f-4f98-b572-4e838d7c4aef",
   "metadata": {},
   "outputs": [],
   "source": []
  },
  {
   "cell_type": "code",
   "execution_count": null,
   "id": "5f536000-5c31-43ed-b43e-ac700e16ec48",
   "metadata": {},
   "outputs": [],
   "source": []
  },
  {
   "cell_type": "code",
   "execution_count": null,
   "id": "d3f30696-14f4-4189-b144-4b67c307812a",
   "metadata": {},
   "outputs": [],
   "source": []
  },
  {
   "cell_type": "code",
   "execution_count": null,
   "id": "c586f91c-f941-4048-a2f8-08dda10198aa",
   "metadata": {},
   "outputs": [],
   "source": []
  },
  {
   "cell_type": "code",
   "execution_count": null,
   "id": "59159779-2322-4c73-884c-f7009eb8a513",
   "metadata": {},
   "outputs": [],
   "source": []
  },
  {
   "cell_type": "code",
   "execution_count": null,
   "id": "7d6b64a9-b9e6-4409-8e7c-ddfee2b35725",
   "metadata": {},
   "outputs": [],
   "source": []
  },
  {
   "cell_type": "code",
   "execution_count": 17,
   "id": "81409d08-bdaa-4a8e-94b7-429bf8045a7c",
   "metadata": {},
   "outputs": [
    {
     "name": "stdout",
     "output_type": "stream",
     "text": [
      "nan\n"
     ]
    }
   ],
   "source": [
    "train = load_dataset(\n",
    "    'EleutherAI/pile-deduped-pythia-random-sampled', \n",
    "    split='train'\n",
    ")\n",
    "train = train.cast_column('Tokens', datasets.Sequence(datasets.Value('int64')))\n",
    "train = train.with_format('torch')\n",
    "train_loader = DataLoader(train, batch_size=32)\n",
    "x=next(iter(train_loader))['Tokens'].to('cuda')\n",
    "\n",
    "model = AutoModelForCausalLM.from_pretrained(f'EleutherAI/pythia-14m').to('cuda')\n",
    "with torch.autocast(enabled=True, device_type='cuda', dtype=torch.float16):\n",
    "    out = model(input_ids=x, labels=x, output_hidden_states=True)\n",
    "print(out.loss.item())"
   ]
  },
  {
   "cell_type": "code",
   "execution_count": 18,
   "id": "f4aabbbf-20a8-412c-a907-46eddb0e0962",
   "metadata": {},
   "outputs": [
    {
     "name": "stdout",
     "output_type": "stream",
     "text": [
      "Upcasting attention!\n",
      "Upcasting attention!\n",
      "Upcasting attention!\n",
      "Upcasting attention!\n",
      "Upcasting attention!\n",
      "Upcasting attention!\n",
      "4.707828521728516\n"
     ]
    }
   ],
   "source": [
    "config = AutoConfig.from_pretrained('EleutherAI/pythia-14m')\n",
    "config.upcast_attn = True\n",
    "model = AutoModelForCausalLM.from_pretrained('EleutherAI/pythia-14m', config=config).to('cuda')\n",
    "with torch.autocast(enabled=True, device_type='cuda', dtype=torch.float16):\n",
    "    out = model(input_ids=x, labels=x, output_hidden_states=True)\n",
    "print(out.loss.item())"
   ]
  },
  {
   "cell_type": "code",
   "execution_count": 11,
   "id": "7a96d04b-202f-47a3-81a4-4d208fc37091",
   "metadata": {},
   "outputs": [
    {
     "data": {
      "text/plain": [
       "torch.Size([64, 64])"
      ]
     },
     "execution_count": 11,
     "metadata": {},
     "output_type": "execute_result"
    }
   ],
   "source": [
    "x.shape"
   ]
  },
  {
   "cell_type": "code",
   "execution_count": null,
   "id": "24046ded-2c33-488d-ba0b-2a921a30b505",
   "metadata": {},
   "outputs": [],
   "source": []
  }
 ],
 "metadata": {
  "kernelspec": {
   "display_name": "Python 3 (ipykernel)",
   "language": "python",
   "name": "python3"
  },
  "language_info": {
   "codemirror_mode": {
    "name": "ipython",
    "version": 3
   },
   "file_extension": ".py",
   "mimetype": "text/x-python",
   "name": "python",
   "nbconvert_exporter": "python",
   "pygments_lexer": "ipython3",
   "version": "3.10.12"
  }
 },
 "nbformat": 4,
 "nbformat_minor": 5
}
