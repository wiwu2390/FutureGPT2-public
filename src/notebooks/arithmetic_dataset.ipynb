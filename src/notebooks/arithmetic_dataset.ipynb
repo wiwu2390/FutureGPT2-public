{
 "cells": [
  {
   "cell_type": "code",
   "execution_count": 1,
   "id": "6c173b5e-f3a4-4be9-89a8-f7fc51c4318d",
   "metadata": {},
   "outputs": [],
   "source": [
    "import os\n",
    "os.chdir('/workspace/FutureGPT2/src/')\n",
    "from transformers import AutoConfig, AutoModelForCausalLM, AutoTokenizer\n",
    "\n",
    "from data.arithmetic import *"
   ]
  },
  {
   "cell_type": "code",
   "execution_count": 2,
   "id": "156c14bd-a161-465e-9452-10bd152f1018",
   "metadata": {},
   "outputs": [],
   "source": [
    "model_name = 'gpt2'\n",
    "tokenizer = AutoTokenizer.from_pretrained(model_name)\n",
    "Token = {v: k for k, v in tokenizer.get_vocab().items()}"
   ]
  },
  {
   "cell_type": "code",
   "execution_count": 3,
   "id": "df07ab4b-67a7-4d0d-a8bb-4cb950bfacee",
   "metadata": {},
   "outputs": [],
   "source": [
    "train = DataLoader(MultiplicationDataset(tokenizer, 100, 15), batch_size=5)"
   ]
  },
  {
   "cell_type": "code",
   "execution_count": 4,
   "id": "25393532-437e-4e3f-99af-22e0819356bd",
   "metadata": {},
   "outputs": [],
   "source": [
    "b = next(iter(train))"
   ]
  },
  {
   "cell_type": "code",
   "execution_count": 5,
   "id": "31eb148c-40d1-478b-b4f7-8968df4093d9",
   "metadata": {},
   "outputs": [
    {
     "data": {
      "text/plain": [
       "torch.Size([5, 62])"
      ]
     },
     "execution_count": 5,
     "metadata": {},
     "output_type": "execute_result"
    }
   ],
   "source": [
    "b['input_ids'].shape"
   ]
  },
  {
   "cell_type": "code",
   "execution_count": null,
   "id": "f6d10bd4-dc49-49b9-900b-06e4ac0289c7",
   "metadata": {},
   "outputs": [],
   "source": []
  }
 ],
 "metadata": {
  "kernelspec": {
   "display_name": "Python 3 (ipykernel)",
   "language": "python",
   "name": "python3"
  },
  "language_info": {
   "codemirror_mode": {
    "name": "ipython",
    "version": 3
   },
   "file_extension": ".py",
   "mimetype": "text/x-python",
   "name": "python",
   "nbconvert_exporter": "python",
   "pygments_lexer": "ipython3",
   "version": "3.10.12"
  }
 },
 "nbformat": 4,
 "nbformat_minor": 5
}
