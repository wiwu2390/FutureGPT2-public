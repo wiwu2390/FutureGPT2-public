{
 "cells": [
  {
   "cell_type": "code",
   "execution_count": 1,
   "id": "f8ffa2b4-fe05-4481-9417-94e6a514abfd",
   "metadata": {},
   "outputs": [],
   "source": [
    "import os\n",
    "os.environ['HF_HOME'] = '/workspace/cache/huggingface/'\n",
    "os.chdir('/workspace/FutureGPT2/src/')\n",
    "\n",
    "import numpy as np\n",
    "from torch import optim, nn, Tensor\n",
    "from torch.nn import functional as F\n",
    "import torch\n",
    "import wandb\n",
    "from transformers import GPT2Config, GPT2Model, AutoTokenizer, AutoModelForCausalLM\n",
    "import transformers\n",
    "import lightning as L\n",
    "from inspect import signature, _ParameterKind\n",
    "import copy\n",
    "import gc\n",
    "import datasets\n",
    "from torch.utils.data import DataLoader\n",
    "from matplotlib import pyplot as plt\n",
    "from lightning.pytorch.callbacks import ModelCheckpoint, LearningRateMonitor\n",
    "from lightning.pytorch.callbacks.early_stopping import EarlyStopping\n",
    "from lightning.pytorch.loggers import WandbLogger\n",
    "from torch.utils.data import Dataset, DataLoader\n",
    "from tqdm.notebook import tqdm\n",
    "from itertools import repeat, product\n",
    "import matplotlib.pyplot as plt\n",
    "\n",
    "\n",
    "from models.gpt_model import *\n",
    "from models.myopic_model import *\n",
    "from data.arithmetic import *\n",
    "from models.myopic_model import to_myopic_gpt2\n",
    "\n",
    "%load_ext autoreload\n",
    "%autoreload 2"
   ]
  },
  {
   "cell_type": "code",
   "execution_count": 2,
   "id": "3ea3d4c0-dd9a-45d4-959d-ed6b52cfc81d",
   "metadata": {},
   "outputs": [],
   "source": [
    "model_name = 'gpt2'\n",
    "tokenizer = AutoTokenizer.from_pretrained(model_name)\n",
    "Token = {v: k for k, v in tokenizer.get_vocab().items()}"
   ]
  },
  {
   "cell_type": "code",
   "execution_count": 28,
   "id": "17b37687-dab1-41c4-bd50-6f0eab3de239",
   "metadata": {},
   "outputs": [],
   "source": [
    "def to_str(tokens):\n",
    "    return ''.join(Token[x.item()] for x in tokens).replace('Ġ', ' ')"
   ]
  },
  {
   "cell_type": "code",
   "execution_count": 73,
   "id": "dd09da02-a0a4-4e8c-89b8-b00d578155bf",
   "metadata": {},
   "outputs": [],
   "source": [
    "def get_acc(model, max_digits, pad):\n",
    "    acc = dict()\n",
    "    for x_digits, y_digits in tqdm(product(range(1, max_digits+1), range(1, max_digits+1)), total=max_digits**2):\n",
    "        val = DataLoader(\n",
    "            MultiplicationDataset(\n",
    "                size=1024,\n",
    "                x_min_digits=x_digits,\n",
    "                x_max_digits=x_digits,\n",
    "                y_min_digits=y_digits,\n",
    "                y_max_digits=y_digits,\n",
    "                x_pad=pad,\n",
    "                y_pad=pad,\n",
    "                tokenizer=tokenizer\n",
    "            ), \n",
    "            batch_size=1024,\n",
    "        )\n",
    "        batch = next(iter(val))\n",
    "        sample = batch['input_ids'][0]\n",
    "        pre = sample[:pad*2+2]\n",
    "        suf = sample[pad*2+2:]\n",
    "        print(x_digits, y_digits)\n",
    "        print(to_str(pre) + '|' + to_str(suf))\n",
    "        input = batch['input_ids'].to('cuda')\n",
    "        out = model.generate(\n",
    "            input[:,:pad*2+2], \n",
    "            max_length=pad+pad+x_digits+y_digits+2,\n",
    "            attention_mask=torch.ones(input[:,:2*pad+2].shape, device=input.device),\n",
    "            pad_token_id=tokenizer.eos_token_id,\n",
    "        )\n",
    "        print(to_str(out[0]))\n",
    "        acc[(x_digits, y_digits)] = (out == input).all(dim=1).to(torch.float).mean().item()\n",
    "    return acc"
   ]
  },
  {
   "cell_type": "code",
   "execution_count": 68,
   "id": "c312d247-3fd6-4a13-812a-268e91636406",
   "metadata": {},
   "outputs": [],
   "source": [
    "def plot_acc(acc, max_digits):\n",
    "    acc_str = [\n",
    "        [f'{acc[(y+1, x+1)]:.2f}' for x in range(max_digits)] for y in range(max_digits)\n",
    "    ]\n",
    "    \n",
    "    fig, ax = plt.subplots()\n",
    "    table = ax.table(\n",
    "        cellText=acc_str, \n",
    "        loc='center', \n",
    "        cellLoc='center', \n",
    "        colWidths=[0.15 for _ in range(max_digits)],\n",
    "        colLabels=range(1, max_digits+1),\n",
    "        rowLabels=range(1, max_digits+1),\n",
    "    )\n",
    "    \n",
    "    for i in range(max_digits):\n",
    "        for j in range(max_digits):\n",
    "            color = plt.cm.viridis(acc[(i+1,j+1)])\n",
    "            table[(i+1, j)].set_facecolor(color)\n",
    "            if acc[(i+1,j+1)] < 0.5:\n",
    "                table[(i+1, j)].set_text_props(color='white')\n",
    "    ax.axis('off')\n",
    "    plt.show()"
   ]
  },
  {
   "cell_type": "code",
   "execution_count": 121,
   "id": "23f4826c-2bd0-403b-855f-37fbb8af70ee",
   "metadata": {},
   "outputs": [],
   "source": [
    "#state_dict = torch.load('/workspace/checkpoints/ARITH_GPT2_MAX8_REVERSE_RANDINIT_global_step=19531.0_train_loss=0.74.ckpt')['state_dict']\n",
    "#state_dict = torch.load('/workspace/checkpoints/ARITH_GPT2_MAX5_PAD5_REVERSE_RANDINIT_global_step=3509.0_train_loss=0.41.ckpt')['state_dict']\n",
    "state_dict = torch.load(\n",
    "    #'/workspace/checkpoints/ARITH_GPT2_MAX5_PAD5_REVERSE_RANDINIT_global_step=9759.0_train_loss=0.01.ckpt'\n",
    "    #'/workspace/checkpoints/ARITH_GPT2_MAX5_PAD10_REVERSE_RANDINIT_global_step=9759.0_train_loss=0.00.ckpt',\n",
    "    #'/workspace/checkpoints/ARITH_GPT2_MYOPIC_MAX5_PAD5_REVERSE_RANDINIT_global_step=8783.0_train_loss=0.04.ckpt',\n",
    "    '/workspace/checkpoints/ARITH_GPT2_MYOPIC_MAX5_PAD10_REVERSE_RANDINIT_global_step=8783.0_train_loss=0.07.ckpt',\n",
    ")['state_dict']\n",
    "model = AutoModelForCausalLM.from_pretrained('gpt2')\n",
    "model.load_state_dict({'.'.join(k.split('.')[1:]): v for k, v in state_dict.items()}, strict=False)\n",
    "model = model.to('cuda')"
   ]
  },
  {
   "cell_type": "code",
   "execution_count": 123,
   "id": "0d528b82-350f-4e4c-8202-03283eeb5ab6",
   "metadata": {},
   "outputs": [
    {
     "data": {
      "application/vnd.jupyter.widget-view+json": {
       "model_id": "eeea6ac36e404621beed128fcc853074",
       "version_major": 2,
       "version_minor": 0
      },
      "text/plain": [
       "  0%|          | 0/25 [00:00<?, ?it/s]"
      ]
     },
     "metadata": {},
     "output_type": "display_data"
    },
    {
     "name": "stdout",
     "output_type": "stream",
     "text": [
      "1 1\n",
      " 6 0 0 0 0 0 0 0 0 0 * 7 0 0 0 0 0 0 0 0 0 =| 2 4\n",
      " 6 0 0 0 0 0 0 0 0 0 * 7 0 0 0 0 0 0 0 0 0 = 2 4\n",
      "1 2\n",
      " 8 0 0 0 0 0 0 0 0 0 * 4 5 0 0 0 0 0 0 0 0 =| 2 3 4\n",
      " 8 0 0 0 0 0 0 0 0 0 * 4 5 0 0 0 0 0 0 0 0 = 2 3 4\n",
      "1 3\n",
      " 4 0 0 0 0 0 0 0 0 0 * 3 2 4 0 0 0 0 0 0 0 =| 2 9 6 1\n",
      " 4 0 0 0 0 0 0 0 0 0 * 3 2 4 0 0 0 0 0 0 0 = 2 9 6 1\n",
      "1 4\n",
      " 0 0 0 0 0 0 0 0 0 0 * 7 5 1 9 0 0 0 0 0 0 =| 0 0 0 0 0\n",
      " 0 0 0 0 0 0 0 0 0 0 * 7 5 1 9 0 0 0 0 0 0 = 0 0 0 0 0\n",
      "1 5\n",
      " 3 0 0 0 0 0 0 0 0 0 * 0 1 3 9 1 0 0 0 0 0 =| 0 3 9 7 5 0\n",
      " 3 0 0 0 0 0 0 0 0 0 * 0 1 3 9 1 0 0 0 0 0 = 0 3 9 7 5 0\n",
      "2 1\n",
      " 4 8 0 0 0 0 0 0 0 0 * 7 0 0 0 0 0 0 0 0 0 =| 8 8 5\n",
      " 4 8 0 0 0 0 0 0 0 0 * 7 0 0 0 0 0 0 0 0 0 = 8 8 5\n",
      "2 2\n",
      " 8 9 0 0 0 0 0 0 0 0 * 2 1 0 0 0 0 0 0 0 0 =| 6 7 1 1\n",
      " 8 9 0 0 0 0 0 0 0 0 * 2 1 0 0 0 0 0 0 0 0 = 6 7 1 1\n",
      "2 3\n",
      " 1 3 0 0 0 0 0 0 0 0 * 0 9 0 0 0 0 0 0 0 0 =| 0 9 7 2 0\n",
      " 1 3 0 0 0 0 0 0 0 0 * 0 9 0 0 0 0 0 0 0 0 = 0 9 7 2 0\n",
      "2 4\n",
      " 9 6 0 0 0 0 0 0 0 0 * 7 3 3 5 0 0 0 0 0 0 =| 3 5 2 8 6 3\n",
      " 9 6 0 0 0 0 0 0 0 0 * 7 3 3 5 0 0 0 0 0 0 = 3 5 2 8 6 3\n",
      "2 5\n",
      " 2 2 0 0 0 0 0 0 0 0 * 9 1 2 1 0 0 0 0 0 0 =| 8 1 8 6 2 0 0\n",
      " 2 2 0 0 0 0 0 0 0 0 * 9 1 2 1 0 0 0 0 0 0 = 8 1 8 6 2 0 0\n",
      "3 1\n",
      " 7 5 8 0 0 0 0 0 0 0 * 6 0 0 0 0 0 0 0 0 0 =| 2 4 1 5\n",
      " 7 5 8 0 0 0 0 0 0 0 * 6 0 0 0 0 0 0 0 0 0 = 2 4 1 5\n",
      "3 2\n",
      " 2 1 6 0 0 0 0 0 0 0 * 9 6 0 0 0 0 0 0 0 0 =| 8 2 2 2 4\n",
      " 2 1 6 0 0 0 0 0 0 0 * 9 6 0 0 0 0 0 0 0 0 = 8 2 2 2 4\n",
      "3 3\n",
      " 1 6 2 0 0 0 0 0 0 0 * 5 2 8 0 0 0 0 0 0 0 =| 5 2 3 5 1 2\n",
      " 1 6 2 0 0 0 0 0 0 0 * 5 2 8 0 0 0 0 0 0 0 = 5 2 3 5 1 2\n",
      "3 4\n",
      " 5 0 0 0 0 0 0 0 0 0 * 3 1 5 9 0 0 0 0 0 0 =| 5 6 5 7 4 0 0\n",
      " 5 0 0 0 0 0 0 0 0 0 * 3 1 5 9 0 0 0 0 0 0 = 5 6 5 7 4 0 0\n",
      "3 5\n",
      " 4 0 8 0 0 0 0 0 0 0 * 6 3 3 3 1 0 0 0 0 0 =| 4 4 1 2 2 7 0 1\n",
      " 4 0 8 0 0 0 0 0 0 0 * 6 3 3 3 1 0 0 0 0 0 = 4 4 1 2 2 7 0 1\n",
      "4 1\n",
      " 4 9 6 0 0 0 0 0 0 0 * 8 0 0 0 0 0 0 0 0 0 =| 2 5 5 5 0\n",
      " 4 9 6 0 0 0 0 0 0 0 * 8 0 0 0 0 0 0 0 0 0 = 2 5 5 5 0\n",
      "4 2\n",
      " 1 6 7 3 0 0 0 0 0 0 * 3 0 0 0 0 0 0 0 0 0 =| 3 8 2 1 1 0\n",
      " 1 6 7 3 0 0 0 0 0 0 * 3 0 0 0 0 0 0 0 0 0 = 3 8 2 1 1 0\n",
      "4 3\n",
      " 1 0 8 0 0 0 0 0 0 0 * 4 9 5 0 0 0 0 0 0 0 =| 4 9 7 5 7 4 0\n",
      " 1 0 8 0 0 0 0 0 0 0 * 4 9 5 0 0 0 0 0 0 0 = 4 9 7 5 7 4 0\n",
      "4 4\n",
      " 7 2 4 7 0 0 0 0 0 0 * 7 3 2 4 0 0 0 0 0 0 =| 9 9 1 8 6 4 1 3\n",
      " 7 2 4 7 0 0 0 0 0 0 * 7 3 2 4 0 0 0 0 0 0 = 9 9 1 8 0 5 1 3\n",
      "4 5\n",
      " 8 2 7 0 0 0 0 0 0 0 * 7 5 0 0 2 0 0 0 0 0 =| 6 9 4 1 0 6 4 1 0\n",
      " 8 2 7 0 0 0 0 0 0 0 * 7 5 0 0 2 0 0 0 0 0 = 6 9 4 1 0 6 4 1 0\n",
      "5 1\n",
      " 9 8 3 7 9 0 0 0 0 0 * 0 0 0 0 0 0 0 0 0 0 =| 0 0 0 0 0 0\n",
      " 9 8 3 7 9 0 0 0 0 0 * 0 0 0 0 0 0 0 0 0 0 = 0 0 0 0 0 0\n",
      "5 2\n",
      " 7 6 6 0 2 0 0 0 0 0 * 4 3 0 0 0 0 0 0 0 0 =| 8 7 6 2 0 7 0\n",
      " 7 6 6 0 2 0 0 0 0 0 * 4 3 0 0 0 0 0 0 0 0 = 8 7 6 2 0 7 0\n",
      "5 3\n",
      " 3 8 2 0 8 0 0 0 0 0 * 8 6 7 0 0 0 0 0 0 0 =| 4 4 3 7 5 6 1 6\n",
      " 3 8 2 0 8 0 0 0 0 0 * 8 6 7 0 0 0 0 0 0 0 = 4 4 3 7 5 6 1 6\n",
      "5 4\n",
      " 0 6 3 5 1 0 0 0 0 0 * 7 0 5 0 0 0 0 0 0 0 =| 0 2 5 7 8 7 7 0 0\n",
      " 0 6 3 5 1 0 0 0 0 0 * 7 0 5 0 0 0 0 0 0 0 = 0 2 5 7 8 7 7 0 0\n",
      "5 5\n",
      " 2 3 9 2 3 0 0 0 0 0 * 8 1 6 9 7 0 0 0 0 0 =| 6 7 9 9 7 9 1 2 6 2\n",
      " 2 3 9 2 3 0 0 0 0 0 * 8 1 6 9 7 0 0 0 0 0 = 6 7 9 9 1 0 1 2 6 2\n"
     ]
    }
   ],
   "source": [
    "acc = get_acc(model, 5, 10)"
   ]
  },
  {
   "cell_type": "code",
   "execution_count": 124,
   "id": "1ee6b4c7-1703-4c20-9cd4-303af444e3c1",
   "metadata": {},
   "outputs": [
    {
     "data": {
      "image/png": "[encoded data removed]",
      "text/plain": [
       "<Figure size 640x480 with 1 Axes>"
      ]
     },
     "metadata": {},
     "output_type": "display_data"
    }
   ],
   "source": [
    "plot_acc(acc, 5)"
   ]
  },
  {
   "cell_type": "raw",
   "id": "1c39f53a-beb6-4abf-9213-62a63e78e79b",
   "metadata": {},
   "source": [
    "pad5 vanilla:  0.36\n",
    "pad10 vanilla: 0.99\n",
    "pad5 myopic:   0.38\n",
    "pad10 myopic:  0.06"
   ]
  },
  {
   "cell_type": "code",
   "execution_count": null,
   "id": "d8b04e70-58a8-4775-b0bf-532e7698a283",
   "metadata": {},
   "outputs": [],
   "source": []
  },
  {
   "cell_type": "code",
   "execution_count": null,
   "id": "6ac2dabe-800d-4745-ae21-dc2a0305e33d",
   "metadata": {},
   "outputs": [],
   "source": []
  },
  {
   "cell_type": "code",
   "execution_count": null,
   "id": "4a9e1fa1-6d92-4ba0-a57e-2a4dcffb87dc",
   "metadata": {},
   "outputs": [],
   "source": []
  },
  {
   "cell_type": "code",
   "execution_count": 96,
   "id": "81764228-0056-41fd-90ba-04dab6813207",
   "metadata": {},
   "outputs": [],
   "source": [
    "lit_model = LitGPTModel.load_from_checkpoint(\n",
    "    '/workspace/checkpoints/ARITH_GPT2_MAX5_PAD10_REVERSE_RANDINIT_global_step=9759.0_train_loss=0.00.ckpt',\n",
    ")"
   ]
  },
  {
   "cell_type": "code",
   "execution_count": 77,
   "id": "425c7b3e-ca6d-45bb-a982-7d13bd79bbe0",
   "metadata": {},
   "outputs": [],
   "source": [
    "val = DataLoader(\n",
    "    MultiplicationDataset(\n",
    "        size=1024, \n",
    "        x_min_digits=5,\n",
    "        y_min_digits=5,\n",
    "        x_max_digits=5,\n",
    "        y_max_digits=5,\n",
    "        x_pad=10,\n",
    "        y_pad=10,\n",
    "        tokenizer=tokenizer\n",
    "    ), \n",
    "    batch_size=1024,\n",
    "    #num_workers=254,\n",
    ")"
   ]
  },
  {
   "cell_type": "code",
   "execution_count": 78,
   "id": "26eeeadd-bc80-45c1-8ec7-71e7f0da13c4",
   "metadata": {},
   "outputs": [],
   "source": [
    "batch = next(iter(val))\n",
    "batch['input_ids'] = batch['input_ids'].to('cuda')"
   ]
  },
  {
   "cell_type": "code",
   "execution_count": 79,
   "id": "e1212b15-f7a7-483d-9e89-814654c109a9",
   "metadata": {},
   "outputs": [
    {
     "data": {
      "text/plain": [
       "' 1 0 5 1 7 0 0 0 0 0 * 4 2 1 9 2 0 0 0 0 0 = 4 2 1 5 9 3 2 8 0 2'"
      ]
     },
     "execution_count": 79,
     "metadata": {},
     "output_type": "execute_result"
    }
   ],
   "source": [
    "to_str(batch['input_ids'][0])"
   ]
  },
  {
   "cell_type": "code",
   "execution_count": 80,
   "id": "b6148ae3-70f1-4d94-a208-4badeeb9a58a",
   "metadata": {},
   "outputs": [
    {
     "name": "stdout",
     "output_type": "stream",
     "text": [
      " 1 0 5 1 7 0 0 0 0 0 * 4 2 1 9 2 0 0 0 0 0 = 4 2 1 5 9 3 2 8 0 2\n",
      " 1 0 5 1 7 0 0 0 0 0 * 4 2 1 9 2 0 0 0 0 0 =\n",
      " 1 0 5 1 7 0 0 0 0 0 * 4 2 1 9 2 0 0 0 0 0 = 4 2 1 5 9 3 2 8 0 2\n",
      "tensor(0.8271, device='cuda:0')\n"
     ]
    }
   ],
   "source": [
    "x = batch['input_ids']\n",
    "x_cut = x[:,:model.acc_cutoff]\n",
    "out = model.model.generate(\n",
    "    x_cut, max_length=x.shape[-1],\n",
    "    attention_mask=torch.ones(x_cut.shape, device=x.device),\n",
    "    pad_token_id=50256, # tokenizer.eos_token_id\n",
    "    use_cache=False, # for compatibility with myopic model\n",
    ")\n",
    "print(to_str(x[0]))\n",
    "print(to_str(x_cut[0]))\n",
    "print(to_str(out[0]))\n",
    "print((out == x).all(dim=1).to(torch.float).mean())"
   ]
  },
  {
   "cell_type": "code",
   "execution_count": 85,
   "id": "b2353901-b8fe-41fb-903d-75b414b2302d",
   "metadata": {},
   "outputs": [
    {
     "name": "stdout",
     "output_type": "stream",
     "text": [
      " 1 0 5 1 7 0 0 0 0 0 * 4 2 1 9 2 0 0 0 0 0 = 4 2 1 5 9 3 2 8 0 2\n",
      "tensor(0.8115, device='cuda:0')\n"
     ]
    }
   ],
   "source": [
    "pad = 10\n",
    "x_digits = 5\n",
    "y_digits = 5\n",
    "val = DataLoader(\n",
    "        MultiplicationDataset(\n",
    "            size=1024,\n",
    "            x_min_digits=x_digits,\n",
    "            x_max_digits=x_digits,\n",
    "            y_min_digits=y_digits,\n",
    "            y_max_digits=y_digits,\n",
    "            x_pad=pad,\n",
    "            y_pad=pad,\n",
    "            tokenizer=tokenizer\n",
    "        ), \n",
    "        batch_size=1024,\n",
    ")\n",
    "out = model.model.generate(\n",
    "    x[:,:pad*2+2], \n",
    "    max_length=pad+pad+x_digits+y_digits+2,\n",
    "    attention_mask=torch.ones(x[:,:2*pad+2].shape, device=x.device),\n",
    "    pad_token_id=tokenizer.eos_token_id,\n",
    ")\n",
    "print(to_str(out[0]))\n",
    "print((out == x).all(dim=1).to(torch.float).mean())"
   ]
  },
  {
   "cell_type": "code",
   "execution_count": 87,
   "id": "9e14341e-1ea8-4e37-b065-66300d0f3cb3",
   "metadata": {},
   "outputs": [
    {
     "data": {
      "text/plain": [
       "0.8115234375"
      ]
     },
     "execution_count": 87,
     "metadata": {},
     "output_type": "execute_result"
    }
   ],
   "source": [
    "(out == x).all(dim=1).to(torch.float).mean().item()"
   ]
  },
  {
   "cell_type": "code",
   "execution_count": 111,
   "id": "ca4cabe6-a886-4df0-87e8-1f1aa9e822ff",
   "metadata": {},
   "outputs": [
    {
     "data": {
      "text/plain": [
       "GPT2LMHeadModel(\n",
       "  (transformer): GPT2Model(\n",
       "    (wte): Embedding(50257, 768)\n",
       "    (wpe): Embedding(1024, 768)\n",
       "    (drop): Dropout(p=0.1, inplace=False)\n",
       "    (h): ModuleList(\n",
       "      (0-11): 12 x GPT2Block(\n",
       "        (ln_1): LayerNorm((768,), eps=1e-05, elementwise_affine=True)\n",
       "        (attn): GPT2Attention(\n",
       "          (c_attn): Conv1D()\n",
       "          (c_proj): Conv1D()\n",
       "          (attn_dropout): Dropout(p=0.1, inplace=False)\n",
       "          (resid_dropout): Dropout(p=0.1, inplace=False)\n",
       "        )\n",
       "        (ln_2): LayerNorm((768,), eps=1e-05, elementwise_affine=True)\n",
       "        (mlp): GPT2MLP(\n",
       "          (c_fc): Conv1D()\n",
       "          (c_proj): Conv1D()\n",
       "          (act): NewGELUActivation()\n",
       "          (dropout): Dropout(p=0.1, inplace=False)\n",
       "        )\n",
       "      )\n",
       "    )\n",
       "    (ln_f): LayerNorm((768,), eps=1e-05, elementwise_affine=True)\n",
       "  )\n",
       "  (lm_head): Linear(in_features=768, out_features=50257, bias=False)\n",
       ")"
      ]
     },
     "execution_count": 111,
     "metadata": {},
     "output_type": "execute_result"
    }
   ],
   "source": [
    "lit_model.model.eval()"
   ]
  },
  {
   "cell_type": "code",
   "execution_count": 112,
   "id": "6de8cfd6-cd0e-49f3-8d55-2866de132b97",
   "metadata": {},
   "outputs": [
    {
     "name": "stdout",
     "output_type": "stream",
     "text": [
      "5 5\n",
      " 1 4 1 7 0 0 0 0 0 0 * 4 2 3 1 5 0 0 0 0 0 =| 4 8 6 4 0 5 6 6 3 0\n",
      " 1 4 1 7 0 0 0 0 0 0 * 4 2 3 1 5 0 0 0 0 0 = 4 8 6 4 0 5 6 6 3 0\n"
     ]
    },
    {
     "data": {
      "text/plain": [
       "0.9853515625"
      ]
     },
     "execution_count": 112,
     "metadata": {},
     "output_type": "execute_result"
    }
   ],
   "source": [
    "val = DataLoader(\n",
    "    MultiplicationDataset(\n",
    "        size=1024,\n",
    "        x_min_digits=x_digits,\n",
    "        x_max_digits=x_digits,\n",
    "        y_min_digits=y_digits,\n",
    "        y_max_digits=y_digits,\n",
    "        x_pad=pad,\n",
    "        y_pad=pad,\n",
    "        tokenizer=tokenizer\n",
    "    ), \n",
    "    batch_size=1024,\n",
    ")\n",
    "batch = next(iter(val))\n",
    "sample = batch['input_ids'][0]\n",
    "pre = sample[:pad*2+2]\n",
    "suf = sample[pad*2+2:]\n",
    "print(x_digits, y_digits)\n",
    "print(to_str(pre) + '|' + to_str(suf))\n",
    "input = batch['input_ids'].to('cuda')\n",
    "out = lit_model.model.generate(\n",
    "    input[:,:pad*2+2], \n",
    "    max_length=pad+pad+x_digits+y_digits+2,\n",
    "    attention_mask=torch.ones(input[:,:2*pad+2].shape, device=input.device),\n",
    "    pad_token_id=tokenizer.eos_token_id,\n",
    ")\n",
    "print(to_str(out[0]))\n",
    "(out == input).all(dim=1).to(torch.float).mean().item()"
   ]
  },
  {
   "cell_type": "code",
   "execution_count": 92,
   "id": "5a9b81fa-047c-4b4c-a842-5bb0d4718755",
   "metadata": {},
   "outputs": [
    {
     "data": {
      "text/plain": [
       "torch.float32"
      ]
     },
     "execution_count": 92,
     "metadata": {},
     "output_type": "execute_result"
    }
   ],
   "source": [
    "model.model.dtype"
   ]
  },
  {
   "cell_type": "code",
   "execution_count": 97,
   "id": "e3182e9c-cb76-4589-aba9-8533453e2cd8",
   "metadata": {},
   "outputs": [
    {
     "data": {
      "text/plain": [
       "GPT2LMHeadModel(\n",
       "  (transformer): GPT2Model(\n",
       "    (wte): Embedding(50257, 768)\n",
       "    (wpe): Embedding(1024, 768)\n",
       "    (drop): Dropout(p=0.1, inplace=False)\n",
       "    (h): ModuleList(\n",
       "      (0-11): 12 x GPT2Block(\n",
       "        (ln_1): LayerNorm((768,), eps=1e-05, elementwise_affine=True)\n",
       "        (attn): GPT2Attention(\n",
       "          (c_attn): Conv1D()\n",
       "          (c_proj): Conv1D()\n",
       "          (attn_dropout): Dropout(p=0.1, inplace=False)\n",
       "          (resid_dropout): Dropout(p=0.1, inplace=False)\n",
       "        )\n",
       "        (ln_2): LayerNorm((768,), eps=1e-05, elementwise_affine=True)\n",
       "        (mlp): GPT2MLP(\n",
       "          (c_fc): Conv1D()\n",
       "          (c_proj): Conv1D()\n",
       "          (act): NewGELUActivation()\n",
       "          (dropout): Dropout(p=0.1, inplace=False)\n",
       "        )\n",
       "      )\n",
       "    )\n",
       "    (ln_f): LayerNorm((768,), eps=1e-05, elementwise_affine=True)\n",
       "  )\n",
       "  (lm_head): Linear(in_features=768, out_features=50257, bias=False)\n",
       ")"
      ]
     },
     "execution_count": 97,
     "metadata": {},
     "output_type": "execute_result"
    }
   ],
   "source": [
    "model"
   ]
  },
  {
   "cell_type": "code",
   "execution_count": 102,
   "id": "744bb059-6f9b-4a70-ad70-1854016ad5d7",
   "metadata": {},
   "outputs": [
    {
     "data": {
      "text/plain": [
       "GPT2LMHeadModel(\n",
       "  (transformer): GPT2Model(\n",
       "    (wte): Embedding(50257, 768)\n",
       "    (wpe): Embedding(1024, 768)\n",
       "    (drop): Dropout(p=0.1, inplace=False)\n",
       "    (h): ModuleList(\n",
       "      (0-11): 12 x GPT2Block(\n",
       "        (ln_1): LayerNorm((768,), eps=1e-05, elementwise_affine=True)\n",
       "        (attn): GPT2Attention(\n",
       "          (c_attn): Conv1D()\n",
       "          (c_proj): Conv1D()\n",
       "          (attn_dropout): Dropout(p=0.1, inplace=False)\n",
       "          (resid_dropout): Dropout(p=0.1, inplace=False)\n",
       "        )\n",
       "        (ln_2): LayerNorm((768,), eps=1e-05, elementwise_affine=True)\n",
       "        (mlp): GPT2MLP(\n",
       "          (c_fc): Conv1D()\n",
       "          (c_proj): Conv1D()\n",
       "          (act): NewGELUActivation()\n",
       "          (dropout): Dropout(p=0.1, inplace=False)\n",
       "        )\n",
       "      )\n",
       "    )\n",
       "    (ln_f): LayerNorm((768,), eps=1e-05, elementwise_affine=True)\n",
       "  )\n",
       "  (lm_head): Linear(in_features=768, out_features=50257, bias=False)\n",
       ")"
      ]
     },
     "execution_count": 102,
     "metadata": {},
     "output_type": "execute_result"
    }
   ],
   "source": [
    "lit_model.model"
   ]
  },
  {
   "cell_type": "code",
   "execution_count": 106,
   "id": "fc7716ce-ba3a-4ba6-9e14-950d1f309dee",
   "metadata": {},
   "outputs": [
    {
     "data": {
      "text/plain": [
       "Parameter containing:\n",
       "tensor([[-0.0180,  0.0137,  0.0147,  ..., -0.0123,  0.0064,  0.0107],\n",
       "        [ 0.0230,  0.0045,  0.0110,  ...,  0.0075,  0.0079, -0.0317],\n",
       "        [-0.0324, -0.0106, -0.0046,  ..., -0.0034, -0.0275, -0.0051],\n",
       "        ...,\n",
       "        [ 0.0119,  0.0001,  0.0196,  ..., -0.0068,  0.0082,  0.0130],\n",
       "        [ 0.0215,  0.0026,  0.0178,  ..., -0.0088,  0.0095,  0.0053],\n",
       "        [ 0.0101,  0.0204,  0.0243,  ...,  0.0207, -0.0403,  0.0116]],\n",
       "       device='cuda:0', requires_grad=True)"
      ]
     },
     "execution_count": 106,
     "metadata": {},
     "output_type": "execute_result"
    }
   ],
   "source": [
    "model.transformer.h[5].attn.c_attn.weight"
   ]
  },
  {
   "cell_type": "code",
   "execution_count": 109,
   "id": "ca56d8ac-f720-4390-8e61-b487e6d0f53a",
   "metadata": {},
   "outputs": [
    {
     "data": {
      "text/plain": [
       "tensor(True, device='cuda:0')"
      ]
     },
     "execution_count": 109,
     "metadata": {},
     "output_type": "execute_result"
    }
   ],
   "source": [
    "(lit_model.model.transformer.h[5].attn.c_attn.weight == model.transformer.h[5].attn.c_attn.weight).all()"
   ]
  },
  {
   "cell_type": "code",
   "execution_count": null,
   "id": "0e9332c1-e815-4b08-b275-70bcda5c3b66",
   "metadata": {},
   "outputs": [],
   "source": []
  }
 ],
 "metadata": {
  "kernelspec": {
   "display_name": "Python 3 (ipykernel)",
   "language": "python",
   "name": "python3"
  },
  "language_info": {
   "codemirror_mode": {
    "name": "ipython",
    "version": 3
   },
   "file_extension": ".py",
   "mimetype": "text/x-python",
   "name": "python",
   "nbconvert_exporter": "python",
   "pygments_lexer": "ipython3",
   "version": "3.10.12"
  }
 },
 "nbformat": 4,
 "nbformat_minor": 5
}
