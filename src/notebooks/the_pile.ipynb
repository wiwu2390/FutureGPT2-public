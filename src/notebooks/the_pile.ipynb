{
 "cells": [
  {
   "cell_type": "code",
   "execution_count": 2,
   "id": "ed155776-452a-48fc-9e0e-5f92edb0763e",
   "metadata": {},
   "outputs": [],
   "source": [
    "import os\n",
    "os.environ['HF_HOME'] = '/workspace/cache/huggingface/'\n",
    "os.environ['HF_HOME'] = '/workspace/cache/huggingface/'\n",
    "os.chdir('/workspace/FutureGPT2/src/')\n",
    "\n",
    "import datasets\n",
    "from torch.utils.data import DataLoader\n",
    "from datasets import load_dataset\n",
    "from data.mmap_dataset import MMapIndexedDataset\n",
    "from tqdm.notebook import tqdm\n",
    "from transformers import AutoConfig, AutoModelForCausalLM, AutoTokenizer\n",
    "\n",
    "\n",
    "%load_ext autoreload\n",
    "%autoreload 2"
   ]
  },
  {
   "cell_type": "code",
   "execution_count": 3,
   "id": "3b8c2f0d-b707-4717-bf4f-a1db3e17437c",
   "metadata": {},
   "outputs": [
    {
     "name": "stdout",
     "output_type": "stream",
     "text": [
      "    reading sizes...\n",
      "    reading pointers...\n",
      "    reading document index...\n",
      "    creating numpy buffer of mmap...\n",
      "    creating memory view of numpy buffer...\n"
     ]
    }
   ],
   "source": [
    "PILE_PATH = '/workspace/corpus/pythia_pile_idxmaps/pile_0.87_deduped_text_document.bin'\n",
    "pile = MMapIndexedDataset(PILE_PATH, skip_warmup=True)"
   ]
  },
  {
   "cell_type": "code",
   "execution_count": 4,
   "id": "8340ba0d-0cdd-4e43-801e-dcffe3a7a769",
   "metadata": {},
   "outputs": [],
   "source": [
    "SEQ_LEN = 64\n",
    "SIZE = 20_000_000"
   ]
  },
  {
   "cell_type": "code",
   "execution_count": 5,
   "id": "0c54fe59-53ba-4ea4-97d7-129dd9fc8295",
   "metadata": {},
   "outputs": [
    {
     "data": {
      "application/vnd.jupyter.widget-view+json": {
       "model_id": "473d6bba7b2c4bf2b0fd1293dcc0dce5",
       "version_major": 2,
       "version_minor": 0
      },
      "text/plain": [
       "  0%|          | 0/134318121 [00:00<?, ?it/s]"
      ]
     },
     "metadata": {},
     "output_type": "display_data"
    }
   ],
   "source": [
    "data_list = []\n",
    "for x in tqdm(pile):\n",
    "    if len(x) >= SEQ_LEN:\n",
    "        data_list.append({'input_ids': x[:SEQ_LEN]})\n",
    "    if len(data_list) > SIZE:\n",
    "        break"
   ]
  },
  {
   "cell_type": "code",
   "execution_count": 7,
   "id": "4dbcc12e-f7e6-4084-8ed1-6e1d6ff3975a",
   "metadata": {},
   "outputs": [],
   "source": [
    "dataset = datasets.Dataset.from_list(data_list)"
   ]
  },
  {
   "cell_type": "code",
   "execution_count": 8,
   "id": "db152e0e-8fcc-4865-8cd2-0b7ae7218c24",
   "metadata": {},
   "outputs": [],
   "source": [
    "train_test = dataset.train_test_split(test_size=0.01)"
   ]
  },
  {
   "cell_type": "code",
   "execution_count": 10,
   "id": "0069d659-0c55-42d8-b24d-5622e2319561",
   "metadata": {},
   "outputs": [],
   "source": [
    "filename = f'/workspace/corpus/the_pile/pile_PYTHIA_{SEQ_LEN}tokens_20M'"
   ]
  },
  {
   "cell_type": "code",
   "execution_count": 11,
   "id": "2becd164-9f78-407a-b7ac-558ebd197aac",
   "metadata": {},
   "outputs": [
    {
     "data": {
      "application/vnd.jupyter.widget-view+json": {
       "model_id": "3db9735cfdb54bcbada88815d9e11db0",
       "version_major": 2,
       "version_minor": 0
      },
      "text/plain": [
       "Saving the dataset (0/6 shards):   0%|          | 0/19800000 [00:00<?, ? examples/s]"
      ]
     },
     "metadata": {},
     "output_type": "display_data"
    },
    {
     "data": {
      "application/vnd.jupyter.widget-view+json": {
       "model_id": "1ba44b28d1644909a3714ed684fba26b",
       "version_major": 2,
       "version_minor": 0
      },
      "text/plain": [
       "Saving the dataset (0/1 shards):   0%|          | 0/200001 [00:00<?, ? examples/s]"
      ]
     },
     "metadata": {},
     "output_type": "display_data"
    }
   ],
   "source": [
    "train_test.save_to_disk(filename)"
   ]
  },
  {
   "cell_type": "code",
   "execution_count": 13,
   "id": "c9abfff2-8476-4675-913b-112799b26534",
   "metadata": {},
   "outputs": [
    {
     "name": "stderr",
     "output_type": "stream",
     "text": [
      "Special tokens have been added in the vocabulary, make sure the associated word embeddings are fine-tuned or trained.\n"
     ]
    }
   ],
   "source": [
    "tokenizer = AutoTokenizer.from_pretrained('EleutherAI/pythia-14m')\n",
    "Token = {v: k for k, v in tokenizer.get_vocab().items()}"
   ]
  },
  {
   "cell_type": "code",
   "execution_count": 14,
   "id": "1b709dc6-7389-4361-812a-74ba03128862",
   "metadata": {},
   "outputs": [
    {
     "name": "stdout",
     "output_type": "stream",
     "text": [
      "ItĠisĠdone,ĠandĠsubmitted.ĠYouĠcanĠplayĠâĢľSurvivalĠofĠtheĠTastiestâĢĿĠonĠAndroid,ĠandĠonĠtheĠweb.ĠPlayingĠonĠtheĠwebĠworks,ĠbutĠyouĠhaveĠtoĠsimulateĠmulti-touchĠforĠtableĠmovingĠandĠthatĠcanĠbeĠaĠbitĠconfusing.ĊĊThereâĢĻsĠaĠlotĠIâĢĻdĠlikeĠto\n"
     ]
    }
   ],
   "source": [
    "print(''.join(Token[x] for x in dataset[0]['input_ids']))"
   ]
  },
  {
   "cell_type": "code",
   "execution_count": null,
   "id": "3536ac5b-978b-4f0a-8493-bb823962483a",
   "metadata": {},
   "outputs": [],
   "source": []
  }
 ],
 "metadata": {
  "kernelspec": {
   "display_name": "Python 3 (ipykernel)",
   "language": "python",
   "name": "python3"
  },
  "language_info": {
   "codemirror_mode": {
    "name": "ipython",
    "version": 3
   },
   "file_extension": ".py",
   "mimetype": "text/x-python",
   "name": "python",
   "nbconvert_exporter": "python",
   "pygments_lexer": "ipython3",
   "version": "3.10.12"
  }
 },
 "nbformat": 4,
 "nbformat_minor": 5
}
