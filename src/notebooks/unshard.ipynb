{
 "cells": [
  {
   "cell_type": "code",
   "execution_count": 12,
   "id": "1b1ab65b-ee0a-43f7-aef5-eaf34e846a91",
   "metadata": {},
   "outputs": [
    {
     "name": "stdout",
     "output_type": "stream",
     "text": [
      "The autoreload extension is already loaded. To reload it, use:\n",
      "  %reload_ext autoreload\n"
     ]
    }
   ],
   "source": [
    "import os\n",
    "os.environ['HF_HOME'] = '/workspace/cache/huggingface/'\n",
    "os.chdir('/workspace/FutureGPT2/src/')\n",
    "\n",
    "\n",
    "import numpy as np\n",
    "from torch import optim, nn, Tensor\n",
    "from torch.nn import functional as F\n",
    "import torch\n",
    "import wandb\n",
    "from transformers import AutoConfig, AutoModelForCausalLM, AutoTokenizer\n",
    "import transformers\n",
    "from inspect import signature, _ParameterKind\n",
    "import copy\n",
    "import gc\n",
    "import datasets\n",
    "from torch.utils.data import DataLoader\n",
    "from datasets import load_dataset, load_from_disk\n",
    "from matplotlib import pyplot as plt\n",
    "from itertools import islice\n",
    "from copy import deepcopy\n",
    "from glob import glob\n",
    "\n",
    "from models.myopic_model import *\n",
    "from models.gpt_model import *\n",
    "\n",
    "import lightning as L\n",
    "from lightning.pytorch.callbacks import ModelCheckpoint, LearningRateMonitor\n",
    "from lightning.pytorch.callbacks.early_stopping import EarlyStopping\n",
    "from lightning.pytorch.loggers import WandbLogger\n",
    "from lightning.pytorch.utilities.deepspeed import convert_zero_checkpoint_to_fp32_state_dict\n",
    "\n",
    "\n",
    "%load_ext autoreload\n",
    "%autoreload 2"
   ]
  },
  {
   "cell_type": "code",
   "execution_count": 2,
   "id": "d31913d4-c5ad-467d-9c79-83a878d02d3d",
   "metadata": {},
   "outputs": [],
   "source": [
    "# 5M examples sampled from the-pile. truncated to len 64\n",
    "train = load_dataset(\n",
    "    'EleutherAI/pile-deduped-pythia-random-sampled', \n",
    "    split='train'\n",
    ")\n",
    "train = train.rename_column('Tokens', 'input_ids')\n",
    "train = train.remove_columns([c for c in train.column_names if c != 'input_ids'])\n",
    "train = train.cast_column('input_ids', datasets.Sequence(datasets.Value('int64')))\n",
    "train = train.with_format('torch')\n",
    "train_loader = DataLoader(train, batch_size=32)#, num_workers=96)"
   ]
  },
  {
   "cell_type": "code",
   "execution_count": 13,
   "id": "776d8e29-31a3-4887-9838-23bf35f6c735",
   "metadata": {},
   "outputs": [
    {
     "data": {
      "application/vnd.jupyter.widget-view+json": {
       "model_id": "61ad46a11ee845b8a1e6b05da4718e38",
       "version_major": 2,
       "version_minor": 0
      },
      "text/plain": [
       "Casting the dataset:   0%|          | 0/200001 [00:00<?, ? examples/s]"
      ]
     },
     "metadata": {},
     "output_type": "display_data"
    }
   ],
   "source": [
    "train = load_from_disk('/workspace/corpus/the_pile/pile_PYTHIA_64tokens_20M')['test']\n",
    "train = train.cast_column('input_ids', datasets.Sequence(datasets.Value('int64')))\n",
    "train = train.with_format('torch')\n",
    "train_loader = DataLoader(train, batch_size=32)#, num_workers=96)"
   ]
  },
  {
   "cell_type": "code",
   "execution_count": 14,
   "id": "6127bb2c-b09f-4103-a752-e86a08241b64",
   "metadata": {},
   "outputs": [],
   "source": [
    "x = next(iter(train_loader))['input_ids'].to('cuda')"
   ]
  },
  {
   "cell_type": "code",
   "execution_count": null,
   "id": "e161834e-aecf-45f8-b384-00a3ba1fc1b1",
   "metadata": {},
   "outputs": [],
   "source": [
    "outs = []\n",
    "for path in glob('/workspace/checkpoints/checkpoints_PYTHIA/checkpoints/*'):\n",
    "    out = path.replace('/checkpoints_PYTHIA/checkpoints/', '/checkpoints_PYTHIA_UNSHARD/')\n",
    "    print(path.split('/')[-1])\n",
    "    convert_zero_checkpoint_to_fp32_state_dict(path, out)\n",
    "    outs.append(out)"
   ]
  },
  {
   "cell_type": "code",
   "execution_count": 10,
   "id": "97eeb1c2-1859-4135-888d-60a9fbf25b9d",
   "metadata": {},
   "outputs": [
    {
     "data": {
      "text/plain": [
       "'2.8b_lr_6.40e'"
      ]
     },
     "execution_count": 10,
     "metadata": {},
     "output_type": "execute_result"
    }
   ],
   "source": [
    "outs[0].split('-')[4]"
   ]
  },
  {
   "cell_type": "code",
   "execution_count": 20,
   "id": "6c2f5a6d-675f-4b76-9063-6c0c8852b809",
   "metadata": {},
   "outputs": [
    {
     "name": "stdout",
     "output_type": "stream",
     "text": [
      "/workspace/checkpoints/checkpoints_PYTHIA_UNSHARD/PYTHIA-PILE10M64-MYOPIC-fp16_model_name_pythia-1.4b_lr_8.00e-05_warmup_5.00e-02_global_step=1627.0_train_loss=2.71.ckpt\n",
      "2.6146345138549805\n",
      "/workspace/checkpoints/checkpoints_PYTHIA_UNSHARD/PYTHIA-PILE10M64-MYOPIC-fp16_model_name_pythia-14m_lr_4.00e-04_warmup_5.00e-02_global_step=1627.0_train_loss=4.27.ckpt\n",
      "4.178765296936035\n",
      "/workspace/checkpoints/checkpoints_PYTHIA_UNSHARD/PYTHIA-PILE10M64-MYOPIC-fp16_model_name_pythia-160m_lr_2.40e-04_warmup_5.00e-02_global_step=1627.0_train_loss=3.13.ckpt\n",
      "3.055554151535034\n",
      "/workspace/checkpoints/checkpoints_PYTHIA_UNSHARD/PYTHIA-PILE10M64-MYOPIC-fp16_model_name_pythia-1b_lr_1.20e-04_warmup_5.00e-02_global_step=1627.0_train_loss=2.78.ckpt\n",
      "2.665820360183716\n",
      "/workspace/checkpoints/checkpoints_PYTHIA_UNSHARD/PYTHIA-PILE10M64-MYOPIC-fp16_model_name_pythia-31m_lr_4.00e-04_warmup_5.00e-02_global_step=1627.0_train_loss=3.84.ckpt\n",
      "3.7549569606781006\n",
      "/workspace/checkpoints/checkpoints_PYTHIA_UNSHARD/PYTHIA-PILE10M64-MYOPIC-fp16_model_name_pythia-410m_lr_1.20e-04_warmup_5.00e-02_global_step=1627.0_train_loss=2.89.ckpt\n",
      "2.805889844894409\n",
      "/workspace/checkpoints/checkpoints_PYTHIA_UNSHARD/PYTHIA-PILE10M64-MYOPIC-fp16_model_name_pythia-70m_lr_1.20e-04_warmup_5.00e-02_global_step=1627.0_train_loss=3.48.ckpt\n",
      "3.386439085006714\n",
      "/workspace/checkpoints/checkpoints_PYTHIA_UNSHARD/PYTHIA-PILE10M64-VANILLA-fp16_model_name_pythia-1.4b_lr_8.00e-05_warmup_5.00e-02_global_step=1627.0_train_loss=2.54.ckpt\n",
      "2.444899559020996\n",
      "/workspace/checkpoints/checkpoints_PYTHIA_UNSHARD/PYTHIA-PILE10M64-VANILLA-fp16_model_name_pythia-14m_lr_4.00e-04_warmup_5.00e-02_global_step=1627.0_train_loss=4.11.ckpt\n",
      "4.022277355194092\n",
      "/workspace/checkpoints/checkpoints_PYTHIA_UNSHARD/PYTHIA-PILE10M64-VANILLA-fp16_model_name_pythia-160m_lr_2.40e-04_warmup_5.00e-02_global_step=1627.0_train_loss=3.03.ckpt\n",
      "2.9379000663757324\n",
      "/workspace/checkpoints/checkpoints_PYTHIA_UNSHARD/PYTHIA-PILE10M64-VANILLA-fp16_model_name_pythia-1b_lr_1.20e-04_warmup_5.00e-02_global_step=1627.0_train_loss=2.62.ckpt\n",
      "2.504159688949585\n",
      "/workspace/checkpoints/checkpoints_PYTHIA_UNSHARD/PYTHIA-PILE10M64-VANILLA-fp16_model_name_pythia-31m_lr_4.00e-04_warmup_5.00e-02_global_step=1627.0_train_loss=3.73.ckpt\n",
      "3.6415317058563232\n",
      "/workspace/checkpoints/checkpoints_PYTHIA_UNSHARD/PYTHIA-PILE10M64-VANILLA-fp16_model_name_pythia-410m_lr_1.20e-04_warmup_5.00e-02_global_step=1627.0_train_loss=2.74.ckpt\n",
      "2.686691999435425\n",
      "/workspace/checkpoints/checkpoints_PYTHIA_UNSHARD/PYTHIA-PILE10M64-VANILLA-fp16_model_name_pythia-70m_lr_1.20e-04_warmup_5.00e-02_global_step=1627.0_train_loss=3.44.ckpt\n",
      "3.3291399478912354\n",
      "/workspace/checkpoints/checkpoints_PYTHIA_UNSHARD/PYTHIA-PILE10M64-VANILLA-fp16_model_name_pythia-2.8b_lr_6.40e-05_warmup_5.00e-02_global_step=1627.0_train_loss=2.44.ckpt\n",
      "2.3234047889709473\n",
      "/workspace/checkpoints/checkpoints_PYTHIA_UNSHARD/PYTHIA-PILE10M64-MYOPIC-fp16_model_name_pythia-2.8b_lr_6.40e-05_warmup_5.00e-02_global_step=1627.0_train_loss=2.67.ckpt\n",
      "2.572026014328003\n"
     ]
    }
   ],
   "source": [
    "for out in glob('/workspace/checkpoints/checkpoints_PYTHIA_UNSHARD/*'):\n",
    "    print(out)\n",
    "    state = torch.load(out)['state_dict']\n",
    "    state = {'.'.join(k.split('.')[1:]): v for k, v in state.items()}\n",
    "    config = AutoConfig.from_pretrained('EleutherAI/pythia-' + out.split('-')[4].split('_')[0])\n",
    "    model = AutoModelForCausalLM.from_config(config=config)\n",
    "    model.load_state_dict(state)\n",
    "    model = model.to('cuda')\n",
    "    out = model(input_ids=x, labels=x)\n",
    "    print(out.loss.item())"
   ]
  },
  {
   "cell_type": "code",
   "execution_count": null,
   "id": "16a71eb1-8eeb-4b68-b08b-b9bf4ffb69e5",
   "metadata": {},
   "outputs": [],
   "source": [
    "\n",
    "# lightning deepspeed has saved a directory instead of a file\n",
    "prefix = '/workspace/checkpoints/checkpoints_PYTHIA/'\n",
    "save_path = prefix+\\\n",
    "'PYTHIA-MYOPIC_model_name-pythia-1b_lr-0.00011999999999999999_global_step=1220.0_train_loss=3.01.ckpt'\n",
    "output_path = save_path.replace('checkpoints_PYTHIA', 'checkpoints_PYTHIA_UNSHARD')\n",
    "print(output_path)\n"
   ]
  },
  {
   "cell_type": "code",
   "execution_count": 4,
   "id": "b52160a3-d28f-4b44-b2c4-899958aa963f",
   "metadata": {},
   "outputs": [],
   "source": [
    "path = '/workspace/checkpoints/checkpoints_PYTHIA_UNSHARD/PYTHIA-PILE10M64-MYOPIC-fp16_model_name_pythia-70m_lr_1.20e-04_warmup_5.00e-02_global_step=1627.0_train_loss=3.48.ckpt'"
   ]
  },
  {
   "cell_type": "code",
   "execution_count": 8,
   "id": "2adaf6e2-f3e5-4fdd-873a-d5e9dc40d432",
   "metadata": {},
   "outputs": [],
   "source": [
    "state = torch.load(path)['state_dict']\n",
    "state = {'.'.join(k.split('.')[1:]): v for k, v in state.items()}\n",
    "config = AutoConfig.from_pretrained('EleutherAI/pythia-' + path.split('-')[4].split('_')[0])\n",
    "config.upcast_attn = True\n",
    "model = AutoModelForCausalLM.from_config(config=config)\n",
    "model.load_state_dict(state)\n",
    "model = model.to('cuda')"
   ]
  },
  {
   "cell_type": "code",
   "execution_count": 15,
   "id": "b41f2614-f410-4bfe-9a96-c62736064069",
   "metadata": {},
   "outputs": [],
   "source": [
    "with torch.autocast(dtype=torch.float16, device_type='cuda'):\n",
    "    out = model(input_ids=x, labels=x)\n",
    "    out.loss"
   ]
  },
  {
   "cell_type": "code",
   "execution_count": 16,
   "id": "627290ef-aa04-4626-b819-596a972753c8",
   "metadata": {},
   "outputs": [
    {
     "data": {
      "text/plain": [
       "tensor(3.4142, device='cuda:0', grad_fn=<NllLossBackward0>)"
      ]
     },
     "execution_count": 16,
     "metadata": {},
     "output_type": "execute_result"
    }
   ],
   "source": [
    "out.loss"
   ]
  },
  {
   "cell_type": "code",
   "execution_count": 7,
   "id": "4a0155c9-0f28-4e30-9fb4-824819508861",
   "metadata": {},
   "outputs": [
    {
     "data": {
      "text/plain": [
       "False"
      ]
     },
     "execution_count": 7,
     "metadata": {},
     "output_type": "execute_result"
    }
   ],
   "source": [
    "config.upcast_attn"
   ]
  },
  {
   "cell_type": "code",
   "execution_count": 17,
   "id": "ae9b8aa1-7f6e-41d5-a722-efeef1799a4e",
   "metadata": {},
   "outputs": [
    {
     "name": "stderr",
     "output_type": "stream",
     "text": [
      "Special tokens have been added in the vocabulary, make sure the associated word embeddings are fine-tuned or trained.\n"
     ]
    }
   ],
   "source": [
    "tokenizer = AutoTokenizer.from_pretrained('EleutherAI/pythia-14m')\n",
    "Token = {v: k for k, v in tokenizer.get_vocab().items()}"
   ]
  },
  {
   "cell_type": "code",
   "execution_count": 19,
   "id": "64dccfc6-09fa-47e2-b601-4adb1fb600e3",
   "metadata": {},
   "outputs": [
    {
     "data": {
      "text/plain": [
       "'AvoidingĠprematurityĠinĠelectiveĠrepeatĠcesareanĠsection.ĠAĠroleĠforĠamnioticĠfluidĠphosphatidylglycerol.ĊAĠprospectiveĠstudyĠwasĠundertakenĠinĠ107ĠelectiveĠrepeatĠcesareanĠdeliveriesĠinĠwhichĠtheĠlecithin/sphingomyelinĠ(L/S)ĠratioĠwasĠpositive.ĠTheĠfrequencyĠofĠneonatalĠcomplications'"
      ]
     },
     "execution_count": 19,
     "metadata": {},
     "output_type": "execute_result"
    }
   ],
   "source": [
    "''.join(Token[t.item()] for t in x[0])"
   ]
  },
  {
   "cell_type": "code",
   "execution_count": null,
   "id": "ef7e8416-deb0-4af2-8331-52b02e6cb7ea",
   "metadata": {},
   "outputs": [],
   "source": []
  }
 ],
 "metadata": {
  "kernelspec": {
   "display_name": "Python 3 (ipykernel)",
   "language": "python",
   "name": "python3"
  },
  "language_info": {
   "codemirror_mode": {
    "name": "ipython",
    "version": 3
   },
   "file_extension": ".py",
   "mimetype": "text/x-python",
   "name": "python",
   "nbconvert_exporter": "python",
   "pygments_lexer": "ipython3",
   "version": "3.10.12"
  }
 },
 "nbformat": 4,
 "nbformat_minor": 5
}
